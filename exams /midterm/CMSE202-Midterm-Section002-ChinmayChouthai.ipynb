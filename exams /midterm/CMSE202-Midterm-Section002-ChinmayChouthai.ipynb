{
 "cells": [
  {
   "cell_type": "markdown",
   "id": "d70b1917",
   "metadata": {},
   "source": [
    "### <p style=\"text-align: right;\"> &#9989; Chinmay Chouthai</p>\n",
    "### <p style=\"text-align: right;\"> &#9989; ChinmayNC</p>"
   ]
  },
  {
   "cell_type": "markdown",
   "id": "59201064",
   "metadata": {},
   "source": [
    "# CMSE 202 Midterm (Section 002 - SS25)\n",
    "\n",
    "\n",
    "# &#128721; READ EVERYTHING CAREFULLY\n",
    "\n",
    "\n",
    "The goal of this midterm is to give you the opportunity to test out some of the skills that you've developed thus far this semester. In particular, you'll practice setting up a GitHub repository, committing and pushing repository changes, downloading data with command line tools, performing some data analysis, possibly using a new Python package, and writing a python class. You should find that you have all of the skills necessary to complete this exam with even just eight weeks of CMSE 202 under your belt!\n",
    "\n",
    "You are encouraged to look through the entire exam before you get started so that you can appropriately budget your time and understand the broad goals of the exam. Once you've read through it, try doing Parts 1 and 2 first so that you have your repository set up and you download all necessary data files as they will be necessary to complete the assigned tasks. Let your instructor know right away if you have problems downloading the data!\n",
    "\n",
    "The exam is set up so that even if you get stuck on one part there are opportunities to get points on the other parts, so consider jumping ahead if you feel like you aren't making progress and then come back later if you have time.\n",
    "\n",
    "**Important note about using online resources**: This exam is **\"open internet\"**. That means that you can look up documentation, google how to accomplish certain Python tasks, reference and use your in-class assignments, pre-class assignments and homework, etc. Being able to effectively use the internet for computational modeling and data science is a very important skill, so we want to make sure you have the opportunity to exercise that skill. **However**: The use of any person-to-person communication software is absolutely not acceptable. If you are seen accessing your email, using a chat program (e.g. Slack), or any sort of collaborative cloud storage or document software (e.g. Google Documents), you will be at risk for receiving a zero on the exam.\n",
    "\n",
    "**Important Guidelines on AI Tool Usage**\n",
    "\n",
    "This exam allows the use of AI tools (such as ChatGPT, Claude, HiTA) with specific guidelines that mirror real-world professional practices. These tools should enhance your learning and problem-solving process, not replace your intellectual engagement. Here are the key requirements:\n",
    "\n",
    "1. **Appropriate Use of AI**:\n",
    "   - Use AI as a learning assistant to understand concepts, debug code, or get unstuck\n",
    "   - Use AI to improve your solution approach or verify your thinking\n",
    "   - Use AI to learn about new Python packages or functions you might need\n",
    "\n",
    "2. **Prohibited Uses**:\n",
    "   - Direct copying of AI-generated solutions without understanding\n",
    "   - Asking AI to complete entire questions without your intellectual input\n",
    "   - Using AI to modify provided starter code or test cases\n",
    "   - Using AI to circumvent learning objectives or problem requirements\n",
    "\n",
    "3. **Documentation Requirements**:\n",
    "   - You must cite any AI assistance received by adding a comment that includes:\n",
    "     * The AI tool used\n",
    "     * The specific question you asked\n",
    "     * How you modified or improved upon the AI's suggestion\n",
    "   - Example: \"# AI assistance: Used Claude to understand lmfit parameter initialization. Modified the suggested approach to include custom bounds.\"\n",
    "\n",
    "4. **Evaluation Implications**:\n",
    "   - Questions showing signs of direct AI solution copying will receive zero points\n",
    "   - Evidence of not following problem instructions, even if AI-suggested, will result in zero points\n",
    "   - Modified starter code or test cases will result in zero points for that question\n",
    "\n",
    "Remember: The goal is to demonstrate your understanding and problem-solving abilities. AI tools should support your learning, not replace your critical thinking and coding skills.\n",
    "\n",
    "**Note**: Traditional open internet resources (documentation, Stack Overflow, etc.) remain available, but person-to-person communication tools are not permitted.\"\n",
    "\n",
    "**Keep your eyes on your screen!** Unfortunately, there isn't enough space in the room for everyone to sit at their own table so please do your best to keep your eyes on your own screen. This exam is designed to give *you* the opportunity to show the instructor what you can do and you should hold yourself accountable for maintaining a high level of academic integrity. If any of the instructors observe suspicious behavior, you will, again, risk receiving a zero.\n",
    "\n",
    "The maximum number of points is: **88 Points**"
   ]
  },
  {
   "cell_type": "markdown",
   "id": "1134d11f",
   "metadata": {},
   "source": [
    "![star](https://media.giphy.com/media/xT9IgEYXCNqPZnqMuY/giphy.gif?cid=790b761114d73fop8879b63i6lpgjulam3sgmg7gib5vksnd&ep=v1_gifs_search&rid=giphy.gif&ct=g)"
   ]
  },
  {
   "cell_type": "markdown",
   "id": "1f1d868f",
   "metadata": {},
   "source": [
    "## Table of Contents\n",
    "\n",
    "Navigate through the midterm using these links:\n",
    "\n",
    "* [Part 0: Academic integrity statement (1 point)](#part-0-academic-integrity-statement-1-point)\n",
    "* [Part 1: Git and Command Line Interface (9 points)](#part-1-git-and-command-line-interface-9-points)\n",
    "* [Part 2: Working with a less familiar Python package (13 points)](#part-2-working-with-a-less-familiar-python-package-13-points)\n",
    "* [Part 3: Downloading and analyzing unfamiliar data (24 points)](#part-3-downloading-and-analyzing-unfamiliar-data-24-points)\n",
    "* [Part 4: Object-Oriented Programming (38 points)](#part-4-object-oriented-programming-38-points)\n",
    "* [Part 5. Conclusion (3 points)](#part-5-conclusion-3-points)"
   ]
  },
  {
   "cell_type": "markdown",
   "id": "b47a797c",
   "metadata": {},
   "source": [
    "---\n",
    "<a id=\"part-0-academic-integrity-statement-1-point\"></a>\n",
    "\n",
    "# Part 0: Academic integrity statement (1 point)\n",
    "\n",
    "[Back to Table of Contents](#Table-of-Contents)\n",
    "\n",
    "Read the following statement and edit the markdown text to put your name in the statement. This is your commitment to doing your own authentic work on this exam."
   ]
  },
  {
   "cell_type": "markdown",
   "id": "64f82697",
   "metadata": {},
   "source": [
    "> I, **Chinmay Chouthai **, affirm that this exam represents my own authetic work, without the use of any unpermitted aids or resources or person-to-person communication. I understand that this exam an an opportunity to showcase my own progress in developing and improving my computational skills and have done my best to demonstrate those skills."
   ]
  },
  {
   "cell_type": "markdown",
   "id": "aade4f33",
   "metadata": {},
   "source": [
    "---\n",
    "<a id=\"part-1-git-and-command-line-interface-9-points\"></a>\n",
    "\n",
    "# Part 1: Git and Command Line Interface (9 points)\n",
    "\n",
    "[Back to Table of Contents](#Table-of-Contents)\n",
    "\n",
    "## Setup Instructions\n",
    "\n",
    "Before starting this section:\n",
    "1. Open a new terminal/powershell/command prompt window\n",
    "2. (Optional) Arrange your screen with this notebook on the left side and the terminal on the right side. This split-screen setup will help you work efficiently between the notebook and terminal\n",
    "\n",
    "**Important**: Even if your terminal opens in the correct directory, you must write out the full commands as if starting from your home directory."
   ]
  },
  {
   "cell_type": "markdown",
   "id": "4757287d",
   "metadata": {},
   "source": [
    "&#9989; **Question 1.1 (2 points)**: Move into your `cmse202-s25-turnin` folder and verify your location. This folder should be the local one you created for your homework on Github. If you do not have this folder, raise your hand and we will help you set it up.\n",
    "\n",
    "Write the commands you used below (minimum 2 lines):"
   ]
  },
  {
   "cell_type": "markdown",
   "id": "efa27a7b",
   "metadata": {
    "question_id": "P1Q1",
    "tags": [
     "student_answer"
    ]
   },
   "source": [
    "**<font size=+3>&#9998;</font> cd CMSE202-s25-turnin \n",
    "mv CMSE202Midterm-section-002 CMSE202-s25-turnin "
   ]
  },
  {
   "cell_type": "markdown",
   "id": "2f2207da",
   "metadata": {},
   "source": [
    "&#9989; **Question 1.2 (2 points)**: Create the following directory structure in your repository:\n",
    "```\n",
    "cmse202-s25-turnin/\n",
    "    └── exams/\n",
    "        ├── midterm/\n",
    "        └── final/\n",
    "```\n",
    "Write the commands you used to create these folders:"
   ]
  },
  {
   "cell_type": "markdown",
   "id": "17cec07d",
   "metadata": {
    "question_id": "P1Q2",
    "tags": [
     "student_answer"
    ]
   },
   "source": [
    "**<font size=+3>&#9998;</font> mkdir exams cd exams mkdir midterm mkdir final "
   ]
  },
  {
   "cell_type": "markdown",
   "id": "9809047d",
   "metadata": {},
   "source": [
    "&#9989; **Question 1.3 (1 point)**: Write the commands to move this notebook into the `midterm` folder:"
   ]
  },
  {
   "cell_type": "markdown",
   "id": "b7c93a91",
   "metadata": {
    "question_id": "P1Q3",
    "tags": [
     "student_answer"
    ]
   },
   "source": [
    "**<font size=+3>&#9998;</font> cd midterm mv CMSE202-Midterm-Section002 midterm "
   ]
  },
  {
   "cell_type": "markdown",
   "id": "359a1ad0",
   "metadata": {},
   "source": [
    "&#9989; **Question 1.4 (2 points)**: Check your repository status.\n",
    "\n",
    "Write the command you used: git status "
   ]
  },
  {
   "cell_type": "markdown",
   "id": "32452880",
   "metadata": {
    "question_id": "P1Q4",
    "tags": [
     "student_answer"
    ]
   },
   "source": [
    "**<font size=+3>&#9998;</font> Do This**: On branch main\n",
    "Your branch is up to date with 'origin/main'.\n",
    "\n",
    "Changes not staged for commit:\n",
    "  (use \"git add <file>...\" to update what will be committed)\n",
    "  (use \"git restore <file>...\" to discard changes in working directory)\n",
    "        modified:   hw-01/HW-01_GitPracticeDebuggingPythonPackagesAndClasses-SS25-STUDENT.ipynb\n",
    "\n",
    "Untracked files:\n",
    "  (use \"git add <file>...\" to include in what will be committed)\n",
    "        exams /\n",
    "\n",
    "no changes added to commit (use \"git add\" and/or \"git commit -a\")\n",
    "(base) chouthai@io:~/Cmse202-sem2/CMSE202-s25-turnin$ "
   ]
  },
  {
   "cell_type": "markdown",
   "id": "fefc1655",
   "metadata": {
    "question_id": "P1Q4",
    "tags": [
     "student_answer"
    ]
   },
   "source": [
    "**<font size=+3>&#9998;</font> Do This**: *git status .*"
   ]
  },
  {
   "cell_type": "markdown",
   "id": "29792cc2",
   "metadata": {},
   "source": [
    "&#9989; **Question 1.5 (1 point)**: Do you have any untracked files? Confirm you don't have any untracked files. The only file we want to track is CMSE202-Midterm-Section001-STUDENT. Write down the commands used to either confirm you don't have any untracked files, or the commands you used to track your file."
   ]
  },
  {
   "cell_type": "markdown",
   "id": "94c946d5",
   "metadata": {
    "question_id": "P1Q5",
    "tags": [
     "student_answer"
    ]
   },
   "source": [
    "**<font size=+3>&#9998;</font> Do This**: ** git status "
   ]
  },
  {
   "cell_type": "markdown",
   "id": "6899637a",
   "metadata": {},
   "source": [
    "&#9989; **Question 1.6 (1 point)**: Commit your changes with the message \"Committing Part 1 of midterm\" and push to GitHub.\n",
    "\n",
    "Write the commands you used: git add . git commit -m \" commiting part 1 of midterm\" git push origin main "
   ]
  },
  {
   "cell_type": "markdown",
   "id": "106bd161",
   "metadata": {
    "question_id": "P1Q6",
    "tags": [
     "student_answer"
    ]
   },
   "source": [
    "**<font size=+3>&#9998;</font> Do This**: git add . git commit -m \" commiting part 1 of midterm\" git push origin main "
   ]
  },
  {
   "cell_type": "markdown",
   "id": "3021170c",
   "metadata": {},
   "source": [
    "**Important**: Double check you've added your Professor and your TA as collaborators to your \"turnin\" respository (you should have done this in the previous homework assignment)"
   ]
  },
  {
   "cell_type": "markdown",
   "id": "990abf6b",
   "metadata": {},
   "source": [
    "**Also important**: Make sure that the version of this notebook that you are working on is the same one that you just added to your repository! If you are working on a different copy of the noteobok, none of your changes will be tracked!"
   ]
  },
  {
   "cell_type": "markdown",
   "id": "b41bfa88",
   "metadata": {},
   "source": [
    "--- \n",
    "<a id=\"part-2-working-with-a-less-familiar-python-package-13-points\"></a>\n",
    "\n",
    "# Part 2: Working with a less familiar Python package (13 points)\n",
    "\n",
    "[Back to Table of Contents](#Table-of-Contents)\n",
    "\n",
    "In this part of the exam you will need to review a bit of documentation from either a Python package that you've explored a bit this semester or a new one.\n",
    "\n",
    "Let's install and use the plotly package"
   ]
  },
  {
   "cell_type": "markdown",
   "id": "5ad13a1b",
   "metadata": {},
   "source": [
    "&#9989; **Question 2.1 (2 points)**: Install the package `plotly` using `pip`. Here is the link to the [documentation]( https://plotly.com/python/)\n"
   ]
  },
  {
   "cell_type": "code",
   "execution_count": null,
   "id": "7cdc59fe",
   "metadata": {
    "question_id": "P1Q5",
    "tags": [
     "student_answer"
    ]
   },
   "outputs": [],
   "source": [
    "# Put your code/commands here  \n",
    "pip install plotly "
   ]
  },
  {
   "cell_type": "markdown",
   "id": "53fd0b11",
   "metadata": {},
   "source": [
    "&#9989; **Question 2.2 (2 points)**: Load in any dataset of your choice from [here]( https://plotly.com/python-api-reference/generated/plotly.data.html ). Assign this data as the variable \"my_plotly_data\" and then display this data."
   ]
  },
  {
   "cell_type": "code",
   "execution_count": 3,
   "id": "32d1b3d8",
   "metadata": {
    "question_id": "P1Q5",
    "tags": [
     "student_answer"
    ]
   },
   "outputs": [
    {
     "name": "stdout",
     "output_type": "stream",
     "text": [
      "     centroid_lat  centroid_lon    car_hours  peak_hour\n",
      "0       45.471549    -73.588684  1772.750000          2\n",
      "1       45.543865    -73.562456   986.333333         23\n",
      "2       45.487640    -73.642767   354.750000         20\n",
      "3       45.522870    -73.595677   560.166667         23\n",
      "4       45.453971    -73.738946  2836.666667         19\n",
      "..            ...           ...          ...        ...\n",
      "244     45.547171    -73.556258   951.416667          3\n",
      "245     45.546482    -73.574939   795.416667          2\n",
      "246     45.495523    -73.627725   425.750000          8\n",
      "247     45.521199    -73.581789  1044.833333         17\n",
      "248     45.532564    -73.567535   694.916667          5\n",
      "\n",
      "[249 rows x 4 columns]\n"
     ]
    }
   ],
   "source": [
    "# Put your code here \n",
    "import plotly as px\n",
    "my_plotly_data=px.data.carshare()\n",
    "print(my_plotly_data)"
   ]
  },
  {
   "cell_type": "markdown",
   "id": "76e7442e",
   "metadata": {},
   "source": [
    "#### &#9989; **Question 2.3 (6 points)**: Using plotly, create a figure that visualizes your data (or at least some parts of your data). Make sure there are appropriate labels like title, x-axis, and y-axis, etc. "
   ]
  },
  {
   "cell_type": "code",
   "execution_count": 55,
   "id": "cebca85c",
   "metadata": {
    "question_id": "P1Q5",
    "tags": [
     "student_answer"
    ]
   },
   "outputs": [
    {
     "data": {
      "application/vnd.plotly.v1+json": {
       "config": {
        "plotlyServerURL": "https://plot.ly"
       },
       "data": [
        {
         "hovertemplate": "centroid_lat=%{x}<br>centroid_lon=%{y}<extra></extra>",
         "legendgroup": "",
         "marker": {
          "color": "#636efa",
          "symbol": "circle"
         },
         "mode": "markers",
         "name": "",
         "orientation": "v",
         "showlegend": false,
         "type": "scatter",
         "x": [
          45.471548505146174,
          45.54386506674422,
          45.4876395818664,
          45.52286967122903,
          45.45397130964701,
          45.57312570194822,
          45.53005389171565,
          45.49919320522112,
          45.551300651627535,
          45.55380992033989,
          45.47448282698679,
          45.53249580289159,
          45.56545642757568,
          45.50298109284952,
          45.56711856838078,
          45.480026123563874,
          45.448903185047335,
          45.50303089895005,
          45.609667861846745,
          45.478348275451104,
          45.51951352944332,
          45.56903061932889,
          45.53626021131554,
          45.56857291481607,
          45.54614539811951,
          45.54488834188077,
          45.54515565293561,
          45.47817195218011,
          45.58212955989256,
          45.531215706332375,
          45.55267826328372,
          45.52915993898732,
          45.52404418524071,
          45.50851711032711,
          45.4880586878363,
          45.50689566111847,
          45.57894266654677,
          45.46892041666329,
          45.5386616499238,
          45.58530574012526,
          45.46252493114867,
          45.50814302347108,
          45.55224218643183,
          45.53306824136229,
          45.529617524254725,
          45.56172666348032,
          45.45886520703704,
          45.51827128926588,
          45.46330588193452,
          45.45722580199571,
          45.58042126024095,
          45.51220156451264,
          45.548176804195634,
          45.52792120774532,
          45.58971117459708,
          45.53066298367023,
          45.49780367877612,
          45.53978904565592,
          45.52977286764973,
          45.57635821927521,
          45.592896967066345,
          45.54282395560971,
          45.45146052808264,
          45.50017958704209,
          45.55959836008312,
          45.51405331206955,
          45.52098513669111,
          45.51969025678738,
          45.47196677288637,
          45.4940320553664,
          45.57383095629989,
          45.47270552917877,
          45.58204625444414,
          45.4810627259832,
          45.60751580853944,
          45.50429652950133,
          45.459862270272,
          45.550869209779385,
          45.52515960693799,
          45.50743686739271,
          45.54836167081622,
          45.53036120501041,
          45.49339463589723,
          45.49643413195211,
          45.561211827035706,
          45.55537527937125,
          45.52524090241434,
          45.542945623835706,
          45.465546068371886,
          45.51646059071524,
          45.53280566796844,
          45.47963265657448,
          45.45591463685107,
          45.54630844232351,
          45.49848094816177,
          45.528525372523454,
          45.56579154043406,
          45.53765718184978,
          45.47455332862991,
          45.5279051561684,
          45.494951534596034,
          45.465088224907866,
          45.59654571636812,
          45.491523525524194,
          45.51792291961748,
          45.46777843101408,
          45.51117458455963,
          45.54915899878871,
          45.535767560039695,
          45.49044848119951,
          45.538238804018775,
          45.5277041052173,
          45.534777091929946,
          45.48934750923581,
          45.45408718820735,
          45.472649739508654,
          45.55659444198,
          45.483089972430825,
          45.49619305656642,
          45.55742769063361,
          45.49971820106133,
          45.48523078626532,
          45.45863614550253,
          45.50110763484297,
          45.50643446059914,
          45.52764608144713,
          45.48910798882796,
          45.52543292800497,
          45.60326418430284,
          45.47822467091599,
          45.56923339719061,
          45.46715978062781,
          45.543842954244646,
          45.47954227936379,
          45.47510964560248,
          45.54858377217711,
          45.54415239549018,
          45.61087892678886,
          45.481028563111394,
          45.52753294236388,
          45.50713730344406,
          45.54445300313406,
          45.53978806387313,
          45.53344000001958,
          45.46746637549487,
          45.53453717264379,
          45.53658915333014,
          45.53429759356232,
          45.52410832338415,
          45.47265626277289,
          45.50559257327809,
          45.51901074555018,
          45.52540175130616,
          45.54048050327387,
          45.48335540200465,
          45.54220224528534,
          45.519876273318,
          45.55095552442233,
          45.51670639951611,
          45.53834507417609,
          45.54348593525155,
          45.49933518159919,
          45.57484789346844,
          45.47790745068288,
          45.54237585056225,
          45.46417997825538,
          45.48897149612501,
          45.570596118677166,
          45.549545481512375,
          45.56161463008111,
          45.48012052331579,
          45.546769706786165,
          45.47728503507936,
          45.582073874173176,
          45.53903174724877,
          45.510890621674776,
          45.51923221924688,
          45.55028382655888,
          45.554677131421606,
          45.509217063208105,
          45.54493929194947,
          45.55102553790574,
          45.46427660479596,
          45.53566818785226,
          45.5222319477743,
          45.53831624591015,
          45.47689750165655,
          45.55427699436827,
          45.54393996853523,
          45.54733066622103,
          45.53172990090744,
          45.52405372692176,
          45.52567648569128,
          45.45566288220533,
          45.514928037931,
          45.52875593668882,
          45.45893633874722,
          45.52339721689325,
          45.53380644488978,
          45.51698913885445,
          45.47417720458765,
          45.52430638232658,
          45.57221159337733,
          45.53143218128847,
          45.52029302323953,
          45.5428521988577,
          45.51177396205147,
          45.476699804159765,
          45.52527451544683,
          45.52904526725249,
          45.54589006890641,
          45.54129653265394,
          45.52641793678303,
          45.506014494884326,
          45.56249120965429,
          45.518606229301774,
          45.52203370353778,
          45.52409679671165,
          45.52247779646763,
          45.53961066076051,
          45.58895991968114,
          45.54559560319731,
          45.537473700456566,
          45.57342046906779,
          45.53557355419221,
          45.50192689559106,
          45.55114485440528,
          45.53782697365083,
          45.52940323053624,
          45.55301895367002,
          45.55058908283418,
          45.49619083697144,
          45.5389132118943,
          45.535798184139765,
          45.5313114537718,
          45.52036705536745,
          45.48313978581276,
          45.55297824741078,
          45.55430120710761,
          45.57092278674684,
          45.53361097030694,
          45.52227967073674,
          45.57044282123756,
          45.48626024282493,
          45.54717058947268,
          45.546481863801525,
          45.495523127814025,
          45.52119924708915,
          45.53256430507208
         ],
         "xaxis": "x",
         "y": [
          -73.58868408217266,
          -73.56245583980697,
          -73.64276703077329,
          -73.5956772508181,
          -73.73894559925054,
          -73.53990236454271,
          -73.62803605045727,
          -73.56194373919256,
          -73.61171191446698,
          -73.57720679008477,
          -73.63054396371925,
          -73.57956985159979,
          -73.64201176723445,
          -73.62748995674825,
          -73.58439300639695,
          -73.58239204679343,
          -73.59297686556374,
          -73.5790295367978,
          -73.54023161013792,
          -73.57856784133362,
          -73.5793289407554,
          -73.52573081459546,
          -73.56209061086564,
          -73.56084340953332,
          -73.59114755541647,
          -73.63562160484223,
          -73.6172218179539,
          -73.56778840803071,
          -73.5214125066963,
          -73.60636943656155,
          -73.60186065688765,
          -73.61182738988052,
          -73.57255202228934,
          -73.56361361279802,
          -73.62175707085048,
          -73.63992985736493,
          -73.5722622021108,
          -73.61587858172172,
          -73.65684895574016,
          -73.556671023514,
          -73.591450603879,
          -73.61443790111136,
          -73.5567248443471,
          -73.58586652140238,
          -73.59016001500189,
          -73.61316030479036,
          -73.65393428057348,
          -73.53518132112849,
          -73.63201646596775,
          -73.6471457252509,
          -73.62450277147559,
          -73.62439363857663,
          -73.57230388575367,
          -73.61477370856916,
          -73.5124596370787,
          -73.61566624177722,
          -73.64552238789666,
          -73.5647843753964,
          -73.57271916651166,
          -73.55658769397526,
          -73.56283021327646,
          -73.53978288809766,
          -73.60077524293251,
          -73.57356239315693,
          -73.53735411019554,
          -73.6328226471968,
          -73.5859649617064,
          -73.56818790168714,
          -73.645100544613,
          -73.61062703452248,
          -73.60414320228709,
          -73.60760805947412,
          -73.5329739761722,
          -73.56087334817683,
          -73.51375636627016,
          -73.56520883274013,
          -73.58285531458276,
          -73.617846092248,
          -73.6047044738415,
          -73.57429268607511,
          -73.58539717879967,
          -73.62029730985503,
          -73.62504495384513,
          -73.55267239661161,
          -73.5902004112542,
          -73.56930840912791,
          -73.59981458158266,
          -73.62128455035952,
          -73.62067736676947,
          -73.55492741665876,
          -73.64048496482262,
          -73.62987341664497,
          -73.63946019785875,
          -73.60685622581383,
          -73.61967423595867,
          -73.60153035519421,
          -73.59801021780002,
          -73.58232714569509,
          -73.637521859517,
          -73.5845589383217,
          -73.55953118048146,
          -73.65258509641737,
          -73.52593434063824,
          -73.63722045431894,
          -73.58980729398637,
          -73.63595141045859,
          -73.57114931189177,
          -73.63292319176229,
          -73.59674218487977,
          -73.64754965162766,
          -73.60597173479003,
          -73.57565350409223,
          -73.5728803879145,
          -73.57095543068031,
          -73.5871111898369,
          -73.5826189686433,
          -73.53214371066534,
          -73.63467979451553,
          -73.58337891052282,
          -73.60077343846366,
          -73.6544874970073,
          -73.61782510513464,
          -73.64348260405826,
          -73.63443884623427,
          -73.55280978474548,
          -73.59350797166334,
          -73.6314622358004,
          -73.62642522019199,
          -73.53716899543986,
          -73.6131691288042,
          -73.56970219899235,
          -73.64277864672295,
          -73.58224236729227,
          -73.54759113967883,
          -73.56317906950511,
          -73.57887887297544,
          -73.59658041602985,
          -73.53187026901544,
          -73.62384266869233,
          -73.58132388945315,
          -73.63043341873463,
          -73.54776346337367,
          -73.54278601036688,
          -73.5547199999811,
          -73.59078190259488,
          -73.59256240577943,
          -73.62157941242943,
          -73.61041764596348,
          -73.58731842223665,
          -73.62370107695057,
          -73.62277637402323,
          -73.57542843260613,
          -73.61022133725439,
          -73.63688048862373,
          -73.58250497434213,
          -73.61142929406647,
          -73.5829101943345,
          -73.59145464281357,
          -73.57855556771429,
          -73.57053862449274,
          -73.57027313720633,
          -73.62608825396849,
          -73.5635392336782,
          -73.62640937405116,
          -73.55538289355314,
          -73.62592082119164,
          -73.62783793313959,
          -73.52828137402979,
          -73.56715045890071,
          -73.57406730167698,
          -73.57250207253963,
          -73.53904284095108,
          -73.58122340486779,
          -73.54826893987729,
          -73.60093377104955,
          -73.57633721593862,
          -73.57244658989525,
          -73.60783357287939,
          -73.54632265433347,
          -73.61862500763353,
          -73.62750959017946,
          -73.56330138226609,
          -73.64748824071867,
          -73.56861361257508,
          -73.60012669507964,
          -73.57466650421921,
          -73.58830635134413,
          -73.62166601126063,
          -73.57394431922157,
          -73.60149624886525,
          -73.5764851307457,
          -73.5653588020603,
          -73.59003684764208,
          -73.64576984962405,
          -73.5716441021712,
          -73.57904510571099,
          -73.59639171903568,
          -73.60671288562885,
          -73.58376257412169,
          -73.58364027226557,
          -73.59403776813,
          -73.58198744370928,
          -73.54796924219626,
          -73.56470160854694,
          -73.59161297526235,
          -73.60552201275355,
          -73.63749469512531,
          -73.61960578900425,
          -73.5938625905676,
          -73.56435515803537,
          -73.613329142374,
          -73.58761174867594,
          -73.59653658066382,
          -73.62601031881215,
          -73.58319715388312,
          -73.59475241426874,
          -73.57113021855815,
          -73.57841797764475,
          -73.57478446870938,
          -73.62661841692122,
          -73.53758992480975,
          -73.5672399814485,
          -73.57729937169172,
          -73.6327727768197,
          -73.57917172211978,
          -73.62989603799815,
          -73.53770269990456,
          -73.61519170037559,
          -73.58716197505838,
          -73.58388794985183,
          -73.57424335824136,
          -73.62436735080055,
          -73.5792013969,
          -73.58664104188827,
          -73.58372215024325,
          -73.59761235604635,
          -73.57653648384526,
          -73.59484359129024,
          -73.56162491267922,
          -73.57715490720366,
          -73.60106645724453,
          -73.5684337774366,
          -73.52518192920604,
          -73.63860168141315,
          -73.55625786283633,
          -73.5749389146122,
          -73.62772501663683,
          -73.581789228748,
          -73.5675347056023
         ],
         "yaxis": "y"
        }
       ],
       "layout": {
        "legend": {
         "tracegroupgap": 0
        },
        "template": {
         "data": {
          "bar": [
           {
            "error_x": {
             "color": "#2a3f5f"
            },
            "error_y": {
             "color": "#2a3f5f"
            },
            "marker": {
             "line": {
              "color": "#E5ECF6",
              "width": 0.5
             },
             "pattern": {
              "fillmode": "overlay",
              "size": 10,
              "solidity": 0.2
             }
            },
            "type": "bar"
           }
          ],
          "barpolar": [
           {
            "marker": {
             "line": {
              "color": "#E5ECF6",
              "width": 0.5
             },
             "pattern": {
              "fillmode": "overlay",
              "size": 10,
              "solidity": 0.2
             }
            },
            "type": "barpolar"
           }
          ],
          "carpet": [
           {
            "aaxis": {
             "endlinecolor": "#2a3f5f",
             "gridcolor": "white",
             "linecolor": "white",
             "minorgridcolor": "white",
             "startlinecolor": "#2a3f5f"
            },
            "baxis": {
             "endlinecolor": "#2a3f5f",
             "gridcolor": "white",
             "linecolor": "white",
             "minorgridcolor": "white",
             "startlinecolor": "#2a3f5f"
            },
            "type": "carpet"
           }
          ],
          "choropleth": [
           {
            "colorbar": {
             "outlinewidth": 0,
             "ticks": ""
            },
            "type": "choropleth"
           }
          ],
          "contour": [
           {
            "colorbar": {
             "outlinewidth": 0,
             "ticks": ""
            },
            "colorscale": [
             [
              0,
              "#0d0887"
             ],
             [
              0.1111111111111111,
              "#46039f"
             ],
             [
              0.2222222222222222,
              "#7201a8"
             ],
             [
              0.3333333333333333,
              "#9c179e"
             ],
             [
              0.4444444444444444,
              "#bd3786"
             ],
             [
              0.5555555555555556,
              "#d8576b"
             ],
             [
              0.6666666666666666,
              "#ed7953"
             ],
             [
              0.7777777777777778,
              "#fb9f3a"
             ],
             [
              0.8888888888888888,
              "#fdca26"
             ],
             [
              1,
              "#f0f921"
             ]
            ],
            "type": "contour"
           }
          ],
          "contourcarpet": [
           {
            "colorbar": {
             "outlinewidth": 0,
             "ticks": ""
            },
            "type": "contourcarpet"
           }
          ],
          "heatmap": [
           {
            "colorbar": {
             "outlinewidth": 0,
             "ticks": ""
            },
            "colorscale": [
             [
              0,
              "#0d0887"
             ],
             [
              0.1111111111111111,
              "#46039f"
             ],
             [
              0.2222222222222222,
              "#7201a8"
             ],
             [
              0.3333333333333333,
              "#9c179e"
             ],
             [
              0.4444444444444444,
              "#bd3786"
             ],
             [
              0.5555555555555556,
              "#d8576b"
             ],
             [
              0.6666666666666666,
              "#ed7953"
             ],
             [
              0.7777777777777778,
              "#fb9f3a"
             ],
             [
              0.8888888888888888,
              "#fdca26"
             ],
             [
              1,
              "#f0f921"
             ]
            ],
            "type": "heatmap"
           }
          ],
          "heatmapgl": [
           {
            "colorbar": {
             "outlinewidth": 0,
             "ticks": ""
            },
            "colorscale": [
             [
              0,
              "#0d0887"
             ],
             [
              0.1111111111111111,
              "#46039f"
             ],
             [
              0.2222222222222222,
              "#7201a8"
             ],
             [
              0.3333333333333333,
              "#9c179e"
             ],
             [
              0.4444444444444444,
              "#bd3786"
             ],
             [
              0.5555555555555556,
              "#d8576b"
             ],
             [
              0.6666666666666666,
              "#ed7953"
             ],
             [
              0.7777777777777778,
              "#fb9f3a"
             ],
             [
              0.8888888888888888,
              "#fdca26"
             ],
             [
              1,
              "#f0f921"
             ]
            ],
            "type": "heatmapgl"
           }
          ],
          "histogram": [
           {
            "marker": {
             "pattern": {
              "fillmode": "overlay",
              "size": 10,
              "solidity": 0.2
             }
            },
            "type": "histogram"
           }
          ],
          "histogram2d": [
           {
            "colorbar": {
             "outlinewidth": 0,
             "ticks": ""
            },
            "colorscale": [
             [
              0,
              "#0d0887"
             ],
             [
              0.1111111111111111,
              "#46039f"
             ],
             [
              0.2222222222222222,
              "#7201a8"
             ],
             [
              0.3333333333333333,
              "#9c179e"
             ],
             [
              0.4444444444444444,
              "#bd3786"
             ],
             [
              0.5555555555555556,
              "#d8576b"
             ],
             [
              0.6666666666666666,
              "#ed7953"
             ],
             [
              0.7777777777777778,
              "#fb9f3a"
             ],
             [
              0.8888888888888888,
              "#fdca26"
             ],
             [
              1,
              "#f0f921"
             ]
            ],
            "type": "histogram2d"
           }
          ],
          "histogram2dcontour": [
           {
            "colorbar": {
             "outlinewidth": 0,
             "ticks": ""
            },
            "colorscale": [
             [
              0,
              "#0d0887"
             ],
             [
              0.1111111111111111,
              "#46039f"
             ],
             [
              0.2222222222222222,
              "#7201a8"
             ],
             [
              0.3333333333333333,
              "#9c179e"
             ],
             [
              0.4444444444444444,
              "#bd3786"
             ],
             [
              0.5555555555555556,
              "#d8576b"
             ],
             [
              0.6666666666666666,
              "#ed7953"
             ],
             [
              0.7777777777777778,
              "#fb9f3a"
             ],
             [
              0.8888888888888888,
              "#fdca26"
             ],
             [
              1,
              "#f0f921"
             ]
            ],
            "type": "histogram2dcontour"
           }
          ],
          "mesh3d": [
           {
            "colorbar": {
             "outlinewidth": 0,
             "ticks": ""
            },
            "type": "mesh3d"
           }
          ],
          "parcoords": [
           {
            "line": {
             "colorbar": {
              "outlinewidth": 0,
              "ticks": ""
             }
            },
            "type": "parcoords"
           }
          ],
          "pie": [
           {
            "automargin": true,
            "type": "pie"
           }
          ],
          "scatter": [
           {
            "fillpattern": {
             "fillmode": "overlay",
             "size": 10,
             "solidity": 0.2
            },
            "type": "scatter"
           }
          ],
          "scatter3d": [
           {
            "line": {
             "colorbar": {
              "outlinewidth": 0,
              "ticks": ""
             }
            },
            "marker": {
             "colorbar": {
              "outlinewidth": 0,
              "ticks": ""
             }
            },
            "type": "scatter3d"
           }
          ],
          "scattercarpet": [
           {
            "marker": {
             "colorbar": {
              "outlinewidth": 0,
              "ticks": ""
             }
            },
            "type": "scattercarpet"
           }
          ],
          "scattergeo": [
           {
            "marker": {
             "colorbar": {
              "outlinewidth": 0,
              "ticks": ""
             }
            },
            "type": "scattergeo"
           }
          ],
          "scattergl": [
           {
            "marker": {
             "colorbar": {
              "outlinewidth": 0,
              "ticks": ""
             }
            },
            "type": "scattergl"
           }
          ],
          "scattermapbox": [
           {
            "marker": {
             "colorbar": {
              "outlinewidth": 0,
              "ticks": ""
             }
            },
            "type": "scattermapbox"
           }
          ],
          "scatterpolar": [
           {
            "marker": {
             "colorbar": {
              "outlinewidth": 0,
              "ticks": ""
             }
            },
            "type": "scatterpolar"
           }
          ],
          "scatterpolargl": [
           {
            "marker": {
             "colorbar": {
              "outlinewidth": 0,
              "ticks": ""
             }
            },
            "type": "scatterpolargl"
           }
          ],
          "scatterternary": [
           {
            "marker": {
             "colorbar": {
              "outlinewidth": 0,
              "ticks": ""
             }
            },
            "type": "scatterternary"
           }
          ],
          "surface": [
           {
            "colorbar": {
             "outlinewidth": 0,
             "ticks": ""
            },
            "colorscale": [
             [
              0,
              "#0d0887"
             ],
             [
              0.1111111111111111,
              "#46039f"
             ],
             [
              0.2222222222222222,
              "#7201a8"
             ],
             [
              0.3333333333333333,
              "#9c179e"
             ],
             [
              0.4444444444444444,
              "#bd3786"
             ],
             [
              0.5555555555555556,
              "#d8576b"
             ],
             [
              0.6666666666666666,
              "#ed7953"
             ],
             [
              0.7777777777777778,
              "#fb9f3a"
             ],
             [
              0.8888888888888888,
              "#fdca26"
             ],
             [
              1,
              "#f0f921"
             ]
            ],
            "type": "surface"
           }
          ],
          "table": [
           {
            "cells": {
             "fill": {
              "color": "#EBF0F8"
             },
             "line": {
              "color": "white"
             }
            },
            "header": {
             "fill": {
              "color": "#C8D4E3"
             },
             "line": {
              "color": "white"
             }
            },
            "type": "table"
           }
          ]
         },
         "layout": {
          "annotationdefaults": {
           "arrowcolor": "#2a3f5f",
           "arrowhead": 0,
           "arrowwidth": 1
          },
          "autotypenumbers": "strict",
          "coloraxis": {
           "colorbar": {
            "outlinewidth": 0,
            "ticks": ""
           }
          },
          "colorscale": {
           "diverging": [
            [
             0,
             "#8e0152"
            ],
            [
             0.1,
             "#c51b7d"
            ],
            [
             0.2,
             "#de77ae"
            ],
            [
             0.3,
             "#f1b6da"
            ],
            [
             0.4,
             "#fde0ef"
            ],
            [
             0.5,
             "#f7f7f7"
            ],
            [
             0.6,
             "#e6f5d0"
            ],
            [
             0.7,
             "#b8e186"
            ],
            [
             0.8,
             "#7fbc41"
            ],
            [
             0.9,
             "#4d9221"
            ],
            [
             1,
             "#276419"
            ]
           ],
           "sequential": [
            [
             0,
             "#0d0887"
            ],
            [
             0.1111111111111111,
             "#46039f"
            ],
            [
             0.2222222222222222,
             "#7201a8"
            ],
            [
             0.3333333333333333,
             "#9c179e"
            ],
            [
             0.4444444444444444,
             "#bd3786"
            ],
            [
             0.5555555555555556,
             "#d8576b"
            ],
            [
             0.6666666666666666,
             "#ed7953"
            ],
            [
             0.7777777777777778,
             "#fb9f3a"
            ],
            [
             0.8888888888888888,
             "#fdca26"
            ],
            [
             1,
             "#f0f921"
            ]
           ],
           "sequentialminus": [
            [
             0,
             "#0d0887"
            ],
            [
             0.1111111111111111,
             "#46039f"
            ],
            [
             0.2222222222222222,
             "#7201a8"
            ],
            [
             0.3333333333333333,
             "#9c179e"
            ],
            [
             0.4444444444444444,
             "#bd3786"
            ],
            [
             0.5555555555555556,
             "#d8576b"
            ],
            [
             0.6666666666666666,
             "#ed7953"
            ],
            [
             0.7777777777777778,
             "#fb9f3a"
            ],
            [
             0.8888888888888888,
             "#fdca26"
            ],
            [
             1,
             "#f0f921"
            ]
           ]
          },
          "colorway": [
           "#636efa",
           "#EF553B",
           "#00cc96",
           "#ab63fa",
           "#FFA15A",
           "#19d3f3",
           "#FF6692",
           "#B6E880",
           "#FF97FF",
           "#FECB52"
          ],
          "font": {
           "color": "#2a3f5f"
          },
          "geo": {
           "bgcolor": "white",
           "lakecolor": "white",
           "landcolor": "#E5ECF6",
           "showlakes": true,
           "showland": true,
           "subunitcolor": "white"
          },
          "hoverlabel": {
           "align": "left"
          },
          "hovermode": "closest",
          "mapbox": {
           "style": "light"
          },
          "paper_bgcolor": "white",
          "plot_bgcolor": "#E5ECF6",
          "polar": {
           "angularaxis": {
            "gridcolor": "white",
            "linecolor": "white",
            "ticks": ""
           },
           "bgcolor": "#E5ECF6",
           "radialaxis": {
            "gridcolor": "white",
            "linecolor": "white",
            "ticks": ""
           }
          },
          "scene": {
           "xaxis": {
            "backgroundcolor": "#E5ECF6",
            "gridcolor": "white",
            "gridwidth": 2,
            "linecolor": "white",
            "showbackground": true,
            "ticks": "",
            "zerolinecolor": "white"
           },
           "yaxis": {
            "backgroundcolor": "#E5ECF6",
            "gridcolor": "white",
            "gridwidth": 2,
            "linecolor": "white",
            "showbackground": true,
            "ticks": "",
            "zerolinecolor": "white"
           },
           "zaxis": {
            "backgroundcolor": "#E5ECF6",
            "gridcolor": "white",
            "gridwidth": 2,
            "linecolor": "white",
            "showbackground": true,
            "ticks": "",
            "zerolinecolor": "white"
           }
          },
          "shapedefaults": {
           "line": {
            "color": "#2a3f5f"
           }
          },
          "ternary": {
           "aaxis": {
            "gridcolor": "white",
            "linecolor": "white",
            "ticks": ""
           },
           "baxis": {
            "gridcolor": "white",
            "linecolor": "white",
            "ticks": ""
           },
           "bgcolor": "#E5ECF6",
           "caxis": {
            "gridcolor": "white",
            "linecolor": "white",
            "ticks": ""
           }
          },
          "title": {
           "x": 0.05
          },
          "xaxis": {
           "automargin": true,
           "gridcolor": "white",
           "linecolor": "white",
           "ticks": "",
           "title": {
            "standoff": 15
           },
           "zerolinecolor": "white",
           "zerolinewidth": 2
          },
          "yaxis": {
           "automargin": true,
           "gridcolor": "white",
           "linecolor": "white",
           "ticks": "",
           "title": {
            "standoff": 15
           },
           "zerolinecolor": "white",
           "zerolinewidth": 2
          }
         }
        },
        "title": {
         "text": " Latitude vs Longitude"
        },
        "xaxis": {
         "anchor": "y",
         "domain": [
          0,
          1
         ],
         "title": {
          "text": "centroid_lat"
         }
        },
        "yaxis": {
         "anchor": "x",
         "domain": [
          0,
          1
         ],
         "title": {
          "text": "centroid_lon"
         }
        }
       }
      },
      "image/png": "[encoded data removed]",
      "text/html": [
       "<div>                            <div id=\"3d06295a-4269-43c7-abae-da93f3775cce\" class=\"plotly-graph-div\" style=\"height:525px; width:100%;\"></div>            <script type=\"text/javascript\">                require([\"plotly\"], function(Plotly) {                    window.PLOTLYENV=window.PLOTLYENV || {};                                    if (document.getElementById(\"3d06295a-4269-43c7-abae-da93f3775cce\")) {                    Plotly.newPlot(                        \"3d06295a-4269-43c7-abae-da93f3775cce\",                        [{\"hovertemplate\":\"centroid_lat=%{x}\\u003cbr\\u003ecentroid_lon=%{y}\\u003cextra\\u003e\\u003c\\u002fextra\\u003e\",\"legendgroup\":\"\",\"marker\":{\"color\":\"#636efa\",\"symbol\":\"circle\"},\"mode\":\"markers\",\"name\":\"\",\"orientation\":\"v\",\"showlegend\":false,\"x\":[45.471548505146174,45.54386506674422,45.4876395818664,45.52286967122903,45.45397130964701,45.57312570194822,45.53005389171565,45.49919320522112,45.551300651627535,45.55380992033989,45.47448282698679,45.53249580289159,45.56545642757568,45.50298109284952,45.56711856838078,45.480026123563874,45.448903185047335,45.50303089895005,45.609667861846745,45.478348275451104,45.51951352944332,45.56903061932889,45.53626021131554,45.56857291481607,45.54614539811951,45.54488834188077,45.54515565293561,45.47817195218011,45.58212955989256,45.531215706332375,45.55267826328372,45.52915993898732,45.52404418524071,45.50851711032711,45.4880586878363,45.50689566111847,45.57894266654677,45.46892041666329,45.5386616499238,45.58530574012526,45.46252493114867,45.50814302347108,45.55224218643183,45.53306824136229,45.529617524254725,45.56172666348032,45.45886520703704,45.51827128926588,45.46330588193452,45.45722580199571,45.58042126024095,45.51220156451264,45.548176804195634,45.52792120774532,45.58971117459708,45.53066298367023,45.49780367877612,45.53978904565592,45.52977286764973,45.57635821927521,45.592896967066345,45.54282395560971,45.45146052808264,45.50017958704209,45.55959836008312,45.51405331206955,45.52098513669111,45.51969025678738,45.47196677288637,45.4940320553664,45.57383095629989,45.47270552917877,45.58204625444414,45.4810627259832,45.60751580853944,45.50429652950133,45.459862270272,45.550869209779385,45.52515960693799,45.50743686739271,45.54836167081622,45.53036120501041,45.49339463589723,45.49643413195211,45.561211827035706,45.55537527937125,45.52524090241434,45.542945623835706,45.465546068371886,45.51646059071524,45.53280566796844,45.47963265657448,45.45591463685107,45.54630844232351,45.49848094816177,45.528525372523454,45.56579154043406,45.53765718184978,45.47455332862991,45.5279051561684,45.494951534596034,45.465088224907866,45.59654571636812,45.491523525524194,45.51792291961748,45.46777843101408,45.51117458455963,45.54915899878871,45.535767560039695,45.49044848119951,45.538238804018775,45.5277041052173,45.534777091929946,45.48934750923581,45.45408718820735,45.472649739508654,45.55659444198,45.483089972430825,45.49619305656642,45.55742769063361,45.49971820106133,45.48523078626532,45.45863614550253,45.50110763484297,45.50643446059914,45.52764608144713,45.48910798882796,45.52543292800497,45.60326418430284,45.47822467091599,45.56923339719061,45.46715978062781,45.543842954244646,45.47954227936379,45.47510964560248,45.54858377217711,45.54415239549018,45.61087892678886,45.481028563111394,45.52753294236388,45.50713730344406,45.54445300313406,45.53978806387313,45.53344000001958,45.46746637549487,45.53453717264379,45.53658915333014,45.53429759356232,45.52410832338415,45.47265626277289,45.50559257327809,45.51901074555018,45.52540175130616,45.54048050327387,45.48335540200465,45.54220224528534,45.519876273318,45.55095552442233,45.51670639951611,45.53834507417609,45.54348593525155,45.49933518159919,45.57484789346844,45.47790745068288,45.54237585056225,45.46417997825538,45.48897149612501,45.570596118677166,45.549545481512375,45.56161463008111,45.48012052331579,45.546769706786165,45.47728503507936,45.582073874173176,45.53903174724877,45.510890621674776,45.51923221924688,45.55028382655888,45.554677131421606,45.509217063208105,45.54493929194947,45.55102553790574,45.46427660479596,45.53566818785226,45.5222319477743,45.53831624591015,45.47689750165655,45.55427699436827,45.54393996853523,45.54733066622103,45.53172990090744,45.52405372692176,45.52567648569128,45.45566288220533,45.514928037931,45.52875593668882,45.45893633874722,45.52339721689325,45.53380644488978,45.51698913885445,45.47417720458765,45.52430638232658,45.57221159337733,45.53143218128847,45.52029302323953,45.5428521988577,45.51177396205147,45.476699804159765,45.52527451544683,45.52904526725249,45.54589006890641,45.54129653265394,45.52641793678303,45.506014494884326,45.56249120965429,45.518606229301774,45.52203370353778,45.52409679671165,45.52247779646763,45.53961066076051,45.58895991968114,45.54559560319731,45.537473700456566,45.57342046906779,45.53557355419221,45.50192689559106,45.55114485440528,45.53782697365083,45.52940323053624,45.55301895367002,45.55058908283418,45.49619083697144,45.5389132118943,45.535798184139765,45.5313114537718,45.52036705536745,45.48313978581276,45.55297824741078,45.55430120710761,45.57092278674684,45.53361097030694,45.52227967073674,45.57044282123756,45.48626024282493,45.54717058947268,45.546481863801525,45.495523127814025,45.52119924708915,45.53256430507208],\"xaxis\":\"x\",\"y\":[-73.58868408217266,-73.56245583980697,-73.64276703077329,-73.5956772508181,-73.73894559925054,-73.53990236454271,-73.62803605045727,-73.56194373919256,-73.61171191446698,-73.57720679008477,-73.63054396371925,-73.57956985159979,-73.64201176723445,-73.62748995674825,-73.58439300639695,-73.58239204679343,-73.59297686556374,-73.5790295367978,-73.54023161013792,-73.57856784133362,-73.5793289407554,-73.52573081459546,-73.56209061086564,-73.56084340953332,-73.59114755541647,-73.63562160484223,-73.6172218179539,-73.56778840803071,-73.5214125066963,-73.60636943656155,-73.60186065688765,-73.61182738988052,-73.57255202228934,-73.56361361279802,-73.62175707085048,-73.63992985736493,-73.5722622021108,-73.61587858172172,-73.65684895574016,-73.556671023514,-73.591450603879,-73.61443790111136,-73.5567248443471,-73.58586652140238,-73.59016001500189,-73.61316030479036,-73.65393428057348,-73.53518132112849,-73.63201646596775,-73.6471457252509,-73.62450277147559,-73.62439363857663,-73.57230388575367,-73.61477370856916,-73.5124596370787,-73.61566624177722,-73.64552238789666,-73.5647843753964,-73.57271916651166,-73.55658769397526,-73.56283021327646,-73.53978288809766,-73.60077524293251,-73.57356239315693,-73.53735411019554,-73.6328226471968,-73.5859649617064,-73.56818790168714,-73.645100544613,-73.61062703452248,-73.60414320228709,-73.60760805947412,-73.5329739761722,-73.56087334817683,-73.51375636627016,-73.56520883274013,-73.58285531458276,-73.617846092248,-73.6047044738415,-73.57429268607511,-73.58539717879967,-73.62029730985503,-73.62504495384513,-73.55267239661161,-73.5902004112542,-73.56930840912791,-73.59981458158266,-73.62128455035952,-73.62067736676947,-73.55492741665876,-73.64048496482262,-73.62987341664497,-73.63946019785875,-73.60685622581383,-73.61967423595867,-73.60153035519421,-73.59801021780002,-73.58232714569509,-73.637521859517,-73.5845589383217,-73.55953118048146,-73.65258509641737,-73.52593434063824,-73.63722045431894,-73.58980729398637,-73.63595141045859,-73.57114931189177,-73.63292319176229,-73.59674218487977,-73.64754965162766,-73.60597173479003,-73.57565350409223,-73.5728803879145,-73.57095543068031,-73.5871111898369,-73.5826189686433,-73.53214371066534,-73.63467979451553,-73.58337891052282,-73.60077343846366,-73.6544874970073,-73.61782510513464,-73.64348260405826,-73.63443884623427,-73.55280978474548,-73.59350797166334,-73.6314622358004,-73.62642522019199,-73.53716899543986,-73.6131691288042,-73.56970219899235,-73.64277864672295,-73.58224236729227,-73.54759113967883,-73.56317906950511,-73.57887887297544,-73.59658041602985,-73.53187026901544,-73.62384266869233,-73.58132388945315,-73.63043341873463,-73.54776346337367,-73.54278601036688,-73.5547199999811,-73.59078190259488,-73.59256240577943,-73.62157941242943,-73.61041764596348,-73.58731842223665,-73.62370107695057,-73.62277637402323,-73.57542843260613,-73.61022133725439,-73.63688048862373,-73.58250497434213,-73.61142929406647,-73.5829101943345,-73.59145464281357,-73.57855556771429,-73.57053862449274,-73.57027313720633,-73.62608825396849,-73.5635392336782,-73.62640937405116,-73.55538289355314,-73.62592082119164,-73.62783793313959,-73.52828137402979,-73.56715045890071,-73.57406730167698,-73.57250207253963,-73.53904284095108,-73.58122340486779,-73.54826893987729,-73.60093377104955,-73.57633721593862,-73.57244658989525,-73.60783357287939,-73.54632265433347,-73.61862500763353,-73.62750959017946,-73.56330138226609,-73.64748824071867,-73.56861361257508,-73.60012669507964,-73.57466650421921,-73.58830635134413,-73.62166601126063,-73.57394431922157,-73.60149624886525,-73.5764851307457,-73.5653588020603,-73.59003684764208,-73.64576984962405,-73.5716441021712,-73.57904510571099,-73.59639171903568,-73.60671288562885,-73.58376257412169,-73.58364027226557,-73.59403776813,-73.58198744370928,-73.54796924219626,-73.56470160854694,-73.59161297526235,-73.60552201275355,-73.63749469512531,-73.61960578900425,-73.5938625905676,-73.56435515803537,-73.613329142374,-73.58761174867594,-73.59653658066382,-73.62601031881215,-73.58319715388312,-73.59475241426874,-73.57113021855815,-73.57841797764475,-73.57478446870938,-73.62661841692122,-73.53758992480975,-73.5672399814485,-73.57729937169172,-73.6327727768197,-73.57917172211978,-73.62989603799815,-73.53770269990456,-73.61519170037559,-73.58716197505838,-73.58388794985183,-73.57424335824136,-73.62436735080055,-73.5792013969,-73.58664104188827,-73.58372215024325,-73.59761235604635,-73.57653648384526,-73.59484359129024,-73.56162491267922,-73.57715490720366,-73.60106645724453,-73.5684337774366,-73.52518192920604,-73.63860168141315,-73.55625786283633,-73.5749389146122,-73.62772501663683,-73.581789228748,-73.5675347056023],\"yaxis\":\"y\",\"type\":\"scatter\"}],                        {\"template\":{\"data\":{\"histogram2dcontour\":[{\"type\":\"histogram2dcontour\",\"colorbar\":{\"outlinewidth\":0,\"ticks\":\"\"},\"colorscale\":[[0.0,\"#0d0887\"],[0.1111111111111111,\"#46039f\"],[0.2222222222222222,\"#7201a8\"],[0.3333333333333333,\"#9c179e\"],[0.4444444444444444,\"#bd3786\"],[0.5555555555555556,\"#d8576b\"],[0.6666666666666666,\"#ed7953\"],[0.7777777777777778,\"#fb9f3a\"],[0.8888888888888888,\"#fdca26\"],[1.0,\"#f0f921\"]]}],\"choropleth\":[{\"type\":\"choropleth\",\"colorbar\":{\"outlinewidth\":0,\"ticks\":\"\"}}],\"histogram2d\":[{\"type\":\"histogram2d\",\"colorbar\":{\"outlinewidth\":0,\"ticks\":\"\"},\"colorscale\":[[0.0,\"#0d0887\"],[0.1111111111111111,\"#46039f\"],[0.2222222222222222,\"#7201a8\"],[0.3333333333333333,\"#9c179e\"],[0.4444444444444444,\"#bd3786\"],[0.5555555555555556,\"#d8576b\"],[0.6666666666666666,\"#ed7953\"],[0.7777777777777778,\"#fb9f3a\"],[0.8888888888888888,\"#fdca26\"],[1.0,\"#f0f921\"]]}],\"heatmap\":[{\"type\":\"heatmap\",\"colorbar\":{\"outlinewidth\":0,\"ticks\":\"\"},\"colorscale\":[[0.0,\"#0d0887\"],[0.1111111111111111,\"#46039f\"],[0.2222222222222222,\"#7201a8\"],[0.3333333333333333,\"#9c179e\"],[0.4444444444444444,\"#bd3786\"],[0.5555555555555556,\"#d8576b\"],[0.6666666666666666,\"#ed7953\"],[0.7777777777777778,\"#fb9f3a\"],[0.8888888888888888,\"#fdca26\"],[1.0,\"#f0f921\"]]}],\"heatmapgl\":[{\"type\":\"heatmapgl\",\"colorbar\":{\"outlinewidth\":0,\"ticks\":\"\"},\"colorscale\":[[0.0,\"#0d0887\"],[0.1111111111111111,\"#46039f\"],[0.2222222222222222,\"#7201a8\"],[0.3333333333333333,\"#9c179e\"],[0.4444444444444444,\"#bd3786\"],[0.5555555555555556,\"#d8576b\"],[0.6666666666666666,\"#ed7953\"],[0.7777777777777778,\"#fb9f3a\"],[0.8888888888888888,\"#fdca26\"],[1.0,\"#f0f921\"]]}],\"contourcarpet\":[{\"type\":\"contourcarpet\",\"colorbar\":{\"outlinewidth\":0,\"ticks\":\"\"}}],\"contour\":[{\"type\":\"contour\",\"colorbar\":{\"outlinewidth\":0,\"ticks\":\"\"},\"colorscale\":[[0.0,\"#0d0887\"],[0.1111111111111111,\"#46039f\"],[0.2222222222222222,\"#7201a8\"],[0.3333333333333333,\"#9c179e\"],[0.4444444444444444,\"#bd3786\"],[0.5555555555555556,\"#d8576b\"],[0.6666666666666666,\"#ed7953\"],[0.7777777777777778,\"#fb9f3a\"],[0.8888888888888888,\"#fdca26\"],[1.0,\"#f0f921\"]]}],\"surface\":[{\"type\":\"surface\",\"colorbar\":{\"outlinewidth\":0,\"ticks\":\"\"},\"colorscale\":[[0.0,\"#0d0887\"],[0.1111111111111111,\"#46039f\"],[0.2222222222222222,\"#7201a8\"],[0.3333333333333333,\"#9c179e\"],[0.4444444444444444,\"#bd3786\"],[0.5555555555555556,\"#d8576b\"],[0.6666666666666666,\"#ed7953\"],[0.7777777777777778,\"#fb9f3a\"],[0.8888888888888888,\"#fdca26\"],[1.0,\"#f0f921\"]]}],\"mesh3d\":[{\"type\":\"mesh3d\",\"colorbar\":{\"outlinewidth\":0,\"ticks\":\"\"}}],\"scatter\":[{\"fillpattern\":{\"fillmode\":\"overlay\",\"size\":10,\"solidity\":0.2},\"type\":\"scatter\"}],\"parcoords\":[{\"type\":\"parcoords\",\"line\":{\"colorbar\":{\"outlinewidth\":0,\"ticks\":\"\"}}}],\"scatterpolargl\":[{\"type\":\"scatterpolargl\",\"marker\":{\"colorbar\":{\"outlinewidth\":0,\"ticks\":\"\"}}}],\"bar\":[{\"error_x\":{\"color\":\"#2a3f5f\"},\"error_y\":{\"color\":\"#2a3f5f\"},\"marker\":{\"line\":{\"color\":\"#E5ECF6\",\"width\":0.5},\"pattern\":{\"fillmode\":\"overlay\",\"size\":10,\"solidity\":0.2}},\"type\":\"bar\"}],\"scattergeo\":[{\"type\":\"scattergeo\",\"marker\":{\"colorbar\":{\"outlinewidth\":0,\"ticks\":\"\"}}}],\"scatterpolar\":[{\"type\":\"scatterpolar\",\"marker\":{\"colorbar\":{\"outlinewidth\":0,\"ticks\":\"\"}}}],\"histogram\":[{\"marker\":{\"pattern\":{\"fillmode\":\"overlay\",\"size\":10,\"solidity\":0.2}},\"type\":\"histogram\"}],\"scattergl\":[{\"type\":\"scattergl\",\"marker\":{\"colorbar\":{\"outlinewidth\":0,\"ticks\":\"\"}}}],\"scatter3d\":[{\"type\":\"scatter3d\",\"line\":{\"colorbar\":{\"outlinewidth\":0,\"ticks\":\"\"}},\"marker\":{\"colorbar\":{\"outlinewidth\":0,\"ticks\":\"\"}}}],\"scattermapbox\":[{\"type\":\"scattermapbox\",\"marker\":{\"colorbar\":{\"outlinewidth\":0,\"ticks\":\"\"}}}],\"scatterternary\":[{\"type\":\"scatterternary\",\"marker\":{\"colorbar\":{\"outlinewidth\":0,\"ticks\":\"\"}}}],\"scattercarpet\":[{\"type\":\"scattercarpet\",\"marker\":{\"colorbar\":{\"outlinewidth\":0,\"ticks\":\"\"}}}],\"carpet\":[{\"aaxis\":{\"endlinecolor\":\"#2a3f5f\",\"gridcolor\":\"white\",\"linecolor\":\"white\",\"minorgridcolor\":\"white\",\"startlinecolor\":\"#2a3f5f\"},\"baxis\":{\"endlinecolor\":\"#2a3f5f\",\"gridcolor\":\"white\",\"linecolor\":\"white\",\"minorgridcolor\":\"white\",\"startlinecolor\":\"#2a3f5f\"},\"type\":\"carpet\"}],\"table\":[{\"cells\":{\"fill\":{\"color\":\"#EBF0F8\"},\"line\":{\"color\":\"white\"}},\"header\":{\"fill\":{\"color\":\"#C8D4E3\"},\"line\":{\"color\":\"white\"}},\"type\":\"table\"}],\"barpolar\":[{\"marker\":{\"line\":{\"color\":\"#E5ECF6\",\"width\":0.5},\"pattern\":{\"fillmode\":\"overlay\",\"size\":10,\"solidity\":0.2}},\"type\":\"barpolar\"}],\"pie\":[{\"automargin\":true,\"type\":\"pie\"}]},\"layout\":{\"autotypenumbers\":\"strict\",\"colorway\":[\"#636efa\",\"#EF553B\",\"#00cc96\",\"#ab63fa\",\"#FFA15A\",\"#19d3f3\",\"#FF6692\",\"#B6E880\",\"#FF97FF\",\"#FECB52\"],\"font\":{\"color\":\"#2a3f5f\"},\"hovermode\":\"closest\",\"hoverlabel\":{\"align\":\"left\"},\"paper_bgcolor\":\"white\",\"plot_bgcolor\":\"#E5ECF6\",\"polar\":{\"bgcolor\":\"#E5ECF6\",\"angularaxis\":{\"gridcolor\":\"white\",\"linecolor\":\"white\",\"ticks\":\"\"},\"radialaxis\":{\"gridcolor\":\"white\",\"linecolor\":\"white\",\"ticks\":\"\"}},\"ternary\":{\"bgcolor\":\"#E5ECF6\",\"aaxis\":{\"gridcolor\":\"white\",\"linecolor\":\"white\",\"ticks\":\"\"},\"baxis\":{\"gridcolor\":\"white\",\"linecolor\":\"white\",\"ticks\":\"\"},\"caxis\":{\"gridcolor\":\"white\",\"linecolor\":\"white\",\"ticks\":\"\"}},\"coloraxis\":{\"colorbar\":{\"outlinewidth\":0,\"ticks\":\"\"}},\"colorscale\":{\"sequential\":[[0.0,\"#0d0887\"],[0.1111111111111111,\"#46039f\"],[0.2222222222222222,\"#7201a8\"],[0.3333333333333333,\"#9c179e\"],[0.4444444444444444,\"#bd3786\"],[0.5555555555555556,\"#d8576b\"],[0.6666666666666666,\"#ed7953\"],[0.7777777777777778,\"#fb9f3a\"],[0.8888888888888888,\"#fdca26\"],[1.0,\"#f0f921\"]],\"sequentialminus\":[[0.0,\"#0d0887\"],[0.1111111111111111,\"#46039f\"],[0.2222222222222222,\"#7201a8\"],[0.3333333333333333,\"#9c179e\"],[0.4444444444444444,\"#bd3786\"],[0.5555555555555556,\"#d8576b\"],[0.6666666666666666,\"#ed7953\"],[0.7777777777777778,\"#fb9f3a\"],[0.8888888888888888,\"#fdca26\"],[1.0,\"#f0f921\"]],\"diverging\":[[0,\"#8e0152\"],[0.1,\"#c51b7d\"],[0.2,\"#de77ae\"],[0.3,\"#f1b6da\"],[0.4,\"#fde0ef\"],[0.5,\"#f7f7f7\"],[0.6,\"#e6f5d0\"],[0.7,\"#b8e186\"],[0.8,\"#7fbc41\"],[0.9,\"#4d9221\"],[1,\"#276419\"]]},\"xaxis\":{\"gridcolor\":\"white\",\"linecolor\":\"white\",\"ticks\":\"\",\"title\":{\"standoff\":15},\"zerolinecolor\":\"white\",\"automargin\":true,\"zerolinewidth\":2},\"yaxis\":{\"gridcolor\":\"white\",\"linecolor\":\"white\",\"ticks\":\"\",\"title\":{\"standoff\":15},\"zerolinecolor\":\"white\",\"automargin\":true,\"zerolinewidth\":2},\"scene\":{\"xaxis\":{\"backgroundcolor\":\"#E5ECF6\",\"gridcolor\":\"white\",\"linecolor\":\"white\",\"showbackground\":true,\"ticks\":\"\",\"zerolinecolor\":\"white\",\"gridwidth\":2},\"yaxis\":{\"backgroundcolor\":\"#E5ECF6\",\"gridcolor\":\"white\",\"linecolor\":\"white\",\"showbackground\":true,\"ticks\":\"\",\"zerolinecolor\":\"white\",\"gridwidth\":2},\"zaxis\":{\"backgroundcolor\":\"#E5ECF6\",\"gridcolor\":\"white\",\"linecolor\":\"white\",\"showbackground\":true,\"ticks\":\"\",\"zerolinecolor\":\"white\",\"gridwidth\":2}},\"shapedefaults\":{\"line\":{\"color\":\"#2a3f5f\"}},\"annotationdefaults\":{\"arrowcolor\":\"#2a3f5f\",\"arrowhead\":0,\"arrowwidth\":1},\"geo\":{\"bgcolor\":\"white\",\"landcolor\":\"#E5ECF6\",\"subunitcolor\":\"white\",\"showland\":true,\"showlakes\":true,\"lakecolor\":\"white\"},\"title\":{\"x\":0.05},\"mapbox\":{\"style\":\"light\"}}},\"xaxis\":{\"anchor\":\"y\",\"domain\":[0.0,1.0],\"title\":{\"text\":\"centroid_lat\"}},\"yaxis\":{\"anchor\":\"x\",\"domain\":[0.0,1.0],\"title\":{\"text\":\"centroid_lon\"}},\"legend\":{\"tracegroupgap\":0},\"title\":{\"text\":\" Latitude vs Longitude\"}},                        {\"responsive\": true}                    ).then(function(){\n",
       "                            \n",
       "var gd = document.getElementById('3d06295a-4269-43c7-abae-da93f3775cce');\n",
       "var x = new MutationObserver(function (mutations, observer) {{\n",
       "        var display = window.getComputedStyle(gd).display;\n",
       "        if (!display || display === 'none') {{\n",
       "            console.log([gd, 'removed!']);\n",
       "            Plotly.purge(gd);\n",
       "            observer.disconnect();\n",
       "        }}\n",
       "}});\n",
       "\n",
       "// Listen for the removal of the full notebook cells\n",
       "var notebookContainer = gd.closest('#notebook-container');\n",
       "if (notebookContainer) {{\n",
       "    x.observe(notebookContainer, {childList: true});\n",
       "}}\n",
       "\n",
       "// Listen for the clearing of the current output cell\n",
       "var outputEl = gd.closest('.output');\n",
       "if (outputEl) {{\n",
       "    x.observe(outputEl, {childList: true});\n",
       "}}\n",
       "\n",
       "                        })                };                });            </script>        </div>"
      ]
     },
     "metadata": {},
     "output_type": "display_data"
    }
   ],
   "source": [
    "# Put your code here  \n",
    "import plotly.express as px\n",
    "fig= px.scatter(my_plotly_data, x=\"centroid_lat\",  y=\"centroid_lon\" ,title=\" Latitude vs Longitude\",)\n",
    "fig.show()\n"
   ]
  },
  {
   "cell_type": "markdown",
   "id": "30af3464",
   "metadata": {},
   "source": [
    "#### &#9989; **Question 2.4 (2 points)**: How does your plot look? If you had more time to clean up this visualization, what changes would you make to it?"
   ]
  },
  {
   "cell_type": "markdown",
   "id": "4c3a05af",
   "metadata": {},
   "source": [
    "** it looks good if I had more time I would try to space it out more as it seems a little crowded I would explore different types of plots** "
   ]
  },
  {
   "cell_type": "markdown",
   "id": "da4fb42d",
   "metadata": {},
   "source": [
    "---\n",
    "### &#128721; STOP\n",
    "**Pause to commit your changes to your Git repository! (1 point)**\n",
    "\n",
    "Take a moment to save your notebook, commit the changes to your Git repository using the commit message \"**Committing Part 2**\", and push the changes to GitHub."
   ]
  },
  {
   "cell_type": "markdown",
   "id": "c5db3757",
   "metadata": {},
   "source": [
    "----\n",
    "----\n",
    "\n",
    "<a id=\"part-3-downloading-and-analyzing-unfamiliar-data-24-points\"></a>\n",
    "\n",
    "# Part 3: Downloading and Analyzing unfamiliar data (24 points)\n",
    "\n",
    "[Back to Table of Contents](#Table-of-Contents)\n",
    "\n",
    "For this part of the exam, you're to download and analyze a dataset that you've likely not looked at before. You'll perform some simple, exploratorary analysis and create basic visualizations.\n",
    "\n",
    "In particular, you're going to be working with a dataset that contains data on 100 different animes.\n",
    "\n",
    "There are 9 columns; here we will be concerned with those described in the table below.\n",
    "\n",
    "| Column      | Description                                                                           |\n",
    "|-------------|---------------------------------------------------------------------------------------|\n",
    "|  Anime name       | The title of the anime series or movie that is the most watched in a given country.   |\n",
    "|Most watched in country|The country where the specified anime has the highest viewership or popularity.  |\n",
    "| Ratings    | The average viewer rating for the anime, typically on a scale of 1 to 10                |\n",
    "| Number of episodes     | The total number of episodes produced for the anime series.                       |\n",
    "| Studio name      | The name of the production studio responsible for creating the anime               |\n",
    "| Budget | The estimated production budget for the anime, expressed in millions of U.S. dollars.    |\n",
    "| Release year | The year the anime was first released or aired.                                    |\n",
    "| Genre      | The genre or category of the anime                                                |\n",
    "| Duration per episode| The average duration of each episode in minutes for the anime series.             |\n",
    "\n",
    "The link to the full dataset is [here](https://www.kaggle.com/datasets/samikshadalvi/100-most-watched-anime-in-the-world/data)\n",
    "\n"
   ]
  },
  {
   "cell_type": "markdown",
   "id": "7b7bf6af",
   "metadata": {},
   "source": [
    "&#9989; **Question 3.1.1 (1 point)**: To get started, use the curl command to download the data set using this link (https://raw.githubusercontent.com/gambre11/CMSE202/refs/heads/main/most_watched_anime_dataset_100_entries.csv) "
   ]
  },
  {
   "cell_type": "code",
   "execution_count": 22,
   "id": "5c22a4c2",
   "metadata": {},
   "outputs": [
    {
     "name": "stdout",
     "output_type": "stream",
     "text": [
      "  % Total    % Received % Xferd  Average Speed   Time    Time     Time  Current\n",
      "                                 Dload  Upload   Total   Spent    Left  Speed\n",
      "100  6519  100  6519    0     0  99940      0 --:--:-- --:--:-- --:--:--   97k\n"
     ]
    }
   ],
   "source": [
    "# Put your code here \n",
    "! curl -O https://raw.githubusercontent.com/gambre11/CMSE202/refs/heads/main/most_watched_anime_dataset_100_entries.csv"
   ]
  },
  {
   "cell_type": "markdown",
   "id": "de98c0c0",
   "metadata": {},
   "source": [
    "&#9989; **Question 3.1.2 (2 points)**: Now **read in the dataset** and then display the first 20 rows of the data using **Pandas**."
   ]
  },
  {
   "cell_type": "code",
   "execution_count": 29,
   "id": "a70d19d8",
   "metadata": {
    "question_id": "P2Q3",
    "tags": [
     "student_answer"
    ]
   },
   "outputs": [
    {
     "data": {
      "text/html": [
       "<div>\n",
       "<style scoped>\n",
       "    .dataframe tbody tr th:only-of-type {\n",
       "        vertical-align: middle;\n",
       "    }\n",
       "\n",
       "    .dataframe tbody tr th {\n",
       "        vertical-align: top;\n",
       "    }\n",
       "\n",
       "    .dataframe thead th {\n",
       "        text-align: right;\n",
       "    }\n",
       "</style>\n",
       "<table border=\"1\" class=\"dataframe\">\n",
       "  <thead>\n",
       "    <tr style=\"text-align: right;\">\n",
       "      <th></th>\n",
       "      <th>Anime Name</th>\n",
       "      <th>Most Watched in Country</th>\n",
       "      <th>Ratings</th>\n",
       "      <th>Number of Episodes</th>\n",
       "      <th>Animation Studio Name</th>\n",
       "      <th>Budget (in Million USD)</th>\n",
       "      <th>Release Year</th>\n",
       "      <th>Genre</th>\n",
       "      <th>Duration per Episode (minutes)</th>\n",
       "    </tr>\n",
       "  </thead>\n",
       "  <tbody>\n",
       "    <tr>\n",
       "      <th>0</th>\n",
       "      <td>Fullmetal Alchemist</td>\n",
       "      <td>Brazil</td>\n",
       "      <td>8.8</td>\n",
       "      <td>317.0</td>\n",
       "      <td>Ufotable</td>\n",
       "      <td>80.61</td>\n",
       "      <td>1998.0</td>\n",
       "      <td>Fantasy</td>\n",
       "      <td>NaN</td>\n",
       "    </tr>\n",
       "    <tr>\n",
       "      <th>1</th>\n",
       "      <td>Haikyuu!!</td>\n",
       "      <td>Mexico</td>\n",
       "      <td>9.2</td>\n",
       "      <td>420.0</td>\n",
       "      <td>MAPPA</td>\n",
       "      <td>74.99</td>\n",
       "      <td>2022.0</td>\n",
       "      <td>Adventure</td>\n",
       "      <td>59.0</td>\n",
       "    </tr>\n",
       "    <tr>\n",
       "      <th>2</th>\n",
       "      <td>NaN</td>\n",
       "      <td>South Korea</td>\n",
       "      <td>7.4</td>\n",
       "      <td>419.0</td>\n",
       "      <td>A-1 Pictures</td>\n",
       "      <td>59.05</td>\n",
       "      <td>2009.0</td>\n",
       "      <td>Mystery</td>\n",
       "      <td>56.0</td>\n",
       "    </tr>\n",
       "    <tr>\n",
       "      <th>3</th>\n",
       "      <td>Bleach</td>\n",
       "      <td>Brazil</td>\n",
       "      <td>6.4</td>\n",
       "      <td>NaN</td>\n",
       "      <td>Ufotable</td>\n",
       "      <td>45.35</td>\n",
       "      <td>2002.0</td>\n",
       "      <td>Fantasy</td>\n",
       "      <td>55.0</td>\n",
       "    </tr>\n",
       "    <tr>\n",
       "      <th>4</th>\n",
       "      <td>Sword Art Online</td>\n",
       "      <td>NaN</td>\n",
       "      <td>9.8</td>\n",
       "      <td>327.0</td>\n",
       "      <td>Madhouse</td>\n",
       "      <td>15.90</td>\n",
       "      <td>2017.0</td>\n",
       "      <td>NaN</td>\n",
       "      <td>43.0</td>\n",
       "    </tr>\n",
       "    <tr>\n",
       "      <th>5</th>\n",
       "      <td>Fullmetal Alchemist</td>\n",
       "      <td>Brazil</td>\n",
       "      <td>NaN</td>\n",
       "      <td>402.0</td>\n",
       "      <td>NaN</td>\n",
       "      <td>8.97</td>\n",
       "      <td>2018.0</td>\n",
       "      <td>NaN</td>\n",
       "      <td>50.0</td>\n",
       "    </tr>\n",
       "    <tr>\n",
       "      <th>6</th>\n",
       "      <td>Black Clover</td>\n",
       "      <td>France</td>\n",
       "      <td>8.1</td>\n",
       "      <td>NaN</td>\n",
       "      <td>Madhouse</td>\n",
       "      <td>NaN</td>\n",
       "      <td>2002.0</td>\n",
       "      <td>NaN</td>\n",
       "      <td>25.0</td>\n",
       "    </tr>\n",
       "    <tr>\n",
       "      <th>7</th>\n",
       "      <td>Bleach</td>\n",
       "      <td>China</td>\n",
       "      <td>9.4</td>\n",
       "      <td>47.0</td>\n",
       "      <td>MAPPA</td>\n",
       "      <td>127.22</td>\n",
       "      <td>1995.0</td>\n",
       "      <td>Adventure</td>\n",
       "      <td>21.0</td>\n",
       "    </tr>\n",
       "    <tr>\n",
       "      <th>8</th>\n",
       "      <td>NaN</td>\n",
       "      <td>Spain</td>\n",
       "      <td>8.7</td>\n",
       "      <td>184.0</td>\n",
       "      <td>A-1 Pictures</td>\n",
       "      <td>53.88</td>\n",
       "      <td>2007.0</td>\n",
       "      <td>Mystery</td>\n",
       "      <td>39.0</td>\n",
       "    </tr>\n",
       "    <tr>\n",
       "      <th>9</th>\n",
       "      <td>Demon Slayer</td>\n",
       "      <td>NaN</td>\n",
       "      <td>8.9</td>\n",
       "      <td>31.0</td>\n",
       "      <td>Pierrot</td>\n",
       "      <td>NaN</td>\n",
       "      <td>1994.0</td>\n",
       "      <td>Supernatural</td>\n",
       "      <td>47.0</td>\n",
       "    </tr>\n",
       "    <tr>\n",
       "      <th>10</th>\n",
       "      <td>Sword Art Online</td>\n",
       "      <td>NaN</td>\n",
       "      <td>6.8</td>\n",
       "      <td>332.0</td>\n",
       "      <td>NaN</td>\n",
       "      <td>101.84</td>\n",
       "      <td>2014.0</td>\n",
       "      <td>Comedy</td>\n",
       "      <td>NaN</td>\n",
       "    </tr>\n",
       "    <tr>\n",
       "      <th>11</th>\n",
       "      <td>One Piece</td>\n",
       "      <td>NaN</td>\n",
       "      <td>8.2</td>\n",
       "      <td>275.0</td>\n",
       "      <td>NaN</td>\n",
       "      <td>72.90</td>\n",
       "      <td>1991.0</td>\n",
       "      <td>Supernatural</td>\n",
       "      <td>23.0</td>\n",
       "    </tr>\n",
       "    <tr>\n",
       "      <th>12</th>\n",
       "      <td>Attack on Titan</td>\n",
       "      <td>Spain</td>\n",
       "      <td>8.8</td>\n",
       "      <td>NaN</td>\n",
       "      <td>Bones</td>\n",
       "      <td>74.46</td>\n",
       "      <td>1999.0</td>\n",
       "      <td>Action</td>\n",
       "      <td>34.0</td>\n",
       "    </tr>\n",
       "    <tr>\n",
       "      <th>13</th>\n",
       "      <td>Tokyo Ghoul</td>\n",
       "      <td>United Kingdom</td>\n",
       "      <td>6.9</td>\n",
       "      <td>153.0</td>\n",
       "      <td>MAPPA</td>\n",
       "      <td>13.41</td>\n",
       "      <td>2019.0</td>\n",
       "      <td>Comedy</td>\n",
       "      <td>25.0</td>\n",
       "    </tr>\n",
       "    <tr>\n",
       "      <th>14</th>\n",
       "      <td>Dragon Ball Z</td>\n",
       "      <td>Canada</td>\n",
       "      <td>NaN</td>\n",
       "      <td>471.0</td>\n",
       "      <td>Trigger</td>\n",
       "      <td>14.66</td>\n",
       "      <td>1994.0</td>\n",
       "      <td>Thriller</td>\n",
       "      <td>49.0</td>\n",
       "    </tr>\n",
       "    <tr>\n",
       "      <th>15</th>\n",
       "      <td>Attack on Titan</td>\n",
       "      <td>China</td>\n",
       "      <td>9.9</td>\n",
       "      <td>NaN</td>\n",
       "      <td>Trigger</td>\n",
       "      <td>90.76</td>\n",
       "      <td>NaN</td>\n",
       "      <td>Mystery</td>\n",
       "      <td>57.0</td>\n",
       "    </tr>\n",
       "    <tr>\n",
       "      <th>16</th>\n",
       "      <td>Naruto</td>\n",
       "      <td>China</td>\n",
       "      <td>8.1</td>\n",
       "      <td>482.0</td>\n",
       "      <td>MAPPA</td>\n",
       "      <td>83.50</td>\n",
       "      <td>1990.0</td>\n",
       "      <td>Adventure</td>\n",
       "      <td>21.0</td>\n",
       "    </tr>\n",
       "    <tr>\n",
       "      <th>17</th>\n",
       "      <td>Tokyo Ghoul</td>\n",
       "      <td>Australia</td>\n",
       "      <td>7.0</td>\n",
       "      <td>154.0</td>\n",
       "      <td>Ufotable</td>\n",
       "      <td>32.70</td>\n",
       "      <td>2007.0</td>\n",
       "      <td>Action</td>\n",
       "      <td>34.0</td>\n",
       "    </tr>\n",
       "    <tr>\n",
       "      <th>18</th>\n",
       "      <td>NaN</td>\n",
       "      <td>Italy</td>\n",
       "      <td>10.0</td>\n",
       "      <td>103.0</td>\n",
       "      <td>Bones</td>\n",
       "      <td>141.98</td>\n",
       "      <td>NaN</td>\n",
       "      <td>Mystery</td>\n",
       "      <td>30.0</td>\n",
       "    </tr>\n",
       "    <tr>\n",
       "      <th>19</th>\n",
       "      <td>Mob Psycho 100</td>\n",
       "      <td>Thailand</td>\n",
       "      <td>9.9</td>\n",
       "      <td>365.0</td>\n",
       "      <td>Studio Ghibli</td>\n",
       "      <td>117.41</td>\n",
       "      <td>2000.0</td>\n",
       "      <td>Thriller</td>\n",
       "      <td>27.0</td>\n",
       "    </tr>\n",
       "  </tbody>\n",
       "</table>\n",
       "</div>"
      ],
      "text/plain": [
       "             Anime Name Most Watched in Country  Ratings  Number of Episodes  \\\n",
       "0   Fullmetal Alchemist                  Brazil      8.8               317.0   \n",
       "1             Haikyuu!!                  Mexico      9.2               420.0   \n",
       "2                   NaN             South Korea      7.4               419.0   \n",
       "3                Bleach                  Brazil      6.4                 NaN   \n",
       "4      Sword Art Online                     NaN      9.8               327.0   \n",
       "5   Fullmetal Alchemist                  Brazil      NaN               402.0   \n",
       "6          Black Clover                  France      8.1                 NaN   \n",
       "7                Bleach                   China      9.4                47.0   \n",
       "8                   NaN                   Spain      8.7               184.0   \n",
       "9          Demon Slayer                     NaN      8.9                31.0   \n",
       "10     Sword Art Online                     NaN      6.8               332.0   \n",
       "11            One Piece                     NaN      8.2               275.0   \n",
       "12      Attack on Titan                   Spain      8.8                 NaN   \n",
       "13          Tokyo Ghoul          United Kingdom      6.9               153.0   \n",
       "14        Dragon Ball Z                  Canada      NaN               471.0   \n",
       "15      Attack on Titan                   China      9.9                 NaN   \n",
       "16               Naruto                   China      8.1               482.0   \n",
       "17          Tokyo Ghoul               Australia      7.0               154.0   \n",
       "18                  NaN                   Italy     10.0               103.0   \n",
       "19       Mob Psycho 100                Thailand      9.9               365.0   \n",
       "\n",
       "   Animation Studio Name  Budget (in Million USD)  Release Year         Genre  \\\n",
       "0               Ufotable                    80.61        1998.0       Fantasy   \n",
       "1                  MAPPA                    74.99        2022.0     Adventure   \n",
       "2           A-1 Pictures                    59.05        2009.0       Mystery   \n",
       "3               Ufotable                    45.35        2002.0       Fantasy   \n",
       "4               Madhouse                    15.90        2017.0           NaN   \n",
       "5                    NaN                     8.97        2018.0           NaN   \n",
       "6               Madhouse                      NaN        2002.0           NaN   \n",
       "7                  MAPPA                   127.22        1995.0     Adventure   \n",
       "8           A-1 Pictures                    53.88        2007.0       Mystery   \n",
       "9                Pierrot                      NaN        1994.0  Supernatural   \n",
       "10                   NaN                   101.84        2014.0        Comedy   \n",
       "11                   NaN                    72.90        1991.0  Supernatural   \n",
       "12                 Bones                    74.46        1999.0        Action   \n",
       "13                 MAPPA                    13.41        2019.0        Comedy   \n",
       "14               Trigger                    14.66        1994.0      Thriller   \n",
       "15               Trigger                    90.76           NaN       Mystery   \n",
       "16                 MAPPA                    83.50        1990.0     Adventure   \n",
       "17              Ufotable                    32.70        2007.0        Action   \n",
       "18                 Bones                   141.98           NaN       Mystery   \n",
       "19         Studio Ghibli                   117.41        2000.0      Thriller   \n",
       "\n",
       "    Duration per Episode (minutes)  \n",
       "0                              NaN  \n",
       "1                             59.0  \n",
       "2                             56.0  \n",
       "3                             55.0  \n",
       "4                             43.0  \n",
       "5                             50.0  \n",
       "6                             25.0  \n",
       "7                             21.0  \n",
       "8                             39.0  \n",
       "9                             47.0  \n",
       "10                             NaN  \n",
       "11                            23.0  \n",
       "12                            34.0  \n",
       "13                            25.0  \n",
       "14                            49.0  \n",
       "15                            57.0  \n",
       "16                            21.0  \n",
       "17                            34.0  \n",
       "18                            30.0  \n",
       "19                            27.0  "
      ]
     },
     "execution_count": 29,
     "metadata": {},
     "output_type": "execute_result"
    }
   ],
   "source": [
    "# Put your code here \n",
    "import pandas as pd \n",
    "df2=pd.read_csv(\"most_watched_anime_dataset_100_entries.csv\") \n",
    "df2.head(20)"
   ]
  },
  {
   "cell_type": "markdown",
   "id": "2c863d2b",
   "metadata": {},
   "source": [
    "This dataset contains more information that we care about at the moment. \n",
    "\n",
    "&#9989; **Question 3.2 (3 pts)**: Remove/Drop the columns ''Genre, Duration per Episode (minutes), Most Watched in Country''\n"
   ]
  },
  {
   "cell_type": "code",
   "execution_count": 46,
   "id": "169ed088",
   "metadata": {
    "question_id": "P2Q3",
    "tags": [
     "student_answer"
    ]
   },
   "outputs": [],
   "source": [
    "# Put your code here\n",
    "df2=df2.drop(columns=['Genre', 'Duration per Episode (minutes)','Most Watched in Country'])"
   ]
  },
  {
   "cell_type": "markdown",
   "id": "a088b448",
   "metadata": {},
   "source": [
    "&#9989; **Question 3.3 (5 points)**: Use built-in Pandas functions to get a quick statistical summary of your data (e.g. the mean, standard deviation, min, max, etc) **divided by Animation studio name .**"
   ]
  },
  {
   "cell_type": "code",
   "execution_count": 53,
   "id": "3e915f6b",
   "metadata": {
    "question_id": "P2Q3",
    "tags": [
     "student_answer"
    ]
   },
   "outputs": [
    {
     "name": "stdout",
     "output_type": "stream",
     "text": [
      "<bound method DataFrame.mean of                  Anime Name  Ratings  Number of Episodes  \\\n",
      "0       Fullmetal Alchemist      8.8               317.0   \n",
      "1                 Haikyuu!!      9.2               420.0   \n",
      "2                       NaN      7.4               419.0   \n",
      "3                    Bleach      6.4                 NaN   \n",
      "4          Sword Art Online      9.8               327.0   \n",
      "5       Fullmetal Alchemist      NaN               402.0   \n",
      "6              Black Clover      8.1                 NaN   \n",
      "7                    Bleach      9.4                47.0   \n",
      "8                       NaN      8.7               184.0   \n",
      "9              Demon Slayer      8.9                31.0   \n",
      "10         Sword Art Online      6.8               332.0   \n",
      "11                One Piece      8.2               275.0   \n",
      "12          Attack on Titan      8.8                 NaN   \n",
      "13              Tokyo Ghoul      6.9               153.0   \n",
      "14            Dragon Ball Z      NaN               471.0   \n",
      "15          Attack on Titan      9.9                 NaN   \n",
      "16                   Naruto      8.1               482.0   \n",
      "17              Tokyo Ghoul      7.0               154.0   \n",
      "18                      NaN     10.0               103.0   \n",
      "19           Mob Psycho 100      9.9               365.0   \n",
      "20            Spirited Away      8.2               333.0   \n",
      "21           Jujutsu Kaisen      9.5               299.0   \n",
      "22  Neon Genesis Evangelion      6.8               226.0   \n",
      "23  Neon Genesis Evangelion      7.1               458.0   \n",
      "24             Black Clover      NaN               353.0   \n",
      "25              Tokyo Ghoul      9.4                62.0   \n",
      "26                Haikyuu!!      9.4               164.0   \n",
      "27                One Piece      7.6               197.0   \n",
      "28         My Hero Academia      9.6                74.0   \n",
      "29             Black Clover      9.4               201.0   \n",
      "30      Fullmetal Alchemist      NaN               136.0   \n",
      "31               Death Note      9.1               161.0   \n",
      "32      Fullmetal Alchemist      8.7               325.0   \n",
      "33                  Re:Zero      8.3                69.0   \n",
      "34             Demon Slayer      7.5               353.0   \n",
      "35               Fairy Tail      9.8               316.0   \n",
      "36                      NaN      9.9               191.0   \n",
      "37               Death Note      7.1                 NaN   \n",
      "38          Attack on Titan      7.2               337.0   \n",
      "39                      NaN      7.9               282.0   \n",
      "40  Neon Genesis Evangelion      7.8                 NaN   \n",
      "41      Fullmetal Alchemist     10.0               455.0   \n",
      "42              Tokyo Ghoul      NaN               112.0   \n",
      "43         Sword Art Online      NaN               492.0   \n",
      "44  Neon Genesis Evangelion      NaN               275.0   \n",
      "45                One Piece      6.7                64.0   \n",
      "46               Fairy Tail      7.5                71.0   \n",
      "47           Mob Psycho 100      9.0               119.0   \n",
      "48                      NaN      8.9                16.0   \n",
      "49                  Re:Zero      7.2               114.0   \n",
      "50         Sword Art Online      8.2               207.0   \n",
      "51             Demon Slayer      8.0                 NaN   \n",
      "52          Attack on Titan      8.5               376.0   \n",
      "53            Dragon Ball Z      7.0               491.0   \n",
      "54            Spirited Away      8.4               383.0   \n",
      "55             Demon Slayer      9.9               361.0   \n",
      "56                  Re:Zero      7.9                58.0   \n",
      "57              Tokyo Ghoul      9.6               366.0   \n",
      "58          Attack on Titan      7.7               322.0   \n",
      "59            Spirited Away      7.4               435.0   \n",
      "60                      NaN      8.6               319.0   \n",
      "61               Fairy Tail      NaN               155.0   \n",
      "62           Jujutsu Kaisen      9.5               280.0   \n",
      "63  Neon Genesis Evangelion      6.9               381.0   \n",
      "64         Sword Art Online      8.0               135.0   \n",
      "65               Fairy Tail      8.3               117.0   \n",
      "66         Sword Art Online      9.1                 NaN   \n",
      "67           Jujutsu Kaisen      6.2               158.0   \n",
      "68          Hunter x Hunter     10.0               156.0   \n",
      "69                  Re:Zero      NaN               131.0   \n",
      "70  Neon Genesis Evangelion      7.1               330.0   \n",
      "71          Hunter x Hunter      9.5               286.0   \n",
      "72               Death Note      9.0               103.0   \n",
      "73  Neon Genesis Evangelion      9.8                69.0   \n",
      "74          Hunter x Hunter      7.3               450.0   \n",
      "75                   Naruto      NaN               357.0   \n",
      "76      Fullmetal Alchemist      8.3               240.0   \n",
      "77               Death Note      9.9               485.0   \n",
      "78                   Naruto      6.3               128.0   \n",
      "79              Tokyo Ghoul      7.2               329.0   \n",
      "80         Sword Art Online      6.8               290.0   \n",
      "81                   Bleach      7.1               138.0   \n",
      "82             Black Clover      7.9               404.0   \n",
      "83           Mob Psycho 100      7.5               407.0   \n",
      "84         Sword Art Online      7.6               140.0   \n",
      "85                One Piece      9.4                69.0   \n",
      "86                      NaN      9.7               133.0   \n",
      "87                   Naruto      6.3                12.0   \n",
      "88         My Hero Academia      6.8               250.0   \n",
      "89            Spirited Away      8.7               301.0   \n",
      "90      Fullmetal Alchemist      7.4               107.0   \n",
      "91               Death Note      7.0                 NaN   \n",
      "92      Fullmetal Alchemist      7.2                 NaN   \n",
      "93                      NaN      7.3                59.0   \n",
      "94         Sword Art Online      9.4               100.0   \n",
      "95              Tokyo Ghoul      6.5               499.0   \n",
      "96          Attack on Titan      8.8               248.0   \n",
      "97                      NaN      8.2               384.0   \n",
      "98           Jujutsu Kaisen      7.2               396.0   \n",
      "99         My Hero Academia      7.7               283.0   \n",
      "\n",
      "   Animation Studio Name  Budget (in Million USD)  Release Year  \n",
      "0               Ufotable                    80.61        1998.0  \n",
      "1                  MAPPA                    74.99        2022.0  \n",
      "2           A-1 Pictures                    59.05        2009.0  \n",
      "3               Ufotable                    45.35        2002.0  \n",
      "4               Madhouse                    15.90        2017.0  \n",
      "5                    NaN                     8.97        2018.0  \n",
      "6               Madhouse                      NaN        2002.0  \n",
      "7                  MAPPA                   127.22        1995.0  \n",
      "8           A-1 Pictures                    53.88        2007.0  \n",
      "9                Pierrot                      NaN        1994.0  \n",
      "10                   NaN                   101.84        2014.0  \n",
      "11                   NaN                    72.90        1991.0  \n",
      "12                 Bones                    74.46        1999.0  \n",
      "13                 MAPPA                    13.41        2019.0  \n",
      "14               Trigger                    14.66        1994.0  \n",
      "15               Trigger                    90.76           NaN  \n",
      "16                 MAPPA                    83.50        1990.0  \n",
      "17              Ufotable                    32.70        2007.0  \n",
      "18                 Bones                   141.98           NaN  \n",
      "19         Studio Ghibli                   117.41        2000.0  \n",
      "20                   NaN                    17.91        2010.0  \n",
      "21              Ufotable                      NaN        2015.0  \n",
      "22               Trigger                   146.16        2014.0  \n",
      "23               Trigger                   149.39        2011.0  \n",
      "24          A-1 Pictures                     9.32        2016.0  \n",
      "25                 MAPPA                   110.82        2002.0  \n",
      "26                 Bones                      NaN        2022.0  \n",
      "27        Toei Animation                   106.17        1990.0  \n",
      "28                 Bones                   145.33        2010.0  \n",
      "29               Trigger                   103.52        1995.0  \n",
      "30               Trigger                      NaN        2017.0  \n",
      "31              Madhouse                   130.16        2006.0  \n",
      "32               Trigger                      NaN        1994.0  \n",
      "33         Studio Ghibli                    64.49        2020.0  \n",
      "34            Wit Studio                    34.16        1994.0  \n",
      "35                 MAPPA                    60.10        1992.0  \n",
      "36                 Bones                   133.89        2012.0  \n",
      "37                   NaN                    22.84        1999.0  \n",
      "38              Ufotable                    77.49        1999.0  \n",
      "39        Toei Animation                    35.75        2008.0  \n",
      "40         Studio Ghibli                    87.61        2006.0  \n",
      "41                 Bones                   129.61        2010.0  \n",
      "42            Wit Studio                   132.17           NaN  \n",
      "43        Toei Animation                    36.27        1998.0  \n",
      "44              Madhouse                   136.25        1990.0  \n",
      "45         Studio Ghibli                    89.19        2002.0  \n",
      "46         Studio Ghibli                    53.18        1993.0  \n",
      "47              Madhouse                   106.52           NaN  \n",
      "48                 MAPPA                    72.77        2021.0  \n",
      "49              Madhouse                    57.32        2017.0  \n",
      "50         Studio Ghibli                      NaN        2020.0  \n",
      "51                   NaN                    38.06        1997.0  \n",
      "52            Wit Studio                    50.21        2015.0  \n",
      "53               Trigger                    65.73        1992.0  \n",
      "54        Toei Animation                    38.80           NaN  \n",
      "55              Madhouse                    61.38        1990.0  \n",
      "56        Toei Animation                    86.15        1994.0  \n",
      "57              Madhouse                   111.41        2019.0  \n",
      "58              Ufotable                   115.31           NaN  \n",
      "59         Studio Ghibli                   123.60        2006.0  \n",
      "60               Trigger                   111.89           NaN  \n",
      "61            Wit Studio                   102.47        2004.0  \n",
      "62               Trigger                    36.39        2010.0  \n",
      "63               Trigger                    60.63        2003.0  \n",
      "64               Trigger                      NaN        1991.0  \n",
      "65        Toei Animation                    13.35        2000.0  \n",
      "66              Madhouse                    79.73        2007.0  \n",
      "67                   NaN                    66.01        2019.0  \n",
      "68              Ufotable                   120.51           NaN  \n",
      "69                 Bones                   146.71        2016.0  \n",
      "70               Trigger                    83.84        2022.0  \n",
      "71                 MAPPA                    49.08        2013.0  \n",
      "72                   NaN                     7.47           NaN  \n",
      "73            Wit Studio                   138.77        2019.0  \n",
      "74                 Bones                   137.95        2006.0  \n",
      "75               Pierrot                    38.70        1994.0  \n",
      "76                 MAPPA                   104.62        2018.0  \n",
      "77               Pierrot                    12.24        1993.0  \n",
      "78                 Bones                    25.77        1999.0  \n",
      "79                   NaN                    33.30        2006.0  \n",
      "80                 MAPPA                    44.88        1999.0  \n",
      "81               Pierrot                   149.38        2006.0  \n",
      "82            Wit Studio                   104.84        2009.0  \n",
      "83              Madhouse                    58.25        2013.0  \n",
      "84         Studio Ghibli                   110.83        1994.0  \n",
      "85              Madhouse                   137.37        1995.0  \n",
      "86                 Bones                   143.85        1991.0  \n",
      "87        Toei Animation                     9.62        2002.0  \n",
      "88         Studio Ghibli                    59.78        2000.0  \n",
      "89              Ufotable                    16.91        2012.0  \n",
      "90            Wit Studio                      NaN        2005.0  \n",
      "91              Ufotable                    26.28        2020.0  \n",
      "92                 MAPPA                      NaN        2000.0  \n",
      "93         Studio Ghibli                    58.85        2005.0  \n",
      "94              Ufotable                    35.18        1997.0  \n",
      "95                   NaN                    40.62           NaN  \n",
      "96               Pierrot                    54.69        1993.0  \n",
      "97              Madhouse                    39.73        2014.0  \n",
      "98               Pierrot                    68.53        1992.0  \n",
      "99         Studio Ghibli                     5.82        2021.0  > <bound method DataFrame.median of                  Anime Name  Ratings  Number of Episodes  \\\n",
      "0       Fullmetal Alchemist      8.8               317.0   \n",
      "1                 Haikyuu!!      9.2               420.0   \n",
      "2                       NaN      7.4               419.0   \n",
      "3                    Bleach      6.4                 NaN   \n",
      "4          Sword Art Online      9.8               327.0   \n",
      "5       Fullmetal Alchemist      NaN               402.0   \n",
      "6              Black Clover      8.1                 NaN   \n",
      "7                    Bleach      9.4                47.0   \n",
      "8                       NaN      8.7               184.0   \n",
      "9              Demon Slayer      8.9                31.0   \n",
      "10         Sword Art Online      6.8               332.0   \n",
      "11                One Piece      8.2               275.0   \n",
      "12          Attack on Titan      8.8                 NaN   \n",
      "13              Tokyo Ghoul      6.9               153.0   \n",
      "14            Dragon Ball Z      NaN               471.0   \n",
      "15          Attack on Titan      9.9                 NaN   \n",
      "16                   Naruto      8.1               482.0   \n",
      "17              Tokyo Ghoul      7.0               154.0   \n",
      "18                      NaN     10.0               103.0   \n",
      "19           Mob Psycho 100      9.9               365.0   \n",
      "20            Spirited Away      8.2               333.0   \n",
      "21           Jujutsu Kaisen      9.5               299.0   \n",
      "22  Neon Genesis Evangelion      6.8               226.0   \n",
      "23  Neon Genesis Evangelion      7.1               458.0   \n",
      "24             Black Clover      NaN               353.0   \n",
      "25              Tokyo Ghoul      9.4                62.0   \n",
      "26                Haikyuu!!      9.4               164.0   \n",
      "27                One Piece      7.6               197.0   \n",
      "28         My Hero Academia      9.6                74.0   \n",
      "29             Black Clover      9.4               201.0   \n",
      "30      Fullmetal Alchemist      NaN               136.0   \n",
      "31               Death Note      9.1               161.0   \n",
      "32      Fullmetal Alchemist      8.7               325.0   \n",
      "33                  Re:Zero      8.3                69.0   \n",
      "34             Demon Slayer      7.5               353.0   \n",
      "35               Fairy Tail      9.8               316.0   \n",
      "36                      NaN      9.9               191.0   \n",
      "37               Death Note      7.1                 NaN   \n",
      "38          Attack on Titan      7.2               337.0   \n",
      "39                      NaN      7.9               282.0   \n",
      "40  Neon Genesis Evangelion      7.8                 NaN   \n",
      "41      Fullmetal Alchemist     10.0               455.0   \n",
      "42              Tokyo Ghoul      NaN               112.0   \n",
      "43         Sword Art Online      NaN               492.0   \n",
      "44  Neon Genesis Evangelion      NaN               275.0   \n",
      "45                One Piece      6.7                64.0   \n",
      "46               Fairy Tail      7.5                71.0   \n",
      "47           Mob Psycho 100      9.0               119.0   \n",
      "48                      NaN      8.9                16.0   \n",
      "49                  Re:Zero      7.2               114.0   \n",
      "50         Sword Art Online      8.2               207.0   \n",
      "51             Demon Slayer      8.0                 NaN   \n",
      "52          Attack on Titan      8.5               376.0   \n",
      "53            Dragon Ball Z      7.0               491.0   \n",
      "54            Spirited Away      8.4               383.0   \n",
      "55             Demon Slayer      9.9               361.0   \n",
      "56                  Re:Zero      7.9                58.0   \n",
      "57              Tokyo Ghoul      9.6               366.0   \n",
      "58          Attack on Titan      7.7               322.0   \n",
      "59            Spirited Away      7.4               435.0   \n",
      "60                      NaN      8.6               319.0   \n",
      "61               Fairy Tail      NaN               155.0   \n",
      "62           Jujutsu Kaisen      9.5               280.0   \n",
      "63  Neon Genesis Evangelion      6.9               381.0   \n",
      "64         Sword Art Online      8.0               135.0   \n",
      "65               Fairy Tail      8.3               117.0   \n",
      "66         Sword Art Online      9.1                 NaN   \n",
      "67           Jujutsu Kaisen      6.2               158.0   \n",
      "68          Hunter x Hunter     10.0               156.0   \n",
      "69                  Re:Zero      NaN               131.0   \n",
      "70  Neon Genesis Evangelion      7.1               330.0   \n",
      "71          Hunter x Hunter      9.5               286.0   \n",
      "72               Death Note      9.0               103.0   \n",
      "73  Neon Genesis Evangelion      9.8                69.0   \n",
      "74          Hunter x Hunter      7.3               450.0   \n",
      "75                   Naruto      NaN               357.0   \n",
      "76      Fullmetal Alchemist      8.3               240.0   \n",
      "77               Death Note      9.9               485.0   \n",
      "78                   Naruto      6.3               128.0   \n",
      "79              Tokyo Ghoul      7.2               329.0   \n",
      "80         Sword Art Online      6.8               290.0   \n",
      "81                   Bleach      7.1               138.0   \n",
      "82             Black Clover      7.9               404.0   \n",
      "83           Mob Psycho 100      7.5               407.0   \n",
      "84         Sword Art Online      7.6               140.0   \n",
      "85                One Piece      9.4                69.0   \n",
      "86                      NaN      9.7               133.0   \n",
      "87                   Naruto      6.3                12.0   \n",
      "88         My Hero Academia      6.8               250.0   \n",
      "89            Spirited Away      8.7               301.0   \n",
      "90      Fullmetal Alchemist      7.4               107.0   \n",
      "91               Death Note      7.0                 NaN   \n",
      "92      Fullmetal Alchemist      7.2                 NaN   \n",
      "93                      NaN      7.3                59.0   \n",
      "94         Sword Art Online      9.4               100.0   \n",
      "95              Tokyo Ghoul      6.5               499.0   \n",
      "96          Attack on Titan      8.8               248.0   \n",
      "97                      NaN      8.2               384.0   \n",
      "98           Jujutsu Kaisen      7.2               396.0   \n",
      "99         My Hero Academia      7.7               283.0   \n",
      "\n",
      "   Animation Studio Name  Budget (in Million USD)  Release Year  \n",
      "0               Ufotable                    80.61        1998.0  \n",
      "1                  MAPPA                    74.99        2022.0  \n",
      "2           A-1 Pictures                    59.05        2009.0  \n",
      "3               Ufotable                    45.35        2002.0  \n",
      "4               Madhouse                    15.90        2017.0  \n",
      "5                    NaN                     8.97        2018.0  \n",
      "6               Madhouse                      NaN        2002.0  \n",
      "7                  MAPPA                   127.22        1995.0  \n",
      "8           A-1 Pictures                    53.88        2007.0  \n",
      "9                Pierrot                      NaN        1994.0  \n",
      "10                   NaN                   101.84        2014.0  \n",
      "11                   NaN                    72.90        1991.0  \n",
      "12                 Bones                    74.46        1999.0  \n",
      "13                 MAPPA                    13.41        2019.0  \n",
      "14               Trigger                    14.66        1994.0  \n",
      "15               Trigger                    90.76           NaN  \n",
      "16                 MAPPA                    83.50        1990.0  \n",
      "17              Ufotable                    32.70        2007.0  \n",
      "18                 Bones                   141.98           NaN  \n",
      "19         Studio Ghibli                   117.41        2000.0  \n",
      "20                   NaN                    17.91        2010.0  \n",
      "21              Ufotable                      NaN        2015.0  \n",
      "22               Trigger                   146.16        2014.0  \n",
      "23               Trigger                   149.39        2011.0  \n",
      "24          A-1 Pictures                     9.32        2016.0  \n",
      "25                 MAPPA                   110.82        2002.0  \n",
      "26                 Bones                      NaN        2022.0  \n",
      "27        Toei Animation                   106.17        1990.0  \n",
      "28                 Bones                   145.33        2010.0  \n",
      "29               Trigger                   103.52        1995.0  \n",
      "30               Trigger                      NaN        2017.0  \n",
      "31              Madhouse                   130.16        2006.0  \n",
      "32               Trigger                      NaN        1994.0  \n",
      "33         Studio Ghibli                    64.49        2020.0  \n",
      "34            Wit Studio                    34.16        1994.0  \n",
      "35                 MAPPA                    60.10        1992.0  \n",
      "36                 Bones                   133.89        2012.0  \n",
      "37                   NaN                    22.84        1999.0  \n",
      "38              Ufotable                    77.49        1999.0  \n",
      "39        Toei Animation                    35.75        2008.0  \n",
      "40         Studio Ghibli                    87.61        2006.0  \n",
      "41                 Bones                   129.61        2010.0  \n",
      "42            Wit Studio                   132.17           NaN  \n",
      "43        Toei Animation                    36.27        1998.0  \n",
      "44              Madhouse                   136.25        1990.0  \n",
      "45         Studio Ghibli                    89.19        2002.0  \n",
      "46         Studio Ghibli                    53.18        1993.0  \n",
      "47              Madhouse                   106.52           NaN  \n",
      "48                 MAPPA                    72.77        2021.0  \n",
      "49              Madhouse                    57.32        2017.0  \n",
      "50         Studio Ghibli                      NaN        2020.0  \n",
      "51                   NaN                    38.06        1997.0  \n",
      "52            Wit Studio                    50.21        2015.0  \n",
      "53               Trigger                    65.73        1992.0  \n",
      "54        Toei Animation                    38.80           NaN  \n",
      "55              Madhouse                    61.38        1990.0  \n",
      "56        Toei Animation                    86.15        1994.0  \n",
      "57              Madhouse                   111.41        2019.0  \n",
      "58              Ufotable                   115.31           NaN  \n",
      "59         Studio Ghibli                   123.60        2006.0  \n",
      "60               Trigger                   111.89           NaN  \n",
      "61            Wit Studio                   102.47        2004.0  \n",
      "62               Trigger                    36.39        2010.0  \n",
      "63               Trigger                    60.63        2003.0  \n",
      "64               Trigger                      NaN        1991.0  \n",
      "65        Toei Animation                    13.35        2000.0  \n",
      "66              Madhouse                    79.73        2007.0  \n",
      "67                   NaN                    66.01        2019.0  \n",
      "68              Ufotable                   120.51           NaN  \n",
      "69                 Bones                   146.71        2016.0  \n",
      "70               Trigger                    83.84        2022.0  \n",
      "71                 MAPPA                    49.08        2013.0  \n",
      "72                   NaN                     7.47           NaN  \n",
      "73            Wit Studio                   138.77        2019.0  \n",
      "74                 Bones                   137.95        2006.0  \n",
      "75               Pierrot                    38.70        1994.0  \n",
      "76                 MAPPA                   104.62        2018.0  \n",
      "77               Pierrot                    12.24        1993.0  \n",
      "78                 Bones                    25.77        1999.0  \n",
      "79                   NaN                    33.30        2006.0  \n",
      "80                 MAPPA                    44.88        1999.0  \n",
      "81               Pierrot                   149.38        2006.0  \n",
      "82            Wit Studio                   104.84        2009.0  \n",
      "83              Madhouse                    58.25        2013.0  \n",
      "84         Studio Ghibli                   110.83        1994.0  \n",
      "85              Madhouse                   137.37        1995.0  \n",
      "86                 Bones                   143.85        1991.0  \n",
      "87        Toei Animation                     9.62        2002.0  \n",
      "88         Studio Ghibli                    59.78        2000.0  \n",
      "89              Ufotable                    16.91        2012.0  \n",
      "90            Wit Studio                      NaN        2005.0  \n",
      "91              Ufotable                    26.28        2020.0  \n",
      "92                 MAPPA                      NaN        2000.0  \n",
      "93         Studio Ghibli                    58.85        2005.0  \n",
      "94              Ufotable                    35.18        1997.0  \n",
      "95                   NaN                    40.62           NaN  \n",
      "96               Pierrot                    54.69        1993.0  \n",
      "97              Madhouse                    39.73        2014.0  \n",
      "98               Pierrot                    68.53        1992.0  \n",
      "99         Studio Ghibli                     5.82        2021.0  > <bound method DataFrame.std of                  Anime Name  Ratings  Number of Episodes  \\\n",
      "0       Fullmetal Alchemist      8.8               317.0   \n",
      "1                 Haikyuu!!      9.2               420.0   \n",
      "2                       NaN      7.4               419.0   \n",
      "3                    Bleach      6.4                 NaN   \n",
      "4          Sword Art Online      9.8               327.0   \n",
      "5       Fullmetal Alchemist      NaN               402.0   \n",
      "6              Black Clover      8.1                 NaN   \n",
      "7                    Bleach      9.4                47.0   \n",
      "8                       NaN      8.7               184.0   \n",
      "9              Demon Slayer      8.9                31.0   \n",
      "10         Sword Art Online      6.8               332.0   \n",
      "11                One Piece      8.2               275.0   \n",
      "12          Attack on Titan      8.8                 NaN   \n",
      "13              Tokyo Ghoul      6.9               153.0   \n",
      "14            Dragon Ball Z      NaN               471.0   \n",
      "15          Attack on Titan      9.9                 NaN   \n",
      "16                   Naruto      8.1               482.0   \n",
      "17              Tokyo Ghoul      7.0               154.0   \n",
      "18                      NaN     10.0               103.0   \n",
      "19           Mob Psycho 100      9.9               365.0   \n",
      "20            Spirited Away      8.2               333.0   \n",
      "21           Jujutsu Kaisen      9.5               299.0   \n",
      "22  Neon Genesis Evangelion      6.8               226.0   \n",
      "23  Neon Genesis Evangelion      7.1               458.0   \n",
      "24             Black Clover      NaN               353.0   \n",
      "25              Tokyo Ghoul      9.4                62.0   \n",
      "26                Haikyuu!!      9.4               164.0   \n",
      "27                One Piece      7.6               197.0   \n",
      "28         My Hero Academia      9.6                74.0   \n",
      "29             Black Clover      9.4               201.0   \n",
      "30      Fullmetal Alchemist      NaN               136.0   \n",
      "31               Death Note      9.1               161.0   \n",
      "32      Fullmetal Alchemist      8.7               325.0   \n",
      "33                  Re:Zero      8.3                69.0   \n",
      "34             Demon Slayer      7.5               353.0   \n",
      "35               Fairy Tail      9.8               316.0   \n",
      "36                      NaN      9.9               191.0   \n",
      "37               Death Note      7.1                 NaN   \n",
      "38          Attack on Titan      7.2               337.0   \n",
      "39                      NaN      7.9               282.0   \n",
      "40  Neon Genesis Evangelion      7.8                 NaN   \n",
      "41      Fullmetal Alchemist     10.0               455.0   \n",
      "42              Tokyo Ghoul      NaN               112.0   \n",
      "43         Sword Art Online      NaN               492.0   \n",
      "44  Neon Genesis Evangelion      NaN               275.0   \n",
      "45                One Piece      6.7                64.0   \n",
      "46               Fairy Tail      7.5                71.0   \n",
      "47           Mob Psycho 100      9.0               119.0   \n",
      "48                      NaN      8.9                16.0   \n",
      "49                  Re:Zero      7.2               114.0   \n",
      "50         Sword Art Online      8.2               207.0   \n",
      "51             Demon Slayer      8.0                 NaN   \n",
      "52          Attack on Titan      8.5               376.0   \n",
      "53            Dragon Ball Z      7.0               491.0   \n",
      "54            Spirited Away      8.4               383.0   \n",
      "55             Demon Slayer      9.9               361.0   \n",
      "56                  Re:Zero      7.9                58.0   \n",
      "57              Tokyo Ghoul      9.6               366.0   \n",
      "58          Attack on Titan      7.7               322.0   \n",
      "59            Spirited Away      7.4               435.0   \n",
      "60                      NaN      8.6               319.0   \n",
      "61               Fairy Tail      NaN               155.0   \n",
      "62           Jujutsu Kaisen      9.5               280.0   \n",
      "63  Neon Genesis Evangelion      6.9               381.0   \n",
      "64         Sword Art Online      8.0               135.0   \n",
      "65               Fairy Tail      8.3               117.0   \n",
      "66         Sword Art Online      9.1                 NaN   \n",
      "67           Jujutsu Kaisen      6.2               158.0   \n",
      "68          Hunter x Hunter     10.0               156.0   \n",
      "69                  Re:Zero      NaN               131.0   \n",
      "70  Neon Genesis Evangelion      7.1               330.0   \n",
      "71          Hunter x Hunter      9.5               286.0   \n",
      "72               Death Note      9.0               103.0   \n",
      "73  Neon Genesis Evangelion      9.8                69.0   \n",
      "74          Hunter x Hunter      7.3               450.0   \n",
      "75                   Naruto      NaN               357.0   \n",
      "76      Fullmetal Alchemist      8.3               240.0   \n",
      "77               Death Note      9.9               485.0   \n",
      "78                   Naruto      6.3               128.0   \n",
      "79              Tokyo Ghoul      7.2               329.0   \n",
      "80         Sword Art Online      6.8               290.0   \n",
      "81                   Bleach      7.1               138.0   \n",
      "82             Black Clover      7.9               404.0   \n",
      "83           Mob Psycho 100      7.5               407.0   \n",
      "84         Sword Art Online      7.6               140.0   \n",
      "85                One Piece      9.4                69.0   \n",
      "86                      NaN      9.7               133.0   \n",
      "87                   Naruto      6.3                12.0   \n",
      "88         My Hero Academia      6.8               250.0   \n",
      "89            Spirited Away      8.7               301.0   \n",
      "90      Fullmetal Alchemist      7.4               107.0   \n",
      "91               Death Note      7.0                 NaN   \n",
      "92      Fullmetal Alchemist      7.2                 NaN   \n",
      "93                      NaN      7.3                59.0   \n",
      "94         Sword Art Online      9.4               100.0   \n",
      "95              Tokyo Ghoul      6.5               499.0   \n",
      "96          Attack on Titan      8.8               248.0   \n",
      "97                      NaN      8.2               384.0   \n",
      "98           Jujutsu Kaisen      7.2               396.0   \n",
      "99         My Hero Academia      7.7               283.0   \n",
      "\n",
      "   Animation Studio Name  Budget (in Million USD)  Release Year  \n",
      "0               Ufotable                    80.61        1998.0  \n",
      "1                  MAPPA                    74.99        2022.0  \n",
      "2           A-1 Pictures                    59.05        2009.0  \n",
      "3               Ufotable                    45.35        2002.0  \n",
      "4               Madhouse                    15.90        2017.0  \n",
      "5                    NaN                     8.97        2018.0  \n",
      "6               Madhouse                      NaN        2002.0  \n",
      "7                  MAPPA                   127.22        1995.0  \n",
      "8           A-1 Pictures                    53.88        2007.0  \n",
      "9                Pierrot                      NaN        1994.0  \n",
      "10                   NaN                   101.84        2014.0  \n",
      "11                   NaN                    72.90        1991.0  \n",
      "12                 Bones                    74.46        1999.0  \n",
      "13                 MAPPA                    13.41        2019.0  \n",
      "14               Trigger                    14.66        1994.0  \n",
      "15               Trigger                    90.76           NaN  \n",
      "16                 MAPPA                    83.50        1990.0  \n",
      "17              Ufotable                    32.70        2007.0  \n",
      "18                 Bones                   141.98           NaN  \n",
      "19         Studio Ghibli                   117.41        2000.0  \n",
      "20                   NaN                    17.91        2010.0  \n",
      "21              Ufotable                      NaN        2015.0  \n",
      "22               Trigger                   146.16        2014.0  \n",
      "23               Trigger                   149.39        2011.0  \n",
      "24          A-1 Pictures                     9.32        2016.0  \n",
      "25                 MAPPA                   110.82        2002.0  \n",
      "26                 Bones                      NaN        2022.0  \n",
      "27        Toei Animation                   106.17        1990.0  \n",
      "28                 Bones                   145.33        2010.0  \n",
      "29               Trigger                   103.52        1995.0  \n",
      "30               Trigger                      NaN        2017.0  \n",
      "31              Madhouse                   130.16        2006.0  \n",
      "32               Trigger                      NaN        1994.0  \n",
      "33         Studio Ghibli                    64.49        2020.0  \n",
      "34            Wit Studio                    34.16        1994.0  \n",
      "35                 MAPPA                    60.10        1992.0  \n",
      "36                 Bones                   133.89        2012.0  \n",
      "37                   NaN                    22.84        1999.0  \n",
      "38              Ufotable                    77.49        1999.0  \n",
      "39        Toei Animation                    35.75        2008.0  \n",
      "40         Studio Ghibli                    87.61        2006.0  \n",
      "41                 Bones                   129.61        2010.0  \n",
      "42            Wit Studio                   132.17           NaN  \n",
      "43        Toei Animation                    36.27        1998.0  \n",
      "44              Madhouse                   136.25        1990.0  \n",
      "45         Studio Ghibli                    89.19        2002.0  \n",
      "46         Studio Ghibli                    53.18        1993.0  \n",
      "47              Madhouse                   106.52           NaN  \n",
      "48                 MAPPA                    72.77        2021.0  \n",
      "49              Madhouse                    57.32        2017.0  \n",
      "50         Studio Ghibli                      NaN        2020.0  \n",
      "51                   NaN                    38.06        1997.0  \n",
      "52            Wit Studio                    50.21        2015.0  \n",
      "53               Trigger                    65.73        1992.0  \n",
      "54        Toei Animation                    38.80           NaN  \n",
      "55              Madhouse                    61.38        1990.0  \n",
      "56        Toei Animation                    86.15        1994.0  \n",
      "57              Madhouse                   111.41        2019.0  \n",
      "58              Ufotable                   115.31           NaN  \n",
      "59         Studio Ghibli                   123.60        2006.0  \n",
      "60               Trigger                   111.89           NaN  \n",
      "61            Wit Studio                   102.47        2004.0  \n",
      "62               Trigger                    36.39        2010.0  \n",
      "63               Trigger                    60.63        2003.0  \n",
      "64               Trigger                      NaN        1991.0  \n",
      "65        Toei Animation                    13.35        2000.0  \n",
      "66              Madhouse                    79.73        2007.0  \n",
      "67                   NaN                    66.01        2019.0  \n",
      "68              Ufotable                   120.51           NaN  \n",
      "69                 Bones                   146.71        2016.0  \n",
      "70               Trigger                    83.84        2022.0  \n",
      "71                 MAPPA                    49.08        2013.0  \n",
      "72                   NaN                     7.47           NaN  \n",
      "73            Wit Studio                   138.77        2019.0  \n",
      "74                 Bones                   137.95        2006.0  \n",
      "75               Pierrot                    38.70        1994.0  \n",
      "76                 MAPPA                   104.62        2018.0  \n",
      "77               Pierrot                    12.24        1993.0  \n",
      "78                 Bones                    25.77        1999.0  \n",
      "79                   NaN                    33.30        2006.0  \n",
      "80                 MAPPA                    44.88        1999.0  \n",
      "81               Pierrot                   149.38        2006.0  \n",
      "82            Wit Studio                   104.84        2009.0  \n",
      "83              Madhouse                    58.25        2013.0  \n",
      "84         Studio Ghibli                   110.83        1994.0  \n",
      "85              Madhouse                   137.37        1995.0  \n",
      "86                 Bones                   143.85        1991.0  \n",
      "87        Toei Animation                     9.62        2002.0  \n",
      "88         Studio Ghibli                    59.78        2000.0  \n",
      "89              Ufotable                    16.91        2012.0  \n",
      "90            Wit Studio                      NaN        2005.0  \n",
      "91              Ufotable                    26.28        2020.0  \n",
      "92                 MAPPA                      NaN        2000.0  \n",
      "93         Studio Ghibli                    58.85        2005.0  \n",
      "94              Ufotable                    35.18        1997.0  \n",
      "95                   NaN                    40.62           NaN  \n",
      "96               Pierrot                    54.69        1993.0  \n",
      "97              Madhouse                    39.73        2014.0  \n",
      "98               Pierrot                    68.53        1992.0  \n",
      "99         Studio Ghibli                     5.82        2021.0  > <bound method DataFrame.max of                  Anime Name  Ratings  Number of Episodes  \\\n",
      "0       Fullmetal Alchemist      8.8               317.0   \n",
      "1                 Haikyuu!!      9.2               420.0   \n",
      "2                       NaN      7.4               419.0   \n",
      "3                    Bleach      6.4                 NaN   \n",
      "4          Sword Art Online      9.8               327.0   \n",
      "5       Fullmetal Alchemist      NaN               402.0   \n",
      "6              Black Clover      8.1                 NaN   \n",
      "7                    Bleach      9.4                47.0   \n",
      "8                       NaN      8.7               184.0   \n",
      "9              Demon Slayer      8.9                31.0   \n",
      "10         Sword Art Online      6.8               332.0   \n",
      "11                One Piece      8.2               275.0   \n",
      "12          Attack on Titan      8.8                 NaN   \n",
      "13              Tokyo Ghoul      6.9               153.0   \n",
      "14            Dragon Ball Z      NaN               471.0   \n",
      "15          Attack on Titan      9.9                 NaN   \n",
      "16                   Naruto      8.1               482.0   \n",
      "17              Tokyo Ghoul      7.0               154.0   \n",
      "18                      NaN     10.0               103.0   \n",
      "19           Mob Psycho 100      9.9               365.0   \n",
      "20            Spirited Away      8.2               333.0   \n",
      "21           Jujutsu Kaisen      9.5               299.0   \n",
      "22  Neon Genesis Evangelion      6.8               226.0   \n",
      "23  Neon Genesis Evangelion      7.1               458.0   \n",
      "24             Black Clover      NaN               353.0   \n",
      "25              Tokyo Ghoul      9.4                62.0   \n",
      "26                Haikyuu!!      9.4               164.0   \n",
      "27                One Piece      7.6               197.0   \n",
      "28         My Hero Academia      9.6                74.0   \n",
      "29             Black Clover      9.4               201.0   \n",
      "30      Fullmetal Alchemist      NaN               136.0   \n",
      "31               Death Note      9.1               161.0   \n",
      "32      Fullmetal Alchemist      8.7               325.0   \n",
      "33                  Re:Zero      8.3                69.0   \n",
      "34             Demon Slayer      7.5               353.0   \n",
      "35               Fairy Tail      9.8               316.0   \n",
      "36                      NaN      9.9               191.0   \n",
      "37               Death Note      7.1                 NaN   \n",
      "38          Attack on Titan      7.2               337.0   \n",
      "39                      NaN      7.9               282.0   \n",
      "40  Neon Genesis Evangelion      7.8                 NaN   \n",
      "41      Fullmetal Alchemist     10.0               455.0   \n",
      "42              Tokyo Ghoul      NaN               112.0   \n",
      "43         Sword Art Online      NaN               492.0   \n",
      "44  Neon Genesis Evangelion      NaN               275.0   \n",
      "45                One Piece      6.7                64.0   \n",
      "46               Fairy Tail      7.5                71.0   \n",
      "47           Mob Psycho 100      9.0               119.0   \n",
      "48                      NaN      8.9                16.0   \n",
      "49                  Re:Zero      7.2               114.0   \n",
      "50         Sword Art Online      8.2               207.0   \n",
      "51             Demon Slayer      8.0                 NaN   \n",
      "52          Attack on Titan      8.5               376.0   \n",
      "53            Dragon Ball Z      7.0               491.0   \n",
      "54            Spirited Away      8.4               383.0   \n",
      "55             Demon Slayer      9.9               361.0   \n",
      "56                  Re:Zero      7.9                58.0   \n",
      "57              Tokyo Ghoul      9.6               366.0   \n",
      "58          Attack on Titan      7.7               322.0   \n",
      "59            Spirited Away      7.4               435.0   \n",
      "60                      NaN      8.6               319.0   \n",
      "61               Fairy Tail      NaN               155.0   \n",
      "62           Jujutsu Kaisen      9.5               280.0   \n",
      "63  Neon Genesis Evangelion      6.9               381.0   \n",
      "64         Sword Art Online      8.0               135.0   \n",
      "65               Fairy Tail      8.3               117.0   \n",
      "66         Sword Art Online      9.1                 NaN   \n",
      "67           Jujutsu Kaisen      6.2               158.0   \n",
      "68          Hunter x Hunter     10.0               156.0   \n",
      "69                  Re:Zero      NaN               131.0   \n",
      "70  Neon Genesis Evangelion      7.1               330.0   \n",
      "71          Hunter x Hunter      9.5               286.0   \n",
      "72               Death Note      9.0               103.0   \n",
      "73  Neon Genesis Evangelion      9.8                69.0   \n",
      "74          Hunter x Hunter      7.3               450.0   \n",
      "75                   Naruto      NaN               357.0   \n",
      "76      Fullmetal Alchemist      8.3               240.0   \n",
      "77               Death Note      9.9               485.0   \n",
      "78                   Naruto      6.3               128.0   \n",
      "79              Tokyo Ghoul      7.2               329.0   \n",
      "80         Sword Art Online      6.8               290.0   \n",
      "81                   Bleach      7.1               138.0   \n",
      "82             Black Clover      7.9               404.0   \n",
      "83           Mob Psycho 100      7.5               407.0   \n",
      "84         Sword Art Online      7.6               140.0   \n",
      "85                One Piece      9.4                69.0   \n",
      "86                      NaN      9.7               133.0   \n",
      "87                   Naruto      6.3                12.0   \n",
      "88         My Hero Academia      6.8               250.0   \n",
      "89            Spirited Away      8.7               301.0   \n",
      "90      Fullmetal Alchemist      7.4               107.0   \n",
      "91               Death Note      7.0                 NaN   \n",
      "92      Fullmetal Alchemist      7.2                 NaN   \n",
      "93                      NaN      7.3                59.0   \n",
      "94         Sword Art Online      9.4               100.0   \n",
      "95              Tokyo Ghoul      6.5               499.0   \n",
      "96          Attack on Titan      8.8               248.0   \n",
      "97                      NaN      8.2               384.0   \n",
      "98           Jujutsu Kaisen      7.2               396.0   \n",
      "99         My Hero Academia      7.7               283.0   \n",
      "\n",
      "   Animation Studio Name  Budget (in Million USD)  Release Year  \n",
      "0               Ufotable                    80.61        1998.0  \n",
      "1                  MAPPA                    74.99        2022.0  \n",
      "2           A-1 Pictures                    59.05        2009.0  \n",
      "3               Ufotable                    45.35        2002.0  \n",
      "4               Madhouse                    15.90        2017.0  \n",
      "5                    NaN                     8.97        2018.0  \n",
      "6               Madhouse                      NaN        2002.0  \n",
      "7                  MAPPA                   127.22        1995.0  \n",
      "8           A-1 Pictures                    53.88        2007.0  \n",
      "9                Pierrot                      NaN        1994.0  \n",
      "10                   NaN                   101.84        2014.0  \n",
      "11                   NaN                    72.90        1991.0  \n",
      "12                 Bones                    74.46        1999.0  \n",
      "13                 MAPPA                    13.41        2019.0  \n",
      "14               Trigger                    14.66        1994.0  \n",
      "15               Trigger                    90.76           NaN  \n",
      "16                 MAPPA                    83.50        1990.0  \n",
      "17              Ufotable                    32.70        2007.0  \n",
      "18                 Bones                   141.98           NaN  \n",
      "19         Studio Ghibli                   117.41        2000.0  \n",
      "20                   NaN                    17.91        2010.0  \n",
      "21              Ufotable                      NaN        2015.0  \n",
      "22               Trigger                   146.16        2014.0  \n",
      "23               Trigger                   149.39        2011.0  \n",
      "24          A-1 Pictures                     9.32        2016.0  \n",
      "25                 MAPPA                   110.82        2002.0  \n",
      "26                 Bones                      NaN        2022.0  \n",
      "27        Toei Animation                   106.17        1990.0  \n",
      "28                 Bones                   145.33        2010.0  \n",
      "29               Trigger                   103.52        1995.0  \n",
      "30               Trigger                      NaN        2017.0  \n",
      "31              Madhouse                   130.16        2006.0  \n",
      "32               Trigger                      NaN        1994.0  \n",
      "33         Studio Ghibli                    64.49        2020.0  \n",
      "34            Wit Studio                    34.16        1994.0  \n",
      "35                 MAPPA                    60.10        1992.0  \n",
      "36                 Bones                   133.89        2012.0  \n",
      "37                   NaN                    22.84        1999.0  \n",
      "38              Ufotable                    77.49        1999.0  \n",
      "39        Toei Animation                    35.75        2008.0  \n",
      "40         Studio Ghibli                    87.61        2006.0  \n",
      "41                 Bones                   129.61        2010.0  \n",
      "42            Wit Studio                   132.17           NaN  \n",
      "43        Toei Animation                    36.27        1998.0  \n",
      "44              Madhouse                   136.25        1990.0  \n",
      "45         Studio Ghibli                    89.19        2002.0  \n",
      "46         Studio Ghibli                    53.18        1993.0  \n",
      "47              Madhouse                   106.52           NaN  \n",
      "48                 MAPPA                    72.77        2021.0  \n",
      "49              Madhouse                    57.32        2017.0  \n",
      "50         Studio Ghibli                      NaN        2020.0  \n",
      "51                   NaN                    38.06        1997.0  \n",
      "52            Wit Studio                    50.21        2015.0  \n",
      "53               Trigger                    65.73        1992.0  \n",
      "54        Toei Animation                    38.80           NaN  \n",
      "55              Madhouse                    61.38        1990.0  \n",
      "56        Toei Animation                    86.15        1994.0  \n",
      "57              Madhouse                   111.41        2019.0  \n",
      "58              Ufotable                   115.31           NaN  \n",
      "59         Studio Ghibli                   123.60        2006.0  \n",
      "60               Trigger                   111.89           NaN  \n",
      "61            Wit Studio                   102.47        2004.0  \n",
      "62               Trigger                    36.39        2010.0  \n",
      "63               Trigger                    60.63        2003.0  \n",
      "64               Trigger                      NaN        1991.0  \n",
      "65        Toei Animation                    13.35        2000.0  \n",
      "66              Madhouse                    79.73        2007.0  \n",
      "67                   NaN                    66.01        2019.0  \n",
      "68              Ufotable                   120.51           NaN  \n",
      "69                 Bones                   146.71        2016.0  \n",
      "70               Trigger                    83.84        2022.0  \n",
      "71                 MAPPA                    49.08        2013.0  \n",
      "72                   NaN                     7.47           NaN  \n",
      "73            Wit Studio                   138.77        2019.0  \n",
      "74                 Bones                   137.95        2006.0  \n",
      "75               Pierrot                    38.70        1994.0  \n",
      "76                 MAPPA                   104.62        2018.0  \n",
      "77               Pierrot                    12.24        1993.0  \n",
      "78                 Bones                    25.77        1999.0  \n",
      "79                   NaN                    33.30        2006.0  \n",
      "80                 MAPPA                    44.88        1999.0  \n",
      "81               Pierrot                   149.38        2006.0  \n",
      "82            Wit Studio                   104.84        2009.0  \n",
      "83              Madhouse                    58.25        2013.0  \n",
      "84         Studio Ghibli                   110.83        1994.0  \n",
      "85              Madhouse                   137.37        1995.0  \n",
      "86                 Bones                   143.85        1991.0  \n",
      "87        Toei Animation                     9.62        2002.0  \n",
      "88         Studio Ghibli                    59.78        2000.0  \n",
      "89              Ufotable                    16.91        2012.0  \n",
      "90            Wit Studio                      NaN        2005.0  \n",
      "91              Ufotable                    26.28        2020.0  \n",
      "92                 MAPPA                      NaN        2000.0  \n",
      "93         Studio Ghibli                    58.85        2005.0  \n",
      "94              Ufotable                    35.18        1997.0  \n",
      "95                   NaN                    40.62           NaN  \n",
      "96               Pierrot                    54.69        1993.0  \n",
      "97              Madhouse                    39.73        2014.0  \n",
      "98               Pierrot                    68.53        1992.0  \n",
      "99         Studio Ghibli                     5.82        2021.0  > <bound method DataFrame.min of                  Anime Name  Ratings  Number of Episodes  \\\n",
      "0       Fullmetal Alchemist      8.8               317.0   \n",
      "1                 Haikyuu!!      9.2               420.0   \n",
      "2                       NaN      7.4               419.0   \n",
      "3                    Bleach      6.4                 NaN   \n",
      "4          Sword Art Online      9.8               327.0   \n",
      "5       Fullmetal Alchemist      NaN               402.0   \n",
      "6              Black Clover      8.1                 NaN   \n",
      "7                    Bleach      9.4                47.0   \n",
      "8                       NaN      8.7               184.0   \n",
      "9              Demon Slayer      8.9                31.0   \n",
      "10         Sword Art Online      6.8               332.0   \n",
      "11                One Piece      8.2               275.0   \n",
      "12          Attack on Titan      8.8                 NaN   \n",
      "13              Tokyo Ghoul      6.9               153.0   \n",
      "14            Dragon Ball Z      NaN               471.0   \n",
      "15          Attack on Titan      9.9                 NaN   \n",
      "16                   Naruto      8.1               482.0   \n",
      "17              Tokyo Ghoul      7.0               154.0   \n",
      "18                      NaN     10.0               103.0   \n",
      "19           Mob Psycho 100      9.9               365.0   \n",
      "20            Spirited Away      8.2               333.0   \n",
      "21           Jujutsu Kaisen      9.5               299.0   \n",
      "22  Neon Genesis Evangelion      6.8               226.0   \n",
      "23  Neon Genesis Evangelion      7.1               458.0   \n",
      "24             Black Clover      NaN               353.0   \n",
      "25              Tokyo Ghoul      9.4                62.0   \n",
      "26                Haikyuu!!      9.4               164.0   \n",
      "27                One Piece      7.6               197.0   \n",
      "28         My Hero Academia      9.6                74.0   \n",
      "29             Black Clover      9.4               201.0   \n",
      "30      Fullmetal Alchemist      NaN               136.0   \n",
      "31               Death Note      9.1               161.0   \n",
      "32      Fullmetal Alchemist      8.7               325.0   \n",
      "33                  Re:Zero      8.3                69.0   \n",
      "34             Demon Slayer      7.5               353.0   \n",
      "35               Fairy Tail      9.8               316.0   \n",
      "36                      NaN      9.9               191.0   \n",
      "37               Death Note      7.1                 NaN   \n",
      "38          Attack on Titan      7.2               337.0   \n",
      "39                      NaN      7.9               282.0   \n",
      "40  Neon Genesis Evangelion      7.8                 NaN   \n",
      "41      Fullmetal Alchemist     10.0               455.0   \n",
      "42              Tokyo Ghoul      NaN               112.0   \n",
      "43         Sword Art Online      NaN               492.0   \n",
      "44  Neon Genesis Evangelion      NaN               275.0   \n",
      "45                One Piece      6.7                64.0   \n",
      "46               Fairy Tail      7.5                71.0   \n",
      "47           Mob Psycho 100      9.0               119.0   \n",
      "48                      NaN      8.9                16.0   \n",
      "49                  Re:Zero      7.2               114.0   \n",
      "50         Sword Art Online      8.2               207.0   \n",
      "51             Demon Slayer      8.0                 NaN   \n",
      "52          Attack on Titan      8.5               376.0   \n",
      "53            Dragon Ball Z      7.0               491.0   \n",
      "54            Spirited Away      8.4               383.0   \n",
      "55             Demon Slayer      9.9               361.0   \n",
      "56                  Re:Zero      7.9                58.0   \n",
      "57              Tokyo Ghoul      9.6               366.0   \n",
      "58          Attack on Titan      7.7               322.0   \n",
      "59            Spirited Away      7.4               435.0   \n",
      "60                      NaN      8.6               319.0   \n",
      "61               Fairy Tail      NaN               155.0   \n",
      "62           Jujutsu Kaisen      9.5               280.0   \n",
      "63  Neon Genesis Evangelion      6.9               381.0   \n",
      "64         Sword Art Online      8.0               135.0   \n",
      "65               Fairy Tail      8.3               117.0   \n",
      "66         Sword Art Online      9.1                 NaN   \n",
      "67           Jujutsu Kaisen      6.2               158.0   \n",
      "68          Hunter x Hunter     10.0               156.0   \n",
      "69                  Re:Zero      NaN               131.0   \n",
      "70  Neon Genesis Evangelion      7.1               330.0   \n",
      "71          Hunter x Hunter      9.5               286.0   \n",
      "72               Death Note      9.0               103.0   \n",
      "73  Neon Genesis Evangelion      9.8                69.0   \n",
      "74          Hunter x Hunter      7.3               450.0   \n",
      "75                   Naruto      NaN               357.0   \n",
      "76      Fullmetal Alchemist      8.3               240.0   \n",
      "77               Death Note      9.9               485.0   \n",
      "78                   Naruto      6.3               128.0   \n",
      "79              Tokyo Ghoul      7.2               329.0   \n",
      "80         Sword Art Online      6.8               290.0   \n",
      "81                   Bleach      7.1               138.0   \n",
      "82             Black Clover      7.9               404.0   \n",
      "83           Mob Psycho 100      7.5               407.0   \n",
      "84         Sword Art Online      7.6               140.0   \n",
      "85                One Piece      9.4                69.0   \n",
      "86                      NaN      9.7               133.0   \n",
      "87                   Naruto      6.3                12.0   \n",
      "88         My Hero Academia      6.8               250.0   \n",
      "89            Spirited Away      8.7               301.0   \n",
      "90      Fullmetal Alchemist      7.4               107.0   \n",
      "91               Death Note      7.0                 NaN   \n",
      "92      Fullmetal Alchemist      7.2                 NaN   \n",
      "93                      NaN      7.3                59.0   \n",
      "94         Sword Art Online      9.4               100.0   \n",
      "95              Tokyo Ghoul      6.5               499.0   \n",
      "96          Attack on Titan      8.8               248.0   \n",
      "97                      NaN      8.2               384.0   \n",
      "98           Jujutsu Kaisen      7.2               396.0   \n",
      "99         My Hero Academia      7.7               283.0   \n",
      "\n",
      "   Animation Studio Name  Budget (in Million USD)  Release Year  \n",
      "0               Ufotable                    80.61        1998.0  \n",
      "1                  MAPPA                    74.99        2022.0  \n",
      "2           A-1 Pictures                    59.05        2009.0  \n",
      "3               Ufotable                    45.35        2002.0  \n",
      "4               Madhouse                    15.90        2017.0  \n",
      "5                    NaN                     8.97        2018.0  \n",
      "6               Madhouse                      NaN        2002.0  \n",
      "7                  MAPPA                   127.22        1995.0  \n",
      "8           A-1 Pictures                    53.88        2007.0  \n",
      "9                Pierrot                      NaN        1994.0  \n",
      "10                   NaN                   101.84        2014.0  \n",
      "11                   NaN                    72.90        1991.0  \n",
      "12                 Bones                    74.46        1999.0  \n",
      "13                 MAPPA                    13.41        2019.0  \n",
      "14               Trigger                    14.66        1994.0  \n",
      "15               Trigger                    90.76           NaN  \n",
      "16                 MAPPA                    83.50        1990.0  \n",
      "17              Ufotable                    32.70        2007.0  \n",
      "18                 Bones                   141.98           NaN  \n",
      "19         Studio Ghibli                   117.41        2000.0  \n",
      "20                   NaN                    17.91        2010.0  \n",
      "21              Ufotable                      NaN        2015.0  \n",
      "22               Trigger                   146.16        2014.0  \n",
      "23               Trigger                   149.39        2011.0  \n",
      "24          A-1 Pictures                     9.32        2016.0  \n",
      "25                 MAPPA                   110.82        2002.0  \n",
      "26                 Bones                      NaN        2022.0  \n",
      "27        Toei Animation                   106.17        1990.0  \n",
      "28                 Bones                   145.33        2010.0  \n",
      "29               Trigger                   103.52        1995.0  \n",
      "30               Trigger                      NaN        2017.0  \n",
      "31              Madhouse                   130.16        2006.0  \n",
      "32               Trigger                      NaN        1994.0  \n",
      "33         Studio Ghibli                    64.49        2020.0  \n",
      "34            Wit Studio                    34.16        1994.0  \n",
      "35                 MAPPA                    60.10        1992.0  \n",
      "36                 Bones                   133.89        2012.0  \n",
      "37                   NaN                    22.84        1999.0  \n",
      "38              Ufotable                    77.49        1999.0  \n",
      "39        Toei Animation                    35.75        2008.0  \n",
      "40         Studio Ghibli                    87.61        2006.0  \n",
      "41                 Bones                   129.61        2010.0  \n",
      "42            Wit Studio                   132.17           NaN  \n",
      "43        Toei Animation                    36.27        1998.0  \n",
      "44              Madhouse                   136.25        1990.0  \n",
      "45         Studio Ghibli                    89.19        2002.0  \n",
      "46         Studio Ghibli                    53.18        1993.0  \n",
      "47              Madhouse                   106.52           NaN  \n",
      "48                 MAPPA                    72.77        2021.0  \n",
      "49              Madhouse                    57.32        2017.0  \n",
      "50         Studio Ghibli                      NaN        2020.0  \n",
      "51                   NaN                    38.06        1997.0  \n",
      "52            Wit Studio                    50.21        2015.0  \n",
      "53               Trigger                    65.73        1992.0  \n",
      "54        Toei Animation                    38.80           NaN  \n",
      "55              Madhouse                    61.38        1990.0  \n",
      "56        Toei Animation                    86.15        1994.0  \n",
      "57              Madhouse                   111.41        2019.0  \n",
      "58              Ufotable                   115.31           NaN  \n",
      "59         Studio Ghibli                   123.60        2006.0  \n",
      "60               Trigger                   111.89           NaN  \n",
      "61            Wit Studio                   102.47        2004.0  \n",
      "62               Trigger                    36.39        2010.0  \n",
      "63               Trigger                    60.63        2003.0  \n",
      "64               Trigger                      NaN        1991.0  \n",
      "65        Toei Animation                    13.35        2000.0  \n",
      "66              Madhouse                    79.73        2007.0  \n",
      "67                   NaN                    66.01        2019.0  \n",
      "68              Ufotable                   120.51           NaN  \n",
      "69                 Bones                   146.71        2016.0  \n",
      "70               Trigger                    83.84        2022.0  \n",
      "71                 MAPPA                    49.08        2013.0  \n",
      "72                   NaN                     7.47           NaN  \n",
      "73            Wit Studio                   138.77        2019.0  \n",
      "74                 Bones                   137.95        2006.0  \n",
      "75               Pierrot                    38.70        1994.0  \n",
      "76                 MAPPA                   104.62        2018.0  \n",
      "77               Pierrot                    12.24        1993.0  \n",
      "78                 Bones                    25.77        1999.0  \n",
      "79                   NaN                    33.30        2006.0  \n",
      "80                 MAPPA                    44.88        1999.0  \n",
      "81               Pierrot                   149.38        2006.0  \n",
      "82            Wit Studio                   104.84        2009.0  \n",
      "83              Madhouse                    58.25        2013.0  \n",
      "84         Studio Ghibli                   110.83        1994.0  \n",
      "85              Madhouse                   137.37        1995.0  \n",
      "86                 Bones                   143.85        1991.0  \n",
      "87        Toei Animation                     9.62        2002.0  \n",
      "88         Studio Ghibli                    59.78        2000.0  \n",
      "89              Ufotable                    16.91        2012.0  \n",
      "90            Wit Studio                      NaN        2005.0  \n",
      "91              Ufotable                    26.28        2020.0  \n",
      "92                 MAPPA                      NaN        2000.0  \n",
      "93         Studio Ghibli                    58.85        2005.0  \n",
      "94              Ufotable                    35.18        1997.0  \n",
      "95                   NaN                    40.62           NaN  \n",
      "96               Pierrot                    54.69        1993.0  \n",
      "97              Madhouse                    39.73        2014.0  \n",
      "98               Pierrot                    68.53        1992.0  \n",
      "99         Studio Ghibli                     5.82        2021.0  > <bound method DataFrame.mode of                  Anime Name  Ratings  Number of Episodes  \\\n",
      "0       Fullmetal Alchemist      8.8               317.0   \n",
      "1                 Haikyuu!!      9.2               420.0   \n",
      "2                       NaN      7.4               419.0   \n",
      "3                    Bleach      6.4                 NaN   \n",
      "4          Sword Art Online      9.8               327.0   \n",
      "5       Fullmetal Alchemist      NaN               402.0   \n",
      "6              Black Clover      8.1                 NaN   \n",
      "7                    Bleach      9.4                47.0   \n",
      "8                       NaN      8.7               184.0   \n",
      "9              Demon Slayer      8.9                31.0   \n",
      "10         Sword Art Online      6.8               332.0   \n",
      "11                One Piece      8.2               275.0   \n",
      "12          Attack on Titan      8.8                 NaN   \n",
      "13              Tokyo Ghoul      6.9               153.0   \n",
      "14            Dragon Ball Z      NaN               471.0   \n",
      "15          Attack on Titan      9.9                 NaN   \n",
      "16                   Naruto      8.1               482.0   \n",
      "17              Tokyo Ghoul      7.0               154.0   \n",
      "18                      NaN     10.0               103.0   \n",
      "19           Mob Psycho 100      9.9               365.0   \n",
      "20            Spirited Away      8.2               333.0   \n",
      "21           Jujutsu Kaisen      9.5               299.0   \n",
      "22  Neon Genesis Evangelion      6.8               226.0   \n",
      "23  Neon Genesis Evangelion      7.1               458.0   \n",
      "24             Black Clover      NaN               353.0   \n",
      "25              Tokyo Ghoul      9.4                62.0   \n",
      "26                Haikyuu!!      9.4               164.0   \n",
      "27                One Piece      7.6               197.0   \n",
      "28         My Hero Academia      9.6                74.0   \n",
      "29             Black Clover      9.4               201.0   \n",
      "30      Fullmetal Alchemist      NaN               136.0   \n",
      "31               Death Note      9.1               161.0   \n",
      "32      Fullmetal Alchemist      8.7               325.0   \n",
      "33                  Re:Zero      8.3                69.0   \n",
      "34             Demon Slayer      7.5               353.0   \n",
      "35               Fairy Tail      9.8               316.0   \n",
      "36                      NaN      9.9               191.0   \n",
      "37               Death Note      7.1                 NaN   \n",
      "38          Attack on Titan      7.2               337.0   \n",
      "39                      NaN      7.9               282.0   \n",
      "40  Neon Genesis Evangelion      7.8                 NaN   \n",
      "41      Fullmetal Alchemist     10.0               455.0   \n",
      "42              Tokyo Ghoul      NaN               112.0   \n",
      "43         Sword Art Online      NaN               492.0   \n",
      "44  Neon Genesis Evangelion      NaN               275.0   \n",
      "45                One Piece      6.7                64.0   \n",
      "46               Fairy Tail      7.5                71.0   \n",
      "47           Mob Psycho 100      9.0               119.0   \n",
      "48                      NaN      8.9                16.0   \n",
      "49                  Re:Zero      7.2               114.0   \n",
      "50         Sword Art Online      8.2               207.0   \n",
      "51             Demon Slayer      8.0                 NaN   \n",
      "52          Attack on Titan      8.5               376.0   \n",
      "53            Dragon Ball Z      7.0               491.0   \n",
      "54            Spirited Away      8.4               383.0   \n",
      "55             Demon Slayer      9.9               361.0   \n",
      "56                  Re:Zero      7.9                58.0   \n",
      "57              Tokyo Ghoul      9.6               366.0   \n",
      "58          Attack on Titan      7.7               322.0   \n",
      "59            Spirited Away      7.4               435.0   \n",
      "60                      NaN      8.6               319.0   \n",
      "61               Fairy Tail      NaN               155.0   \n",
      "62           Jujutsu Kaisen      9.5               280.0   \n",
      "63  Neon Genesis Evangelion      6.9               381.0   \n",
      "64         Sword Art Online      8.0               135.0   \n",
      "65               Fairy Tail      8.3               117.0   \n",
      "66         Sword Art Online      9.1                 NaN   \n",
      "67           Jujutsu Kaisen      6.2               158.0   \n",
      "68          Hunter x Hunter     10.0               156.0   \n",
      "69                  Re:Zero      NaN               131.0   \n",
      "70  Neon Genesis Evangelion      7.1               330.0   \n",
      "71          Hunter x Hunter      9.5               286.0   \n",
      "72               Death Note      9.0               103.0   \n",
      "73  Neon Genesis Evangelion      9.8                69.0   \n",
      "74          Hunter x Hunter      7.3               450.0   \n",
      "75                   Naruto      NaN               357.0   \n",
      "76      Fullmetal Alchemist      8.3               240.0   \n",
      "77               Death Note      9.9               485.0   \n",
      "78                   Naruto      6.3               128.0   \n",
      "79              Tokyo Ghoul      7.2               329.0   \n",
      "80         Sword Art Online      6.8               290.0   \n",
      "81                   Bleach      7.1               138.0   \n",
      "82             Black Clover      7.9               404.0   \n",
      "83           Mob Psycho 100      7.5               407.0   \n",
      "84         Sword Art Online      7.6               140.0   \n",
      "85                One Piece      9.4                69.0   \n",
      "86                      NaN      9.7               133.0   \n",
      "87                   Naruto      6.3                12.0   \n",
      "88         My Hero Academia      6.8               250.0   \n",
      "89            Spirited Away      8.7               301.0   \n",
      "90      Fullmetal Alchemist      7.4               107.0   \n",
      "91               Death Note      7.0                 NaN   \n",
      "92      Fullmetal Alchemist      7.2                 NaN   \n",
      "93                      NaN      7.3                59.0   \n",
      "94         Sword Art Online      9.4               100.0   \n",
      "95              Tokyo Ghoul      6.5               499.0   \n",
      "96          Attack on Titan      8.8               248.0   \n",
      "97                      NaN      8.2               384.0   \n",
      "98           Jujutsu Kaisen      7.2               396.0   \n",
      "99         My Hero Academia      7.7               283.0   \n",
      "\n",
      "   Animation Studio Name  Budget (in Million USD)  Release Year  \n",
      "0               Ufotable                    80.61        1998.0  \n",
      "1                  MAPPA                    74.99        2022.0  \n",
      "2           A-1 Pictures                    59.05        2009.0  \n",
      "3               Ufotable                    45.35        2002.0  \n",
      "4               Madhouse                    15.90        2017.0  \n",
      "5                    NaN                     8.97        2018.0  \n",
      "6               Madhouse                      NaN        2002.0  \n",
      "7                  MAPPA                   127.22        1995.0  \n",
      "8           A-1 Pictures                    53.88        2007.0  \n",
      "9                Pierrot                      NaN        1994.0  \n",
      "10                   NaN                   101.84        2014.0  \n",
      "11                   NaN                    72.90        1991.0  \n",
      "12                 Bones                    74.46        1999.0  \n",
      "13                 MAPPA                    13.41        2019.0  \n",
      "14               Trigger                    14.66        1994.0  \n",
      "15               Trigger                    90.76           NaN  \n",
      "16                 MAPPA                    83.50        1990.0  \n",
      "17              Ufotable                    32.70        2007.0  \n",
      "18                 Bones                   141.98           NaN  \n",
      "19         Studio Ghibli                   117.41        2000.0  \n",
      "20                   NaN                    17.91        2010.0  \n",
      "21              Ufotable                      NaN        2015.0  \n",
      "22               Trigger                   146.16        2014.0  \n",
      "23               Trigger                   149.39        2011.0  \n",
      "24          A-1 Pictures                     9.32        2016.0  \n",
      "25                 MAPPA                   110.82        2002.0  \n",
      "26                 Bones                      NaN        2022.0  \n",
      "27        Toei Animation                   106.17        1990.0  \n",
      "28                 Bones                   145.33        2010.0  \n",
      "29               Trigger                   103.52        1995.0  \n",
      "30               Trigger                      NaN        2017.0  \n",
      "31              Madhouse                   130.16        2006.0  \n",
      "32               Trigger                      NaN        1994.0  \n",
      "33         Studio Ghibli                    64.49        2020.0  \n",
      "34            Wit Studio                    34.16        1994.0  \n",
      "35                 MAPPA                    60.10        1992.0  \n",
      "36                 Bones                   133.89        2012.0  \n",
      "37                   NaN                    22.84        1999.0  \n",
      "38              Ufotable                    77.49        1999.0  \n",
      "39        Toei Animation                    35.75        2008.0  \n",
      "40         Studio Ghibli                    87.61        2006.0  \n",
      "41                 Bones                   129.61        2010.0  \n",
      "42            Wit Studio                   132.17           NaN  \n",
      "43        Toei Animation                    36.27        1998.0  \n",
      "44              Madhouse                   136.25        1990.0  \n",
      "45         Studio Ghibli                    89.19        2002.0  \n",
      "46         Studio Ghibli                    53.18        1993.0  \n",
      "47              Madhouse                   106.52           NaN  \n",
      "48                 MAPPA                    72.77        2021.0  \n",
      "49              Madhouse                    57.32        2017.0  \n",
      "50         Studio Ghibli                      NaN        2020.0  \n",
      "51                   NaN                    38.06        1997.0  \n",
      "52            Wit Studio                    50.21        2015.0  \n",
      "53               Trigger                    65.73        1992.0  \n",
      "54        Toei Animation                    38.80           NaN  \n",
      "55              Madhouse                    61.38        1990.0  \n",
      "56        Toei Animation                    86.15        1994.0  \n",
      "57              Madhouse                   111.41        2019.0  \n",
      "58              Ufotable                   115.31           NaN  \n",
      "59         Studio Ghibli                   123.60        2006.0  \n",
      "60               Trigger                   111.89           NaN  \n",
      "61            Wit Studio                   102.47        2004.0  \n",
      "62               Trigger                    36.39        2010.0  \n",
      "63               Trigger                    60.63        2003.0  \n",
      "64               Trigger                      NaN        1991.0  \n",
      "65        Toei Animation                    13.35        2000.0  \n",
      "66              Madhouse                    79.73        2007.0  \n",
      "67                   NaN                    66.01        2019.0  \n",
      "68              Ufotable                   120.51           NaN  \n",
      "69                 Bones                   146.71        2016.0  \n",
      "70               Trigger                    83.84        2022.0  \n",
      "71                 MAPPA                    49.08        2013.0  \n",
      "72                   NaN                     7.47           NaN  \n",
      "73            Wit Studio                   138.77        2019.0  \n",
      "74                 Bones                   137.95        2006.0  \n",
      "75               Pierrot                    38.70        1994.0  \n",
      "76                 MAPPA                   104.62        2018.0  \n",
      "77               Pierrot                    12.24        1993.0  \n",
      "78                 Bones                    25.77        1999.0  \n",
      "79                   NaN                    33.30        2006.0  \n",
      "80                 MAPPA                    44.88        1999.0  \n",
      "81               Pierrot                   149.38        2006.0  \n",
      "82            Wit Studio                   104.84        2009.0  \n",
      "83              Madhouse                    58.25        2013.0  \n",
      "84         Studio Ghibli                   110.83        1994.0  \n",
      "85              Madhouse                   137.37        1995.0  \n",
      "86                 Bones                   143.85        1991.0  \n",
      "87        Toei Animation                     9.62        2002.0  \n",
      "88         Studio Ghibli                    59.78        2000.0  \n",
      "89              Ufotable                    16.91        2012.0  \n",
      "90            Wit Studio                      NaN        2005.0  \n",
      "91              Ufotable                    26.28        2020.0  \n",
      "92                 MAPPA                      NaN        2000.0  \n",
      "93         Studio Ghibli                    58.85        2005.0  \n",
      "94              Ufotable                    35.18        1997.0  \n",
      "95                   NaN                    40.62           NaN  \n",
      "96               Pierrot                    54.69        1993.0  \n",
      "97              Madhouse                    39.73        2014.0  \n",
      "98               Pierrot                    68.53        1992.0  \n",
      "99         Studio Ghibli                     5.82        2021.0  >\n"
     ]
    }
   ],
   "source": [
    "# Put your code here\n",
    "\n",
    "#note this code may make dispalying your whole dataframe easier. uncomment to use\n",
    "df2.groupby(['Animation Studio Name'])\n",
    "mean=df2.mean \n",
    "median=df2.median \n",
    "std=df2.std \n",
    "maximum=df2.max \n",
    "minimum=df2.min \n",
    "mode=df2.mode\n",
    "with pd.option_context('display.max_rows', None, 'display.max_columns', None): \n",
    "    print(mean,median,std,maximum,minimum,mode)"
   ]
  },
  {
   "cell_type": "markdown",
   "id": "120ed4ef",
   "metadata": {},
   "source": [
    "&#9989; **Question 3.4 (2 points)**: Looking at the above output, answer the following questions: \n",
    "\n",
    "1. Which studio(s) had the lowest budget in this dataset?\n",
    "2. Which studio(s) had the latest release year?\n",
    "3. Which studio(s) had the least entries in this dataset?\n",
    "4. Which studio(s) had the lowest average rating in this dataset?"
   ]
  },
  {
   "cell_type": "markdown",
   "id": "9c8b55c9",
   "metadata": {
    "question_id": "P2Q3",
    "tags": [
     "student_answer"
    ]
   },
   "source": [
    "**<font size=+3>&#9998;</font> Do This**: *Record your answers here.*\n",
    "1 A-1 pictures \n",
    "2 Mappa \n",
    "3 studio ghibli \n",
    "4 production ig "
   ]
  },
  {
   "cell_type": "markdown",
   "id": "1042f9f9",
   "metadata": {},
   "source": [
    "&#9989; **Question 3.5 (8 points)**: Using `plotly` make a figure with boxplots showing each animation studio and their number of episodes : \n",
    "\n",
    "1. Make sure the `Animation Studio Name` is the  x-axis and it's labeled\n",
    "\n",
    "2. Give the plot a title\n",
    "\n",
    "3. Set a horizontal line on this plot at y = 190\n",
    "\n",
    "4. Set the background of the plot to be white instead of blue\n",
    "\n",
    "5. **Optional** Can you center the title and/or make each box plot a different color?"
   ]
  },
  {
   "cell_type": "code",
   "execution_count": 57,
   "id": "37b6a904",
   "metadata": {},
   "outputs": [
    {
     "data": {
      "application/vnd.plotly.v1+json": {
       "config": {
        "plotlyServerURL": "https://plot.ly"
       },
       "data": [
        {
         "hovertemplate": "Animation Studio Name=%{x}<br>Number of Episodes=%{y}<extra></extra>",
         "legendgroup": "",
         "marker": {
          "color": "#636efa",
          "symbol": "circle"
         },
         "mode": "markers",
         "name": "",
         "orientation": "v",
         "showlegend": false,
         "type": "scatter",
         "x": [
          "Ufotable",
          "MAPPA",
          "A-1 Pictures",
          "Ufotable",
          "Madhouse",
          null,
          "Madhouse",
          "MAPPA",
          "A-1 Pictures",
          "Pierrot",
          null,
          null,
          "Bones",
          "MAPPA",
          "Trigger",
          "Trigger",
          "MAPPA",
          "Ufotable",
          "Bones",
          "Studio Ghibli",
          null,
          "Ufotable",
          "Trigger",
          "Trigger",
          "A-1 Pictures",
          "MAPPA",
          "Bones",
          "Toei Animation",
          "Bones",
          "Trigger",
          "Trigger",
          "Madhouse",
          "Trigger",
          "Studio Ghibli",
          "Wit Studio",
          "MAPPA",
          "Bones",
          null,
          "Ufotable",
          "Toei Animation",
          "Studio Ghibli",
          "Bones",
          "Wit Studio",
          "Toei Animation",
          "Madhouse",
          "Studio Ghibli",
          "Studio Ghibli",
          "Madhouse",
          "MAPPA",
          "Madhouse",
          "Studio Ghibli",
          null,
          "Wit Studio",
          "Trigger",
          "Toei Animation",
          "Madhouse",
          "Toei Animation",
          "Madhouse",
          "Ufotable",
          "Studio Ghibli",
          "Trigger",
          "Wit Studio",
          "Trigger",
          "Trigger",
          "Trigger",
          "Toei Animation",
          "Madhouse",
          null,
          "Ufotable",
          "Bones",
          "Trigger",
          "MAPPA",
          null,
          "Wit Studio",
          "Bones",
          "Pierrot",
          "MAPPA",
          "Pierrot",
          "Bones",
          null,
          "MAPPA",
          "Pierrot",
          "Wit Studio",
          "Madhouse",
          "Studio Ghibli",
          "Madhouse",
          "Bones",
          "Toei Animation",
          "Studio Ghibli",
          "Ufotable",
          "Wit Studio",
          "Ufotable",
          "MAPPA",
          "Studio Ghibli",
          "Ufotable",
          null,
          "Pierrot",
          "Madhouse",
          "Pierrot",
          "Studio Ghibli"
         ],
         "xaxis": "x",
         "y": [
          317,
          420,
          419,
          null,
          327,
          402,
          null,
          47,
          184,
          31,
          332,
          275,
          null,
          153,
          471,
          null,
          482,
          154,
          103,
          365,
          333,
          299,
          226,
          458,
          353,
          62,
          164,
          197,
          74,
          201,
          136,
          161,
          325,
          69,
          353,
          316,
          191,
          null,
          337,
          282,
          null,
          455,
          112,
          492,
          275,
          64,
          71,
          119,
          16,
          114,
          207,
          null,
          376,
          491,
          383,
          361,
          58,
          366,
          322,
          435,
          319,
          155,
          280,
          381,
          135,
          117,
          null,
          158,
          156,
          131,
          330,
          286,
          103,
          69,
          450,
          357,
          240,
          485,
          128,
          329,
          290,
          138,
          404,
          407,
          140,
          69,
          133,
          12,
          250,
          301,
          107,
          null,
          null,
          59,
          100,
          499,
          248,
          384,
          396,
          283
         ],
         "yaxis": "y"
        }
       ],
       "layout": {
        "legend": {
         "tracegroupgap": 0
        },
        "template": {
         "data": {
          "bar": [
           {
            "error_x": {
             "color": "#2a3f5f"
            },
            "error_y": {
             "color": "#2a3f5f"
            },
            "marker": {
             "line": {
              "color": "#E5ECF6",
              "width": 0.5
             },
             "pattern": {
              "fillmode": "overlay",
              "size": 10,
              "solidity": 0.2
             }
            },
            "type": "bar"
           }
          ],
          "barpolar": [
           {
            "marker": {
             "line": {
              "color": "#E5ECF6",
              "width": 0.5
             },
             "pattern": {
              "fillmode": "overlay",
              "size": 10,
              "solidity": 0.2
             }
            },
            "type": "barpolar"
           }
          ],
          "carpet": [
           {
            "aaxis": {
             "endlinecolor": "#2a3f5f",
             "gridcolor": "white",
             "linecolor": "white",
             "minorgridcolor": "white",
             "startlinecolor": "#2a3f5f"
            },
            "baxis": {
             "endlinecolor": "#2a3f5f",
             "gridcolor": "white",
             "linecolor": "white",
             "minorgridcolor": "white",
             "startlinecolor": "#2a3f5f"
            },
            "type": "carpet"
           }
          ],
          "choropleth": [
           {
            "colorbar": {
             "outlinewidth": 0,
             "ticks": ""
            },
            "type": "choropleth"
           }
          ],
          "contour": [
           {
            "colorbar": {
             "outlinewidth": 0,
             "ticks": ""
            },
            "colorscale": [
             [
              0,
              "#0d0887"
             ],
             [
              0.1111111111111111,
              "#46039f"
             ],
             [
              0.2222222222222222,
              "#7201a8"
             ],
             [
              0.3333333333333333,
              "#9c179e"
             ],
             [
              0.4444444444444444,
              "#bd3786"
             ],
             [
              0.5555555555555556,
              "#d8576b"
             ],
             [
              0.6666666666666666,
              "#ed7953"
             ],
             [
              0.7777777777777778,
              "#fb9f3a"
             ],
             [
              0.8888888888888888,
              "#fdca26"
             ],
             [
              1,
              "#f0f921"
             ]
            ],
            "type": "contour"
           }
          ],
          "contourcarpet": [
           {
            "colorbar": {
             "outlinewidth": 0,
             "ticks": ""
            },
            "type": "contourcarpet"
           }
          ],
          "heatmap": [
           {
            "colorbar": {
             "outlinewidth": 0,
             "ticks": ""
            },
            "colorscale": [
             [
              0,
              "#0d0887"
             ],
             [
              0.1111111111111111,
              "#46039f"
             ],
             [
              0.2222222222222222,
              "#7201a8"
             ],
             [
              0.3333333333333333,
              "#9c179e"
             ],
             [
              0.4444444444444444,
              "#bd3786"
             ],
             [
              0.5555555555555556,
              "#d8576b"
             ],
             [
              0.6666666666666666,
              "#ed7953"
             ],
             [
              0.7777777777777778,
              "#fb9f3a"
             ],
             [
              0.8888888888888888,
              "#fdca26"
             ],
             [
              1,
              "#f0f921"
             ]
            ],
            "type": "heatmap"
           }
          ],
          "heatmapgl": [
           {
            "colorbar": {
             "outlinewidth": 0,
             "ticks": ""
            },
            "colorscale": [
             [
              0,
              "#0d0887"
             ],
             [
              0.1111111111111111,
              "#46039f"
             ],
             [
              0.2222222222222222,
              "#7201a8"
             ],
             [
              0.3333333333333333,
              "#9c179e"
             ],
             [
              0.4444444444444444,
              "#bd3786"
             ],
             [
              0.5555555555555556,
              "#d8576b"
             ],
             [
              0.6666666666666666,
              "#ed7953"
             ],
             [
              0.7777777777777778,
              "#fb9f3a"
             ],
             [
              0.8888888888888888,
              "#fdca26"
             ],
             [
              1,
              "#f0f921"
             ]
            ],
            "type": "heatmapgl"
           }
          ],
          "histogram": [
           {
            "marker": {
             "pattern": {
              "fillmode": "overlay",
              "size": 10,
              "solidity": 0.2
             }
            },
            "type": "histogram"
           }
          ],
          "histogram2d": [
           {
            "colorbar": {
             "outlinewidth": 0,
             "ticks": ""
            },
            "colorscale": [
             [
              0,
              "#0d0887"
             ],
             [
              0.1111111111111111,
              "#46039f"
             ],
             [
              0.2222222222222222,
              "#7201a8"
             ],
             [
              0.3333333333333333,
              "#9c179e"
             ],
             [
              0.4444444444444444,
              "#bd3786"
             ],
             [
              0.5555555555555556,
              "#d8576b"
             ],
             [
              0.6666666666666666,
              "#ed7953"
             ],
             [
              0.7777777777777778,
              "#fb9f3a"
             ],
             [
              0.8888888888888888,
              "#fdca26"
             ],
             [
              1,
              "#f0f921"
             ]
            ],
            "type": "histogram2d"
           }
          ],
          "histogram2dcontour": [
           {
            "colorbar": {
             "outlinewidth": 0,
             "ticks": ""
            },
            "colorscale": [
             [
              0,
              "#0d0887"
             ],
             [
              0.1111111111111111,
              "#46039f"
             ],
             [
              0.2222222222222222,
              "#7201a8"
             ],
             [
              0.3333333333333333,
              "#9c179e"
             ],
             [
              0.4444444444444444,
              "#bd3786"
             ],
             [
              0.5555555555555556,
              "#d8576b"
             ],
             [
              0.6666666666666666,
              "#ed7953"
             ],
             [
              0.7777777777777778,
              "#fb9f3a"
             ],
             [
              0.8888888888888888,
              "#fdca26"
             ],
             [
              1,
              "#f0f921"
             ]
            ],
            "type": "histogram2dcontour"
           }
          ],
          "mesh3d": [
           {
            "colorbar": {
             "outlinewidth": 0,
             "ticks": ""
            },
            "type": "mesh3d"
           }
          ],
          "parcoords": [
           {
            "line": {
             "colorbar": {
              "outlinewidth": 0,
              "ticks": ""
             }
            },
            "type": "parcoords"
           }
          ],
          "pie": [
           {
            "automargin": true,
            "type": "pie"
           }
          ],
          "scatter": [
           {
            "fillpattern": {
             "fillmode": "overlay",
             "size": 10,
             "solidity": 0.2
            },
            "type": "scatter"
           }
          ],
          "scatter3d": [
           {
            "line": {
             "colorbar": {
              "outlinewidth": 0,
              "ticks": ""
             }
            },
            "marker": {
             "colorbar": {
              "outlinewidth": 0,
              "ticks": ""
             }
            },
            "type": "scatter3d"
           }
          ],
          "scattercarpet": [
           {
            "marker": {
             "colorbar": {
              "outlinewidth": 0,
              "ticks": ""
             }
            },
            "type": "scattercarpet"
           }
          ],
          "scattergeo": [
           {
            "marker": {
             "colorbar": {
              "outlinewidth": 0,
              "ticks": ""
             }
            },
            "type": "scattergeo"
           }
          ],
          "scattergl": [
           {
            "marker": {
             "colorbar": {
              "outlinewidth": 0,
              "ticks": ""
             }
            },
            "type": "scattergl"
           }
          ],
          "scattermapbox": [
           {
            "marker": {
             "colorbar": {
              "outlinewidth": 0,
              "ticks": ""
             }
            },
            "type": "scattermapbox"
           }
          ],
          "scatterpolar": [
           {
            "marker": {
             "colorbar": {
              "outlinewidth": 0,
              "ticks": ""
             }
            },
            "type": "scatterpolar"
           }
          ],
          "scatterpolargl": [
           {
            "marker": {
             "colorbar": {
              "outlinewidth": 0,
              "ticks": ""
             }
            },
            "type": "scatterpolargl"
           }
          ],
          "scatterternary": [
           {
            "marker": {
             "colorbar": {
              "outlinewidth": 0,
              "ticks": ""
             }
            },
            "type": "scatterternary"
           }
          ],
          "surface": [
           {
            "colorbar": {
             "outlinewidth": 0,
             "ticks": ""
            },
            "colorscale": [
             [
              0,
              "#0d0887"
             ],
             [
              0.1111111111111111,
              "#46039f"
             ],
             [
              0.2222222222222222,
              "#7201a8"
             ],
             [
              0.3333333333333333,
              "#9c179e"
             ],
             [
              0.4444444444444444,
              "#bd3786"
             ],
             [
              0.5555555555555556,
              "#d8576b"
             ],
             [
              0.6666666666666666,
              "#ed7953"
             ],
             [
              0.7777777777777778,
              "#fb9f3a"
             ],
             [
              0.8888888888888888,
              "#fdca26"
             ],
             [
              1,
              "#f0f921"
             ]
            ],
            "type": "surface"
           }
          ],
          "table": [
           {
            "cells": {
             "fill": {
              "color": "#EBF0F8"
             },
             "line": {
              "color": "white"
             }
            },
            "header": {
             "fill": {
              "color": "#C8D4E3"
             },
             "line": {
              "color": "white"
             }
            },
            "type": "table"
           }
          ]
         },
         "layout": {
          "annotationdefaults": {
           "arrowcolor": "#2a3f5f",
           "arrowhead": 0,
           "arrowwidth": 1
          },
          "autotypenumbers": "strict",
          "coloraxis": {
           "colorbar": {
            "outlinewidth": 0,
            "ticks": ""
           }
          },
          "colorscale": {
           "diverging": [
            [
             0,
             "#8e0152"
            ],
            [
             0.1,
             "#c51b7d"
            ],
            [
             0.2,
             "#de77ae"
            ],
            [
             0.3,
             "#f1b6da"
            ],
            [
             0.4,
             "#fde0ef"
            ],
            [
             0.5,
             "#f7f7f7"
            ],
            [
             0.6,
             "#e6f5d0"
            ],
            [
             0.7,
             "#b8e186"
            ],
            [
             0.8,
             "#7fbc41"
            ],
            [
             0.9,
             "#4d9221"
            ],
            [
             1,
             "#276419"
            ]
           ],
           "sequential": [
            [
             0,
             "#0d0887"
            ],
            [
             0.1111111111111111,
             "#46039f"
            ],
            [
             0.2222222222222222,
             "#7201a8"
            ],
            [
             0.3333333333333333,
             "#9c179e"
            ],
            [
             0.4444444444444444,
             "#bd3786"
            ],
            [
             0.5555555555555556,
             "#d8576b"
            ],
            [
             0.6666666666666666,
             "#ed7953"
            ],
            [
             0.7777777777777778,
             "#fb9f3a"
            ],
            [
             0.8888888888888888,
             "#fdca26"
            ],
            [
             1,
             "#f0f921"
            ]
           ],
           "sequentialminus": [
            [
             0,
             "#0d0887"
            ],
            [
             0.1111111111111111,
             "#46039f"
            ],
            [
             0.2222222222222222,
             "#7201a8"
            ],
            [
             0.3333333333333333,
             "#9c179e"
            ],
            [
             0.4444444444444444,
             "#bd3786"
            ],
            [
             0.5555555555555556,
             "#d8576b"
            ],
            [
             0.6666666666666666,
             "#ed7953"
            ],
            [
             0.7777777777777778,
             "#fb9f3a"
            ],
            [
             0.8888888888888888,
             "#fdca26"
            ],
            [
             1,
             "#f0f921"
            ]
           ]
          },
          "colorway": [
           "#636efa",
           "#EF553B",
           "#00cc96",
           "#ab63fa",
           "#FFA15A",
           "#19d3f3",
           "#FF6692",
           "#B6E880",
           "#FF97FF",
           "#FECB52"
          ],
          "font": {
           "color": "#2a3f5f"
          },
          "geo": {
           "bgcolor": "white",
           "lakecolor": "white",
           "landcolor": "#E5ECF6",
           "showlakes": true,
           "showland": true,
           "subunitcolor": "white"
          },
          "hoverlabel": {
           "align": "left"
          },
          "hovermode": "closest",
          "mapbox": {
           "style": "light"
          },
          "paper_bgcolor": "white",
          "plot_bgcolor": "#E5ECF6",
          "polar": {
           "angularaxis": {
            "gridcolor": "white",
            "linecolor": "white",
            "ticks": ""
           },
           "bgcolor": "#E5ECF6",
           "radialaxis": {
            "gridcolor": "white",
            "linecolor": "white",
            "ticks": ""
           }
          },
          "scene": {
           "xaxis": {
            "backgroundcolor": "#E5ECF6",
            "gridcolor": "white",
            "gridwidth": 2,
            "linecolor": "white",
            "showbackground": true,
            "ticks": "",
            "zerolinecolor": "white"
           },
           "yaxis": {
            "backgroundcolor": "#E5ECF6",
            "gridcolor": "white",
            "gridwidth": 2,
            "linecolor": "white",
            "showbackground": true,
            "ticks": "",
            "zerolinecolor": "white"
           },
           "zaxis": {
            "backgroundcolor": "#E5ECF6",
            "gridcolor": "white",
            "gridwidth": 2,
            "linecolor": "white",
            "showbackground": true,
            "ticks": "",
            "zerolinecolor": "white"
           }
          },
          "shapedefaults": {
           "line": {
            "color": "#2a3f5f"
           }
          },
          "ternary": {
           "aaxis": {
            "gridcolor": "white",
            "linecolor": "white",
            "ticks": ""
           },
           "baxis": {
            "gridcolor": "white",
            "linecolor": "white",
            "ticks": ""
           },
           "bgcolor": "#E5ECF6",
           "caxis": {
            "gridcolor": "white",
            "linecolor": "white",
            "ticks": ""
           }
          },
          "title": {
           "x": 0.05
          },
          "xaxis": {
           "automargin": true,
           "gridcolor": "white",
           "linecolor": "white",
           "ticks": "",
           "title": {
            "standoff": 15
           },
           "zerolinecolor": "white",
           "zerolinewidth": 2
          },
          "yaxis": {
           "automargin": true,
           "gridcolor": "white",
           "linecolor": "white",
           "ticks": "",
           "title": {
            "standoff": 15
           },
           "zerolinecolor": "white",
           "zerolinewidth": 2
          }
         }
        },
        "title": {
         "text": "Anime plot"
        },
        "xaxis": {
         "anchor": "y",
         "domain": [
          0,
          1
         ],
         "title": {
          "text": "Animation Studio Name"
         }
        },
        "yaxis": {
         "anchor": "x",
         "domain": [
          0,
          1
         ],
         "title": {
          "text": "Number of Episodes"
         }
        }
       }
      },
      "image/png": "[encoded data removed]",
      "text/html": [
       "<div>                            <div id=\"aca31b4b-372b-47fa-bd0d-3abe912c5db4\" class=\"plotly-graph-div\" style=\"height:525px; width:100%;\"></div>            <script type=\"text/javascript\">                require([\"plotly\"], function(Plotly) {                    window.PLOTLYENV=window.PLOTLYENV || {};                                    if (document.getElementById(\"aca31b4b-372b-47fa-bd0d-3abe912c5db4\")) {                    Plotly.newPlot(                        \"aca31b4b-372b-47fa-bd0d-3abe912c5db4\",                        [{\"hovertemplate\":\"Animation Studio Name=%{x}\\u003cbr\\u003eNumber of Episodes=%{y}\\u003cextra\\u003e\\u003c\\u002fextra\\u003e\",\"legendgroup\":\"\",\"marker\":{\"color\":\"#636efa\",\"symbol\":\"circle\"},\"mode\":\"markers\",\"name\":\"\",\"orientation\":\"v\",\"showlegend\":false,\"x\":[\"Ufotable\",\"MAPPA\",\"A-1 Pictures\",\"Ufotable\",\"Madhouse\",null,\"Madhouse\",\"MAPPA\",\"A-1 Pictures\",\"Pierrot\",null,null,\"Bones\",\"MAPPA\",\"Trigger\",\"Trigger\",\"MAPPA\",\"Ufotable\",\"Bones\",\"Studio Ghibli\",null,\"Ufotable\",\"Trigger\",\"Trigger\",\"A-1 Pictures\",\"MAPPA\",\"Bones\",\"Toei Animation\",\"Bones\",\"Trigger\",\"Trigger\",\"Madhouse\",\"Trigger\",\"Studio Ghibli\",\"Wit Studio\",\"MAPPA\",\"Bones\",null,\"Ufotable\",\"Toei Animation\",\"Studio Ghibli\",\"Bones\",\"Wit Studio\",\"Toei Animation\",\"Madhouse\",\"Studio Ghibli\",\"Studio Ghibli\",\"Madhouse\",\"MAPPA\",\"Madhouse\",\"Studio Ghibli\",null,\"Wit Studio\",\"Trigger\",\"Toei Animation\",\"Madhouse\",\"Toei Animation\",\"Madhouse\",\"Ufotable\",\"Studio Ghibli\",\"Trigger\",\"Wit Studio\",\"Trigger\",\"Trigger\",\"Trigger\",\"Toei Animation\",\"Madhouse\",null,\"Ufotable\",\"Bones\",\"Trigger\",\"MAPPA\",null,\"Wit Studio\",\"Bones\",\"Pierrot\",\"MAPPA\",\"Pierrot\",\"Bones\",null,\"MAPPA\",\"Pierrot\",\"Wit Studio\",\"Madhouse\",\"Studio Ghibli\",\"Madhouse\",\"Bones\",\"Toei Animation\",\"Studio Ghibli\",\"Ufotable\",\"Wit Studio\",\"Ufotable\",\"MAPPA\",\"Studio Ghibli\",\"Ufotable\",null,\"Pierrot\",\"Madhouse\",\"Pierrot\",\"Studio Ghibli\"],\"xaxis\":\"x\",\"y\":[317.0,420.0,419.0,null,327.0,402.0,null,47.0,184.0,31.0,332.0,275.0,null,153.0,471.0,null,482.0,154.0,103.0,365.0,333.0,299.0,226.0,458.0,353.0,62.0,164.0,197.0,74.0,201.0,136.0,161.0,325.0,69.0,353.0,316.0,191.0,null,337.0,282.0,null,455.0,112.0,492.0,275.0,64.0,71.0,119.0,16.0,114.0,207.0,null,376.0,491.0,383.0,361.0,58.0,366.0,322.0,435.0,319.0,155.0,280.0,381.0,135.0,117.0,null,158.0,156.0,131.0,330.0,286.0,103.0,69.0,450.0,357.0,240.0,485.0,128.0,329.0,290.0,138.0,404.0,407.0,140.0,69.0,133.0,12.0,250.0,301.0,107.0,null,null,59.0,100.0,499.0,248.0,384.0,396.0,283.0],\"yaxis\":\"y\",\"type\":\"scatter\"}],                        {\"template\":{\"data\":{\"histogram2dcontour\":[{\"type\":\"histogram2dcontour\",\"colorbar\":{\"outlinewidth\":0,\"ticks\":\"\"},\"colorscale\":[[0.0,\"#0d0887\"],[0.1111111111111111,\"#46039f\"],[0.2222222222222222,\"#7201a8\"],[0.3333333333333333,\"#9c179e\"],[0.4444444444444444,\"#bd3786\"],[0.5555555555555556,\"#d8576b\"],[0.6666666666666666,\"#ed7953\"],[0.7777777777777778,\"#fb9f3a\"],[0.8888888888888888,\"#fdca26\"],[1.0,\"#f0f921\"]]}],\"choropleth\":[{\"type\":\"choropleth\",\"colorbar\":{\"outlinewidth\":0,\"ticks\":\"\"}}],\"histogram2d\":[{\"type\":\"histogram2d\",\"colorbar\":{\"outlinewidth\":0,\"ticks\":\"\"},\"colorscale\":[[0.0,\"#0d0887\"],[0.1111111111111111,\"#46039f\"],[0.2222222222222222,\"#7201a8\"],[0.3333333333333333,\"#9c179e\"],[0.4444444444444444,\"#bd3786\"],[0.5555555555555556,\"#d8576b\"],[0.6666666666666666,\"#ed7953\"],[0.7777777777777778,\"#fb9f3a\"],[0.8888888888888888,\"#fdca26\"],[1.0,\"#f0f921\"]]}],\"heatmap\":[{\"type\":\"heatmap\",\"colorbar\":{\"outlinewidth\":0,\"ticks\":\"\"},\"colorscale\":[[0.0,\"#0d0887\"],[0.1111111111111111,\"#46039f\"],[0.2222222222222222,\"#7201a8\"],[0.3333333333333333,\"#9c179e\"],[0.4444444444444444,\"#bd3786\"],[0.5555555555555556,\"#d8576b\"],[0.6666666666666666,\"#ed7953\"],[0.7777777777777778,\"#fb9f3a\"],[0.8888888888888888,\"#fdca26\"],[1.0,\"#f0f921\"]]}],\"heatmapgl\":[{\"type\":\"heatmapgl\",\"colorbar\":{\"outlinewidth\":0,\"ticks\":\"\"},\"colorscale\":[[0.0,\"#0d0887\"],[0.1111111111111111,\"#46039f\"],[0.2222222222222222,\"#7201a8\"],[0.3333333333333333,\"#9c179e\"],[0.4444444444444444,\"#bd3786\"],[0.5555555555555556,\"#d8576b\"],[0.6666666666666666,\"#ed7953\"],[0.7777777777777778,\"#fb9f3a\"],[0.8888888888888888,\"#fdca26\"],[1.0,\"#f0f921\"]]}],\"contourcarpet\":[{\"type\":\"contourcarpet\",\"colorbar\":{\"outlinewidth\":0,\"ticks\":\"\"}}],\"contour\":[{\"type\":\"contour\",\"colorbar\":{\"outlinewidth\":0,\"ticks\":\"\"},\"colorscale\":[[0.0,\"#0d0887\"],[0.1111111111111111,\"#46039f\"],[0.2222222222222222,\"#7201a8\"],[0.3333333333333333,\"#9c179e\"],[0.4444444444444444,\"#bd3786\"],[0.5555555555555556,\"#d8576b\"],[0.6666666666666666,\"#ed7953\"],[0.7777777777777778,\"#fb9f3a\"],[0.8888888888888888,\"#fdca26\"],[1.0,\"#f0f921\"]]}],\"surface\":[{\"type\":\"surface\",\"colorbar\":{\"outlinewidth\":0,\"ticks\":\"\"},\"colorscale\":[[0.0,\"#0d0887\"],[0.1111111111111111,\"#46039f\"],[0.2222222222222222,\"#7201a8\"],[0.3333333333333333,\"#9c179e\"],[0.4444444444444444,\"#bd3786\"],[0.5555555555555556,\"#d8576b\"],[0.6666666666666666,\"#ed7953\"],[0.7777777777777778,\"#fb9f3a\"],[0.8888888888888888,\"#fdca26\"],[1.0,\"#f0f921\"]]}],\"mesh3d\":[{\"type\":\"mesh3d\",\"colorbar\":{\"outlinewidth\":0,\"ticks\":\"\"}}],\"scatter\":[{\"fillpattern\":{\"fillmode\":\"overlay\",\"size\":10,\"solidity\":0.2},\"type\":\"scatter\"}],\"parcoords\":[{\"type\":\"parcoords\",\"line\":{\"colorbar\":{\"outlinewidth\":0,\"ticks\":\"\"}}}],\"scatterpolargl\":[{\"type\":\"scatterpolargl\",\"marker\":{\"colorbar\":{\"outlinewidth\":0,\"ticks\":\"\"}}}],\"bar\":[{\"error_x\":{\"color\":\"#2a3f5f\"},\"error_y\":{\"color\":\"#2a3f5f\"},\"marker\":{\"line\":{\"color\":\"#E5ECF6\",\"width\":0.5},\"pattern\":{\"fillmode\":\"overlay\",\"size\":10,\"solidity\":0.2}},\"type\":\"bar\"}],\"scattergeo\":[{\"type\":\"scattergeo\",\"marker\":{\"colorbar\":{\"outlinewidth\":0,\"ticks\":\"\"}}}],\"scatterpolar\":[{\"type\":\"scatterpolar\",\"marker\":{\"colorbar\":{\"outlinewidth\":0,\"ticks\":\"\"}}}],\"histogram\":[{\"marker\":{\"pattern\":{\"fillmode\":\"overlay\",\"size\":10,\"solidity\":0.2}},\"type\":\"histogram\"}],\"scattergl\":[{\"type\":\"scattergl\",\"marker\":{\"colorbar\":{\"outlinewidth\":0,\"ticks\":\"\"}}}],\"scatter3d\":[{\"type\":\"scatter3d\",\"line\":{\"colorbar\":{\"outlinewidth\":0,\"ticks\":\"\"}},\"marker\":{\"colorbar\":{\"outlinewidth\":0,\"ticks\":\"\"}}}],\"scattermapbox\":[{\"type\":\"scattermapbox\",\"marker\":{\"colorbar\":{\"outlinewidth\":0,\"ticks\":\"\"}}}],\"scatterternary\":[{\"type\":\"scatterternary\",\"marker\":{\"colorbar\":{\"outlinewidth\":0,\"ticks\":\"\"}}}],\"scattercarpet\":[{\"type\":\"scattercarpet\",\"marker\":{\"colorbar\":{\"outlinewidth\":0,\"ticks\":\"\"}}}],\"carpet\":[{\"aaxis\":{\"endlinecolor\":\"#2a3f5f\",\"gridcolor\":\"white\",\"linecolor\":\"white\",\"minorgridcolor\":\"white\",\"startlinecolor\":\"#2a3f5f\"},\"baxis\":{\"endlinecolor\":\"#2a3f5f\",\"gridcolor\":\"white\",\"linecolor\":\"white\",\"minorgridcolor\":\"white\",\"startlinecolor\":\"#2a3f5f\"},\"type\":\"carpet\"}],\"table\":[{\"cells\":{\"fill\":{\"color\":\"#EBF0F8\"},\"line\":{\"color\":\"white\"}},\"header\":{\"fill\":{\"color\":\"#C8D4E3\"},\"line\":{\"color\":\"white\"}},\"type\":\"table\"}],\"barpolar\":[{\"marker\":{\"line\":{\"color\":\"#E5ECF6\",\"width\":0.5},\"pattern\":{\"fillmode\":\"overlay\",\"size\":10,\"solidity\":0.2}},\"type\":\"barpolar\"}],\"pie\":[{\"automargin\":true,\"type\":\"pie\"}]},\"layout\":{\"autotypenumbers\":\"strict\",\"colorway\":[\"#636efa\",\"#EF553B\",\"#00cc96\",\"#ab63fa\",\"#FFA15A\",\"#19d3f3\",\"#FF6692\",\"#B6E880\",\"#FF97FF\",\"#FECB52\"],\"font\":{\"color\":\"#2a3f5f\"},\"hovermode\":\"closest\",\"hoverlabel\":{\"align\":\"left\"},\"paper_bgcolor\":\"white\",\"plot_bgcolor\":\"#E5ECF6\",\"polar\":{\"bgcolor\":\"#E5ECF6\",\"angularaxis\":{\"gridcolor\":\"white\",\"linecolor\":\"white\",\"ticks\":\"\"},\"radialaxis\":{\"gridcolor\":\"white\",\"linecolor\":\"white\",\"ticks\":\"\"}},\"ternary\":{\"bgcolor\":\"#E5ECF6\",\"aaxis\":{\"gridcolor\":\"white\",\"linecolor\":\"white\",\"ticks\":\"\"},\"baxis\":{\"gridcolor\":\"white\",\"linecolor\":\"white\",\"ticks\":\"\"},\"caxis\":{\"gridcolor\":\"white\",\"linecolor\":\"white\",\"ticks\":\"\"}},\"coloraxis\":{\"colorbar\":{\"outlinewidth\":0,\"ticks\":\"\"}},\"colorscale\":{\"sequential\":[[0.0,\"#0d0887\"],[0.1111111111111111,\"#46039f\"],[0.2222222222222222,\"#7201a8\"],[0.3333333333333333,\"#9c179e\"],[0.4444444444444444,\"#bd3786\"],[0.5555555555555556,\"#d8576b\"],[0.6666666666666666,\"#ed7953\"],[0.7777777777777778,\"#fb9f3a\"],[0.8888888888888888,\"#fdca26\"],[1.0,\"#f0f921\"]],\"sequentialminus\":[[0.0,\"#0d0887\"],[0.1111111111111111,\"#46039f\"],[0.2222222222222222,\"#7201a8\"],[0.3333333333333333,\"#9c179e\"],[0.4444444444444444,\"#bd3786\"],[0.5555555555555556,\"#d8576b\"],[0.6666666666666666,\"#ed7953\"],[0.7777777777777778,\"#fb9f3a\"],[0.8888888888888888,\"#fdca26\"],[1.0,\"#f0f921\"]],\"diverging\":[[0,\"#8e0152\"],[0.1,\"#c51b7d\"],[0.2,\"#de77ae\"],[0.3,\"#f1b6da\"],[0.4,\"#fde0ef\"],[0.5,\"#f7f7f7\"],[0.6,\"#e6f5d0\"],[0.7,\"#b8e186\"],[0.8,\"#7fbc41\"],[0.9,\"#4d9221\"],[1,\"#276419\"]]},\"xaxis\":{\"gridcolor\":\"white\",\"linecolor\":\"white\",\"ticks\":\"\",\"title\":{\"standoff\":15},\"zerolinecolor\":\"white\",\"automargin\":true,\"zerolinewidth\":2},\"yaxis\":{\"gridcolor\":\"white\",\"linecolor\":\"white\",\"ticks\":\"\",\"title\":{\"standoff\":15},\"zerolinecolor\":\"white\",\"automargin\":true,\"zerolinewidth\":2},\"scene\":{\"xaxis\":{\"backgroundcolor\":\"#E5ECF6\",\"gridcolor\":\"white\",\"linecolor\":\"white\",\"showbackground\":true,\"ticks\":\"\",\"zerolinecolor\":\"white\",\"gridwidth\":2},\"yaxis\":{\"backgroundcolor\":\"#E5ECF6\",\"gridcolor\":\"white\",\"linecolor\":\"white\",\"showbackground\":true,\"ticks\":\"\",\"zerolinecolor\":\"white\",\"gridwidth\":2},\"zaxis\":{\"backgroundcolor\":\"#E5ECF6\",\"gridcolor\":\"white\",\"linecolor\":\"white\",\"showbackground\":true,\"ticks\":\"\",\"zerolinecolor\":\"white\",\"gridwidth\":2}},\"shapedefaults\":{\"line\":{\"color\":\"#2a3f5f\"}},\"annotationdefaults\":{\"arrowcolor\":\"#2a3f5f\",\"arrowhead\":0,\"arrowwidth\":1},\"geo\":{\"bgcolor\":\"white\",\"landcolor\":\"#E5ECF6\",\"subunitcolor\":\"white\",\"showland\":true,\"showlakes\":true,\"lakecolor\":\"white\"},\"title\":{\"x\":0.05},\"mapbox\":{\"style\":\"light\"}}},\"xaxis\":{\"anchor\":\"y\",\"domain\":[0.0,1.0],\"title\":{\"text\":\"Animation Studio Name\"}},\"yaxis\":{\"anchor\":\"x\",\"domain\":[0.0,1.0],\"title\":{\"text\":\"Number of Episodes\"}},\"legend\":{\"tracegroupgap\":0},\"title\":{\"text\":\"Anime plot\"}},                        {\"responsive\": true}                    ).then(function(){\n",
       "                            \n",
       "var gd = document.getElementById('aca31b4b-372b-47fa-bd0d-3abe912c5db4');\n",
       "var x = new MutationObserver(function (mutations, observer) {{\n",
       "        var display = window.getComputedStyle(gd).display;\n",
       "        if (!display || display === 'none') {{\n",
       "            console.log([gd, 'removed!']);\n",
       "            Plotly.purge(gd);\n",
       "            observer.disconnect();\n",
       "        }}\n",
       "}});\n",
       "\n",
       "// Listen for the removal of the full notebook cells\n",
       "var notebookContainer = gd.closest('#notebook-container');\n",
       "if (notebookContainer) {{\n",
       "    x.observe(notebookContainer, {childList: true});\n",
       "}}\n",
       "\n",
       "// Listen for the clearing of the current output cell\n",
       "var outputEl = gd.closest('.output');\n",
       "if (outputEl) {{\n",
       "    x.observe(outputEl, {childList: true});\n",
       "}}\n",
       "\n",
       "                        })                };                });            </script>        </div>"
      ]
     },
     "metadata": {},
     "output_type": "display_data"
    }
   ],
   "source": [
    "#Put your code here! \n",
    "fig= px.scatter(df2, x=\"Animation Studio Name\",  y=\"Number of Episodes\" ,title=\"Anime plot\",)\n",
    "fig.show()"
   ]
  },
  {
   "cell_type": "markdown",
   "id": "f73653ac",
   "metadata": {},
   "source": [
    "&#9989; **Question 3.6 (2 points)**: Looking at the above output, answer the following questions: \n",
    "\n",
    "1. Which studio has the highest median value for episodes to watch?\n",
    "2. Which studios have a median number of episodes under 190?\n"
   ]
  },
  {
   "cell_type": "markdown",
   "id": "3504aa6e",
   "metadata": {
    "question_id": "P2Q3",
    "tags": [
     "student_answer"
    ]
   },
   "source": [
    "**<font size=+3>&#9998;</font> Do This**: *Record your answers here.*"
   ]
  },
  {
   "cell_type": "markdown",
   "id": "d272b234",
   "metadata": {},
   "source": [
    "---\n",
    "### &#128721; STOP\n",
    "**Pause to commit your changes to your Git repository! (1 point)**\n",
    "\n",
    "Take a moment to save your notebook, commit the changes to your Git repository using the commit message \"**Committing Part 3**\", and push the changes to GitHub."
   ]
  },
  {
   "cell_type": "markdown",
   "id": "d59e4ea7",
   "metadata": {},
   "source": [
    "![keepgoing](https://media.giphy.com/media/XcAa52ejGuNqdb5SFQ/giphy.gif?cid=790b761114d73fop8879b63i6lpgjulam3sgmg7gib5vksnd&ep=v1_gifs_search&rid=giphy.gif&ct=g)"
   ]
  },
  {
   "cell_type": "markdown",
   "id": "e0e87d61",
   "metadata": {},
   "source": [
    "---\n",
    "<a id=\"part-4-object-oriented-programming-38-points\"></a>\n",
    "\n",
    "# Part 4: Object-Oriented Programming (38 points)\n",
    "\n",
    "[Back to Table of Contents](#Table-of-Contents)\n"
   ]
  },
  {
   "cell_type": "markdown",
   "id": "97cead65",
   "metadata": {},
   "source": [
    "&#9989; **Question 4.1 (9 points)**: The following cell contains a draft of a class called `Freezer` with only the `__init__` constructor. Complete the `__init__` constructor so that it:\n",
    "\n",
    "- Takes in these arguments: `size`,`color`,`location`,`temperature`, and `plugged_in` with default values on `temperature` and `plugged_in`. These arguments correspond to attributes of the same name. \n",
    "\n",
    "- The default value of `plugged_in`should be set to `True`. The default value of `temperature` should be set to an appropriate temperature of a freezer that is on. \n"
   ]
  },
  {
   "cell_type": "code",
   "execution_count": 87,
   "id": "e8bb368c",
   "metadata": {
    "question_id": "P3Q8",
    "tags": [
     "student_answer"
    ]
   },
   "outputs": [],
   "source": [
    "#Finish this code by adding to it and completing it! Change any places with a ??\n",
    "class Freezer:\n",
    "    \"\"\"Base class for freezers. \n",
    "    \n",
    "    Attributes\n",
    "    ----------\n",
    "    size : str\n",
    "        The size of the freezer. \n",
    "    \n",
    "    color : str\n",
    "        The color of the freezer. \n",
    "    \n",
    "    location : str\n",
    "        The location of the freezer. Could be 'kitchen', 'basement', 'garage' etc..\n",
    "    \n",
    "    temperature : float\n",
    "        The temperature of the freezer. By default should be temperature of a freezer that is on.\n",
    "    \n",
    "    plugged_in : boolean\n",
    "        If the freezer is plugged in or not. By default set to 'True' meaning it is plugged in and on.\n",
    "    temp_unit : str \n",
    "        The unit of temperature could be 'celsius', 'faranheit' 'kelvin' etc..\n",
    "    \"\"\"\n",
    "    def __init__(self,size,temp_unit,color,location,temperature=0,plugged_in = True,): \n",
    "        \"\"\"Initialize the freezer with its attributes \n",
    "        and set the initial temperature and plugged_in.\n",
    "        \n",
    "        Input Parameter\n",
    "        ---------------\n",
    "        size : str\n",
    "            The size of the freezer. \n",
    "        \n",
    "        color : str\n",
    "            The color of the freezer. \n",
    "    \n",
    "        location : str\n",
    "            The location of the freezer. Could be 'kitchen', 'basement', 'garage' etc..\n",
    "        \n",
    "        Default Parameter\n",
    "        -----------------\n",
    "        temperature : float\n",
    "            The temperature of the freezer. By default should be temperature of a freezer that is on.\n",
    "    \n",
    "        plugged_in : boolean\n",
    "            If the freezer is plugged in or not. By default set to 'True' meaning it is plugged in and on.\n",
    "        temp_unit : str \n",
    "        The unit of temperature could be 'celsius', 'faranheit' 'kelvin' etc..\"\"\"\n",
    "        \n",
    "        \n",
    "        # Put your code here\n",
    "        \n",
    "        self.size = size\n",
    "        self.color = color \n",
    "        self.temp_unit=temp_unit\n",
    "        self.location = location\n",
    "        self.temperature = temperature\n",
    "        self.plugged_in = plugged_in\n",
    "        \n",
    "    \n",
    "    \n",
    "    \n",
    "    #########################\n",
    "    #complete this later\n",
    "    \n",
    "def temp_convert(self, new_temp_unit):\n",
    "        \"\"\"Convert the current temperature to the desired unit.\n",
    "        \n",
    "        Input Parameter\n",
    "        ---------------\n",
    "        new_temp_unit : str\n",
    "            The unit to convert the temperature to. Can be one of the following:\n",
    "            'Celsius', 'Fahrenheit', 'Kelvin'.\n",
    "        \n",
    "        Converts the freezer's current temperature (in its current unit) to the new unit,\n",
    "        and updates both the temperature value and the temp_unit attribute.\n",
    "        \"\"\"\n",
    "        \n",
    "        if new_temp_unit == self.temp_unit:\n",
    "            print(f\"Temperature is already in {new_temp_unit}. No conversion needed.\")\n",
    "            return\n",
    "        \n",
    "        if self.temp_unit == \"Celsius\":\n",
    "            if new_temp_unit == \"Fahrenheit\":\n",
    "                self.temperature = self.temperature * 9/5 + 32\n",
    "            elif new_temp_unit == \"Kelvin\":\n",
    "                self.temperature = self.temperature + 273.15\n",
    "        \n",
    "        elif self.temp_unit == \"Fahrenheit\":\n",
    "            if new_temp_unit == \"Celsius\":\n",
    "                self.temperature = (self.temperature - 32) * 5/9\n",
    "            elif new_temp_unit == \"Kelvin\":\n",
    "                self.temperature = (self.temperature - 32) * 5/9 + 273.15\n",
    "        \n",
    "        elif self.temp_unit == \"Kelvin\":\n",
    "            if new_temp_unit == \"Celsius\":\n",
    "                self.temperature = self.temperature - 273.15\n",
    "            elif new_temp_unit == \"Fahrenheit\":\n",
    "                self.temperature = (self.temperature - 273.15) * 9/5 + 32\n",
    "        \n",
    "        # Update the temperature unit after conversion\n",
    "        self.temp_unit = new_temp_unit\n",
    "\n",
    "        print(f\"Temperature converted to {self.temperature:.2f} {new_temp_unit}.\")\n",
    "#used chatgpt to generate the temp convert function( asked chatgpt to generate based on the temp unit code that i made and gave the prompts needed) "
   ]
  },
  {
   "cell_type": "markdown",
   "id": "8ea7bbcf",
   "metadata": {},
   "source": [
    "## Test your code\n",
    "\n",
    "Let's check that the code works. Run the following cells. If an error is returned, go back and debug your code."
   ]
  },
  {
   "cell_type": "code",
   "execution_count": 88,
   "id": "b0155fe2",
   "metadata": {
    "question_id": "P3Q8",
    "tags": [
     "student_answer"
    ]
   },
   "outputs": [
    {
     "name": "stdout",
     "output_type": "stream",
     "text": [
      "full\n"
     ]
    },
    {
     "data": {
      "text/plain": [
       "0"
      ]
     },
     "execution_count": 88,
     "metadata": {},
     "output_type": "execute_result"
    }
   ],
   "source": [
    "#\n",
    "my_freezer = Freezer(color = \"white\", location = 'kitchen', size = \"full\",temp_unit=\"celsius\")\n",
    "\n",
    "print(my_freezer.size)\n",
    "my_freezer.temperature"
   ]
  },
  {
   "cell_type": "markdown",
   "id": "1898d751",
   "metadata": {},
   "source": [
    "&#9989; **Question 4.1.2 (1 point):** Oh no! We did not specify our unit of temperature when creating this class. Go back to your `Freezer` class and update your doc string to include information detailing which unit of temperature your `Freezer` class defaults to. After you have updated your doc string, paste your text that you added into the cell below.\n",
    "\n"
   ]
  },
  {
   "cell_type": "markdown",
   "id": "fc968cc2",
   "metadata": {},
   "source": [
    "Paste your added doc string text here \n",
    "temp_unit : str \n",
    "        The unit of temperature could be 'celsius', 'faranheit' 'kelvin' etc.."
   ]
  },
  {
   "cell_type": "markdown",
   "id": "84dfc2e7",
   "metadata": {},
   "source": [
    "&#9989; **Question 4.1.3 (5 points):** Now go back and add an additional attribute to your `Freezer` class inside of your `__init__` constructor called `temp_unit` that specifies your default temperature unit as a string. ('Celcius', 'Fahrenheight', or 'Kelvin'). make sure you update your doc string to reflect this change as well."
   ]
  },
  {
   "cell_type": "code",
   "execution_count": 89,
   "id": "5d091bff",
   "metadata": {},
   "outputs": [],
   "source": [
    "#paste your updated Freezer class code here \n",
    "temp_unit : str "
   ]
  },
  {
   "cell_type": "markdown",
   "id": "54fa1889",
   "metadata": {},
   "source": [
    "## Test your code\n",
    "\n",
    "Let's check that the code works. Run the following cells. "
   ]
  },
  {
   "cell_type": "code",
   "execution_count": 90,
   "id": "acb8fa7d",
   "metadata": {},
   "outputs": [
    {
     "data": {
      "text/plain": [
       "'celsius'"
      ]
     },
     "execution_count": 90,
     "metadata": {},
     "output_type": "execute_result"
    }
   ],
   "source": [
    "my_freezer = Freezer(color = \"white\", location = 'kitchen', size = \"full\", temp_unit =\"celsius\")\n",
    "my_freezer.temp_unit"
   ]
  },
  {
   "cell_type": "markdown",
   "id": "42e509f8",
   "metadata": {},
   "source": [
    "---\n",
    "&#9989; **Question 4.2 (20 points)**: Now let's work on a method in our `Freezer` class that focuses on the temperature. Modify the method in the `Freezer` class called `temp_convert` so that it takes the temperature attribute and converts it to a different temperature unit (either Celsius, Fahrenheight, or Kelvin).  \n",
    "\n",
    "- This `temp_convert` method should have one input parameter, as a string. This string paremeter will be the temperature unit to be converted to. \n",
    "\n",
    "- This `temp_convert` method should be able to convert from any of the three starting temperature units to another. \n",
    "\n",
    "- `temp_convert` should update the float value of the `temperature` attribute and the string value of the `temp_unit` as well. \n",
    "\n",
    "- `temp_convert` needs its doc string to be updated as well. Make sure you update the filler doc string to reflect what the method does/accomplishes along with information on the input parameters (what their data type is and what the data is).\n",
    "\n",
    "- **OPTIONAL** Can you include an output that says 'successful conversion' if both the `temperature` and `temp_unit` are changed, and an output that says 'unsuccessful conversion: either unit of temperature did not change from original, or unit of temperature does not exist (maybe check your spelling)' if both the `temperature` and `temp_unit` are not changed.\n",
    "        "
   ]
  },
  {
   "cell_type": "code",
   "execution_count": 95,
   "id": "0fd92830",
   "metadata": {
    "question_id": "P3Q8",
    "tags": [
     "student_answer"
    ]
   },
   "outputs": [],
   "source": [
    "#Copy your Freezer class here and then add/modify the `temp_convert` method. \n",
    "def temp_convert(self, new_temp_unit):\n",
    "        \"\"\"Convert the current temperature to the desired unit.\n",
    "        \n",
    "        Input Parameter\n",
    "        ---------------\n",
    "        new_temp_unit : str\n",
    "            The unit to convert the temperature to. Can be one of the following:\n",
    "            'Celsius', 'Fahrenheit', 'Kelvin'.\n",
    "        \n",
    "        Converts the freezer's current temperature (in its current unit) to the new unit,\n",
    "        and updates both the temperature value and the temp_unit attribute.\n",
    "        \"\"\"\n",
    "        \n",
    "        if new_temp_unit == self.temp_unit:\n",
    "            print(f\"Temperature is already in {new_temp_unit}. No conversion needed.\")\n",
    "            return\n",
    "        \n",
    "        if self.temp_unit == \"Celsius\":\n",
    "            if new_temp_unit == \"Fahrenheit\":\n",
    "                self.temperature = self.temperature * 9/5 + 32\n",
    "            elif new_temp_unit == \"Kelvin\":\n",
    "                self.temperature = self.temperature + 273.15\n",
    "        \n",
    "        elif self.temp_unit == \"Fahrenheit\":\n",
    "            if new_temp_unit == \"Celsius\":\n",
    "                self.temperature = (self.temperature - 32) * 5/9\n",
    "            elif new_temp_unit == \"Kelvin\":\n",
    "                self.temperature = (self.temperature - 32) * 5/9 + 273.15\n",
    "        \n",
    "        elif self.temp_unit == \"Kelvin\":\n",
    "            if new_temp_unit == \"Celsius\":\n",
    "                self.temperature = self.temperature - 273.15\n",
    "            elif new_temp_unit == \"Fahrenheit\":\n",
    "                self.temperature = (self.temperature - 273.15) * 9/5 + 32\n",
    "        \n",
    "        # Update the temperature unit after conversion\n",
    "        self.temp_unit = new_temp_unit\n",
    "\n",
    "        print(f\"Temperature converted to {self.temperature:.2f} {new_temp_unit}.\")"
   ]
  },
  {
   "cell_type": "markdown",
   "id": "f9a56d88",
   "metadata": {},
   "source": [
    "## Test your code\n",
    "\n",
    "Let's check that the code works. Run the following cell. If an error is returned, go back and debug your code!"
   ]
  },
  {
   "cell_type": "code",
   "execution_count": 96,
   "id": "aead8b37",
   "metadata": {
    "question_id": "P3Q8",
    "tags": [
     "student_answer"
    ]
   },
   "outputs": [
    {
     "ename": "TypeError",
     "evalue": "Freezer.__init__() got an unexpected keyword argument 'temp_convert'",
     "output_type": "error",
     "traceback": [
      "\u001b[0;31m---------------------------------------------------------------------------\u001b[0m",
      "\u001b[0;31mTypeError\u001b[0m                                 Traceback (most recent call last)",
      "Cell \u001b[0;32mIn[96], line 3\u001b[0m\n\u001b[1;32m      1\u001b[0m \u001b[38;5;66;03m# \u001b[39;00m\n\u001b[0;32m----> 3\u001b[0m new_freezer \u001b[38;5;241m=\u001b[39m \u001b[43mFreezer\u001b[49m\u001b[43m(\u001b[49m\u001b[43mcolor\u001b[49m\u001b[43m \u001b[49m\u001b[38;5;241;43m=\u001b[39;49m\u001b[43m \u001b[49m\u001b[38;5;124;43m\"\u001b[39;49m\u001b[38;5;124;43mwhite\u001b[39;49m\u001b[38;5;124;43m\"\u001b[39;49m\u001b[43m,\u001b[49m\u001b[43m \u001b[49m\u001b[43mlocation\u001b[49m\u001b[43m \u001b[49m\u001b[38;5;241;43m=\u001b[39;49m\u001b[43m \u001b[49m\u001b[38;5;124;43m'\u001b[39;49m\u001b[38;5;124;43mkitchen\u001b[39;49m\u001b[38;5;124;43m'\u001b[39;49m\u001b[43m,\u001b[49m\u001b[43m \u001b[49m\u001b[43msize\u001b[49m\u001b[43m \u001b[49m\u001b[38;5;241;43m=\u001b[39;49m\u001b[43m \u001b[49m\u001b[38;5;124;43m\"\u001b[39;49m\u001b[38;5;124;43mfull\u001b[39;49m\u001b[38;5;124;43m\"\u001b[39;49m\u001b[43m,\u001b[49m\u001b[43m \u001b[49m\u001b[43mtemp_unit\u001b[49m\u001b[43m \u001b[49m\u001b[38;5;241;43m=\u001b[39;49m\u001b[43m \u001b[49m\u001b[38;5;124;43m\"\u001b[39;49m\u001b[38;5;124;43mcelsius\u001b[39;49m\u001b[38;5;124;43m\"\u001b[39;49m\u001b[43m,\u001b[49m\u001b[43mtemp_convert\u001b[49m\u001b[43m \u001b[49m\u001b[38;5;241;43m=\u001b[39;49m\u001b[43m \u001b[49m\u001b[38;5;124;43m\"\u001b[39;49m\u001b[38;5;124;43mfaranheit\u001b[39;49m\u001b[38;5;124;43m\"\u001b[39;49m\u001b[43m \u001b[49m\u001b[43m)\u001b[49m\n\u001b[1;32m      4\u001b[0m \u001b[38;5;28mprint\u001b[39m(new_freezer\u001b[38;5;241m.\u001b[39mtemp_unit)\n\u001b[1;32m      5\u001b[0m \u001b[38;5;28mprint\u001b[39m(new_freezer\u001b[38;5;241m.\u001b[39mtemperature)\n",
      "\u001b[0;31mTypeError\u001b[0m: Freezer.__init__() got an unexpected keyword argument 'temp_convert'"
     ]
    }
   ],
   "source": [
    "# \n",
    "\n",
    "new_freezer = Freezer(color = \"white\", location = 'kitchen', size = \"full\", temp_unit = \"celsius\",temp_convert = \"faranheit\" )\n",
    "print(new_freezer.temp_unit)\n",
    "print(new_freezer.temperature)\n",
    "\n",
    "new_freezer.temp_convert(\"Celsius\")\n",
    "print(new_freezer.temp_unit)\n",
    "print(new_freezer.temperature)\n",
    "\n",
    "new_freezer.temp_convert(\"Kelvin\")\n",
    "print(new_freezer.temp_unit)\n",
    "print(new_freezer.temperature)\n",
    "\n",
    "new_freezer.temp_convert(\"Fahrenheight\")\n",
    "print(new_freezer.temp_unit)\n",
    "print(new_freezer.temperature)\n",
    "\n",
    "new_freezer.temp_convert(\"Kelvin\")\n",
    "print(new_freezer.temp_unit)\n",
    "print(new_freezer.temperature)\n",
    "\n",
    "new_freezer.temp_convert(\"Celsius\")\n",
    "print(new_freezer.temp_unit)\n",
    "print(new_freezer.temperature)\n",
    "\n",
    "new_freezer.temp_convert(\"Fahrenheight\")\n",
    "print(new_freezer.temp_unit)\n",
    "print(new_freezer.temperature)\n",
    "\n",
    "new_freezer.temp_convert(\"Celsius\")\n",
    "print(new_freezer.temp_unit)\n",
    "print(new_freezer.temperature)"
   ]
  },
  {
   "cell_type": "markdown",
   "id": "3e0cab0c",
   "metadata": {},
   "source": [
    "&#9989; **Question 4.3 (2 points):** How does your temperature attribute look when it is printed? Are there too many decimal places? How might you fix this? Either go back and update your code to make this fix or explain how you would make this fix in words. "
   ]
  },
  {
   "cell_type": "markdown",
   "id": "5772c1f0",
   "metadata": {},
   "source": [
    "**Put your answer here**"
   ]
  },
  {
   "cell_type": "markdown",
   "id": "59ddbb0c",
   "metadata": {},
   "source": [
    "---\n",
    "### &#128721; STOP\n",
    "**Pause to commit your changes to your Git repository! (1 point)**\n",
    "\n",
    "Take a moment to save your notebook, commit the changes to your Git repository using the commit message \"**Committing Part 4**\", and push the changes to GitHub.\n",
    "\n",
    "---"
   ]
  },
  {
   "cell_type": "markdown",
   "id": "5f544d19",
   "metadata": {},
   "source": [
    "---\n",
    "<a id=\"part-5-conclusion-3-points\"></a>\n",
    "\n",
    "# Part 5. Conclusion (3 points)\n",
    "\n",
    "[Back to Table of Contents](#Table-of-Contents)\n",
    "\n",
    "Make sure all of your changes to your repository are committed and pushed to GitHub. \n",
    "Before you leave\n",
    "\n",
    "1. Commit changes to your **local** `git` repository (1 point)\n",
    "\n",
    "2. Push the changes to your GitHub repository (1 point)\n",
    "\n",
    "3. Upload your notebook to D2L in case something went wrong with your repository or if you couldn't get the repository to work.  (1 point)"
   ]
  },
  {
   "cell_type": "markdown",
   "id": "56b3a4bb",
   "metadata": {},
   "source": [
    "Also, please take this mid-semester evaluation survey so I might try and correct my teaching for the rest of the term! https://forms.office.com/r/Ev2vGcz4Qq"
   ]
  },
  {
   "cell_type": "markdown",
   "id": "13e2870e",
   "metadata": {},
   "source": [
    "## You're done! Congrats on finishing your CMSE 202 Midterm! \n",
    "\n",
    "![Moira2](https://media.giphy.com/media/d1E2HnwywoTkES08/giphy.gif)"
   ]
  }
 ],
 "metadata": {
  "kernelspec": {
   "display_name": "Python 3.11 (default)",
   "language": "python",
   "name": "python3"
  },
  "language_info": {
   "codemirror_mode": {
    "name": "ipython",
    "version": 3
   },
   "file_extension": ".py",
   "mimetype": "text/x-python",
   "name": "python",
   "nbconvert_exporter": "python",
   "pygments_lexer": "ipython3",
   "version": "3.11.11"
  },
  "widgets": {
   "application/vnd.jupyter.widget-state+json": {
    "state": {},
    "version_major": 2,
    "version_minor": 0
   }
  }
 },
 "nbformat": 4,
 "nbformat_minor": 5
}
