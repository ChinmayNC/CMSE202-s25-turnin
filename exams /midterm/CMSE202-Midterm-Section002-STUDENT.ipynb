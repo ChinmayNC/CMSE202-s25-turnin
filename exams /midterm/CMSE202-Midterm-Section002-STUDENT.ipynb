{
 "cells": [
  {
   "cell_type": "markdown",
   "id": "d70b1917",
   "metadata": {},
   "source": [
    "### <p style=\"text-align: right;\"> &#9989; Chinmay Chouthai</p>\n",
    "### <p style=\"text-align: right;\"> &#9989; ChinmayNC</p>"
   ]
  },
  {
   "cell_type": "markdown",
   "id": "59201064",
   "metadata": {},
   "source": [
    "# CMSE 202 Midterm (Section 002 - SS25)\n",
    "\n",
    "\n",
    "# &#128721; READ EVERYTHING CAREFULLY\n",
    "\n",
    "\n",
    "The goal of this midterm is to give you the opportunity to test out some of the skills that you've developed thus far this semester. In particular, you'll practice setting up a GitHub repository, committing and pushing repository changes, downloading data with command line tools, performing some data analysis, possibly using a new Python package, and writing a python class. You should find that you have all of the skills necessary to complete this exam with even just eight weeks of CMSE 202 under your belt!\n",
    "\n",
    "You are encouraged to look through the entire exam before you get started so that you can appropriately budget your time and understand the broad goals of the exam. Once you've read through it, try doing Parts 1 and 2 first so that you have your repository set up and you download all necessary data files as they will be necessary to complete the assigned tasks. Let your instructor know right away if you have problems downloading the data!\n",
    "\n",
    "The exam is set up so that even if you get stuck on one part there are opportunities to get points on the other parts, so consider jumping ahead if you feel like you aren't making progress and then come back later if you have time.\n",
    "\n",
    "**Important note about using online resources**: This exam is **\"open internet\"**. That means that you can look up documentation, google how to accomplish certain Python tasks, reference and use your in-class assignments, pre-class assignments and homework, etc. Being able to effectively use the internet for computational modeling and data science is a very important skill, so we want to make sure you have the opportunity to exercise that skill. **However**: The use of any person-to-person communication software is absolutely not acceptable. If you are seen accessing your email, using a chat program (e.g. Slack), or any sort of collaborative cloud storage or document software (e.g. Google Documents), you will be at risk for receiving a zero on the exam.\n",
    "\n",
    "**Important Guidelines on AI Tool Usage**\n",
    "\n",
    "This exam allows the use of AI tools (such as ChatGPT, Claude, HiTA) with specific guidelines that mirror real-world professional practices. These tools should enhance your learning and problem-solving process, not replace your intellectual engagement. Here are the key requirements:\n",
    "\n",
    "1. **Appropriate Use of AI**:\n",
    "   - Use AI as a learning assistant to understand concepts, debug code, or get unstuck\n",
    "   - Use AI to improve your solution approach or verify your thinking\n",
    "   - Use AI to learn about new Python packages or functions you might need\n",
    "\n",
    "2. **Prohibited Uses**:\n",
    "   - Direct copying of AI-generated solutions without understanding\n",
    "   - Asking AI to complete entire questions without your intellectual input\n",
    "   - Using AI to modify provided starter code or test cases\n",
    "   - Using AI to circumvent learning objectives or problem requirements\n",
    "\n",
    "3. **Documentation Requirements**:\n",
    "   - You must cite any AI assistance received by adding a comment that includes:\n",
    "     * The AI tool used\n",
    "     * The specific question you asked\n",
    "     * How you modified or improved upon the AI's suggestion\n",
    "   - Example: \"# AI assistance: Used Claude to understand lmfit parameter initialization. Modified the suggested approach to include custom bounds.\"\n",
    "\n",
    "4. **Evaluation Implications**:\n",
    "   - Questions showing signs of direct AI solution copying will receive zero points\n",
    "   - Evidence of not following problem instructions, even if AI-suggested, will result in zero points\n",
    "   - Modified starter code or test cases will result in zero points for that question\n",
    "\n",
    "Remember: The goal is to demonstrate your understanding and problem-solving abilities. AI tools should support your learning, not replace your critical thinking and coding skills.\n",
    "\n",
    "**Note**: Traditional open internet resources (documentation, Stack Overflow, etc.) remain available, but person-to-person communication tools are not permitted.\"\n",
    "\n",
    "**Keep your eyes on your screen!** Unfortunately, there isn't enough space in the room for everyone to sit at their own table so please do your best to keep your eyes on your own screen. This exam is designed to give *you* the opportunity to show the instructor what you can do and you should hold yourself accountable for maintaining a high level of academic integrity. If any of the instructors observe suspicious behavior, you will, again, risk receiving a zero.\n",
    "\n",
    "The maximum number of points is: **88 Points**"
   ]
  },
  {
   "cell_type": "markdown",
   "id": "1134d11f",
   "metadata": {},
   "source": [
    "![star](https://media.giphy.com/media/xT9IgEYXCNqPZnqMuY/giphy.gif?cid=790b761114d73fop8879b63i6lpgjulam3sgmg7gib5vksnd&ep=v1_gifs_search&rid=giphy.gif&ct=g)"
   ]
  },
  {
   "cell_type": "markdown",
   "id": "1f1d868f",
   "metadata": {},
   "source": [
    "## Table of Contents\n",
    "\n",
    "Navigate through the midterm using these links:\n",
    "\n",
    "* [Part 0: Academic integrity statement (1 point)](#part-0-academic-integrity-statement-1-point)\n",
    "* [Part 1: Git and Command Line Interface (9 points)](#part-1-git-and-command-line-interface-9-points)\n",
    "* [Part 2: Working with a less familiar Python package (13 points)](#part-2-working-with-a-less-familiar-python-package-13-points)\n",
    "* [Part 3: Downloading and analyzing unfamiliar data (24 points)](#part-3-downloading-and-analyzing-unfamiliar-data-24-points)\n",
    "* [Part 4: Object-Oriented Programming (38 points)](#part-4-object-oriented-programming-38-points)\n",
    "* [Part 5. Conclusion (3 points)](#part-5-conclusion-3-points)"
   ]
  },
  {
   "cell_type": "markdown",
   "id": "b47a797c",
   "metadata": {},
   "source": [
    "---\n",
    "<a id=\"part-0-academic-integrity-statement-1-point\"></a>\n",
    "\n",
    "# Part 0: Academic integrity statement (1 point)\n",
    "\n",
    "[Back to Table of Contents](#Table-of-Contents)\n",
    "\n",
    "Read the following statement and edit the markdown text to put your name in the statement. This is your commitment to doing your own authentic work on this exam."
   ]
  },
  {
   "cell_type": "markdown",
   "id": "64f82697",
   "metadata": {},
   "source": [
    "> I, **Chinmay Chouthai **, affirm that this exam represents my own authetic work, without the use of any unpermitted aids or resources or person-to-person communication. I understand that this exam an an opportunity to showcase my own progress in developing and improving my computational skills and have done my best to demonstrate those skills."
   ]
  },
  {
   "cell_type": "markdown",
   "id": "aade4f33",
   "metadata": {},
   "source": [
    "---\n",
    "<a id=\"part-1-git-and-command-line-interface-9-points\"></a>\n",
    "\n",
    "# Part 1: Git and Command Line Interface (9 points)\n",
    "\n",
    "[Back to Table of Contents](#Table-of-Contents)\n",
    "\n",
    "## Setup Instructions\n",
    "\n",
    "Before starting this section:\n",
    "1. Open a new terminal/powershell/command prompt window\n",
    "2. (Optional) Arrange your screen with this notebook on the left side and the terminal on the right side. This split-screen setup will help you work efficiently between the notebook and terminal\n",
    "\n",
    "**Important**: Even if your terminal opens in the correct directory, you must write out the full commands as if starting from your home directory."
   ]
  },
  {
   "cell_type": "markdown",
   "id": "4757287d",
   "metadata": {},
   "source": [
    "&#9989; **Question 1.1 (2 points)**: Move into your `cmse202-s25-turnin` folder and verify your location. This folder should be the local one you created for your homework on Github. If you do not have this folder, raise your hand and we will help you set it up.\n",
    "\n",
    "Write the commands you used below (minimum 2 lines):"
   ]
  },
  {
   "cell_type": "markdown",
   "id": "efa27a7b",
   "metadata": {
    "question_id": "P1Q1",
    "tags": [
     "student_answer"
    ]
   },
   "source": [
    "**<font size=+3>&#9998;</font> cd CMSE202-s25-turnin \n",
    "mv CMSE202Midterm-section-002 CMSE202-s25-turnin "
   ]
  },
  {
   "cell_type": "markdown",
   "id": "2f2207da",
   "metadata": {},
   "source": [
    "&#9989; **Question 1.2 (2 points)**: Create the following directory structure in your repository:\n",
    "```\n",
    "cmse202-s25-turnin/\n",
    "    └── exams/\n",
    "        ├── midterm/\n",
    "        └── final/\n",
    "```\n",
    "Write the commands you used to create these folders:"
   ]
  },
  {
   "cell_type": "markdown",
   "id": "17cec07d",
   "metadata": {
    "question_id": "P1Q2",
    "tags": [
     "student_answer"
    ]
   },
   "source": [
    "**<font size=+3>&#9998;</font> mkdir exams cd exams mkdir midterm mkdir final "
   ]
  },
  {
   "cell_type": "markdown",
   "id": "9809047d",
   "metadata": {},
   "source": [
    "&#9989; **Question 1.3 (1 point)**: Write the commands to move this notebook into the `midterm` folder:"
   ]
  },
  {
   "cell_type": "markdown",
   "id": "b7c93a91",
   "metadata": {
    "question_id": "P1Q3",
    "tags": [
     "student_answer"
    ]
   },
   "source": [
    "**<font size=+3>&#9998;</font> cd midterm mv CMSE202-Midterm-Section002 midterm "
   ]
  },
  {
   "cell_type": "markdown",
   "id": "359a1ad0",
   "metadata": {},
   "source": [
    "&#9989; **Question 1.4 (2 points)**: Check your repository status.\n",
    "\n",
    "Write the command you used: git status "
   ]
  },
  {
   "cell_type": "markdown",
   "id": "32452880",
   "metadata": {
    "question_id": "P1Q4",
    "tags": [
     "student_answer"
    ]
   },
   "source": [
    "**<font size=+3>&#9998;</font> Do This**: On branch main\n",
    "Your branch is up to date with 'origin/main'.\n",
    "\n",
    "Changes not staged for commit:\n",
    "  (use \"git add <file>...\" to update what will be committed)\n",
    "  (use \"git restore <file>...\" to discard changes in working directory)\n",
    "        modified:   hw-01/HW-01_GitPracticeDebuggingPythonPackagesAndClasses-SS25-STUDENT.ipynb\n",
    "\n",
    "Untracked files:\n",
    "  (use \"git add <file>...\" to include in what will be committed)\n",
    "        exams /\n",
    "\n",
    "no changes added to commit (use \"git add\" and/or \"git commit -a\")\n",
    "(base) chouthai@io:~/Cmse202-sem2/CMSE202-s25-turnin$ "
   ]
  },
  {
   "cell_type": "markdown",
   "id": "fefc1655",
   "metadata": {
    "question_id": "P1Q4",
    "tags": [
     "student_answer"
    ]
   },
   "source": [
    "**<font size=+3>&#9998;</font> Do This**: *git status .*"
   ]
  },
  {
   "cell_type": "markdown",
   "id": "29792cc2",
   "metadata": {},
   "source": [
    "&#9989; **Question 1.5 (1 point)**: Do you have any untracked files? Confirm you don't have any untracked files. The only file we want to track is CMSE202-Midterm-Section001-STUDENT. Write down the commands used to either confirm you don't have any untracked files, or the commands you used to track your file."
   ]
  },
  {
   "cell_type": "markdown",
   "id": "94c946d5",
   "metadata": {
    "question_id": "P1Q5",
    "tags": [
     "student_answer"
    ]
   },
   "source": [
    "**<font size=+3>&#9998;</font> Do This**: ** git status "
   ]
  },
  {
   "cell_type": "markdown",
   "id": "6899637a",
   "metadata": {},
   "source": [
    "&#9989; **Question 1.6 (1 point)**: Commit your changes with the message \"Committing Part 1 of midterm\" and push to GitHub.\n",
    "\n",
    "Write the commands you used: git add . git commit -m \" commiting part 1 of midterm\" git push origin main "
   ]
  },
  {
   "cell_type": "markdown",
   "id": "106bd161",
   "metadata": {
    "question_id": "P1Q6",
    "tags": [
     "student_answer"
    ]
   },
   "source": [
    "**<font size=+3>&#9998;</font> Do This**: git add . git commit -m \" commiting part 1 of midterm\" git push origin main "
   ]
  },
  {
   "cell_type": "markdown",
   "id": "3021170c",
   "metadata": {},
   "source": [
    "**Important**: Double check you've added your Professor and your TA as collaborators to your \"turnin\" respository (you should have done this in the previous homework assignment)"
   ]
  },
  {
   "cell_type": "markdown",
   "id": "990abf6b",
   "metadata": {},
   "source": [
    "**Also important**: Make sure that the version of this notebook that you are working on is the same one that you just added to your repository! If you are working on a different copy of the noteobok, none of your changes will be tracked!"
   ]
  },
  {
   "cell_type": "markdown",
   "id": "b41bfa88",
   "metadata": {},
   "source": [
    "--- \n",
    "<a id=\"part-2-working-with-a-less-familiar-python-package-13-points\"></a>\n",
    "\n",
    "# Part 2: Working with a less familiar Python package (13 points)\n",
    "\n",
    "[Back to Table of Contents](#Table-of-Contents)\n",
    "\n",
    "In this part of the exam you will need to review a bit of documentation from either a Python package that you've explored a bit this semester or a new one.\n",
    "\n",
    "Let's install and use the plotly package"
   ]
  },
  {
   "cell_type": "markdown",
   "id": "5ad13a1b",
   "metadata": {},
   "source": [
    "&#9989; **Question 2.1 (2 points)**: Install the package `plotly` using `pip`. Here is the link to the [documentation]( https://plotly.com/python/)\n"
   ]
  },
  {
   "cell_type": "code",
   "execution_count": null,
   "id": "7cdc59fe",
   "metadata": {
    "question_id": "P1Q5",
    "tags": [
     "student_answer"
    ]
   },
   "outputs": [],
   "source": [
    "# Put your code/commands here  \n",
    "pip install plotly "
   ]
  },
  {
   "cell_type": "markdown",
   "id": "53fd0b11",
   "metadata": {},
   "source": [
    "&#9989; **Question 2.2 (2 points)**: Load in any dataset of your choice from [here]( https://plotly.com/python-api-reference/generated/plotly.data.html ). Assign this data as the variable \"my_plotly_data\" and then display this data."
   ]
  },
  {
   "cell_type": "code",
   "execution_count": 3,
   "id": "32d1b3d8",
   "metadata": {
    "question_id": "P1Q5",
    "tags": [
     "student_answer"
    ]
   },
   "outputs": [
    {
     "name": "stdout",
     "output_type": "stream",
     "text": [
      "     centroid_lat  centroid_lon    car_hours  peak_hour\n",
      "0       45.471549    -73.588684  1772.750000          2\n",
      "1       45.543865    -73.562456   986.333333         23\n",
      "2       45.487640    -73.642767   354.750000         20\n",
      "3       45.522870    -73.595677   560.166667         23\n",
      "4       45.453971    -73.738946  2836.666667         19\n",
      "..            ...           ...          ...        ...\n",
      "244     45.547171    -73.556258   951.416667          3\n",
      "245     45.546482    -73.574939   795.416667          2\n",
      "246     45.495523    -73.627725   425.750000          8\n",
      "247     45.521199    -73.581789  1044.833333         17\n",
      "248     45.532564    -73.567535   694.916667          5\n",
      "\n",
      "[249 rows x 4 columns]\n"
     ]
    }
   ],
   "source": [
    "# Put your code here \n",
    "import plotly as px\n",
    "my_plotly_data=px.data.carshare()\n",
    "print(my_plotly_data)"
   ]
  },
  {
   "cell_type": "markdown",
   "id": "76e7442e",
   "metadata": {},
   "source": [
    "#### &#9989; **Question 2.3 (6 points)**: Using plotly, create a figure that visualizes your data (or at least some parts of your data). Make sure there are appropriate labels like title, x-axis, and y-axis, etc. "
   ]
  },
  {
   "cell_type": "code",
   "execution_count": 11,
   "id": "cebca85c",
   "metadata": {
    "question_id": "P1Q5",
    "tags": [
     "student_answer"
    ]
   },
   "outputs": [
    {
     "data": {
      "application/vnd.plotly.v1+json": {
       "config": {
        "plotlyServerURL": "https://plot.ly"
       },
       "data": [
        {
         "hovertemplate": "centroid_lat=%{x}<br>centroid_lon=%{y}<br>car_hours=%{marker.color}<extra></extra>",
         "legendgroup": "",
         "marker": {
          "color": [
           1772.7499999995052,
           986.3333333335024,
           354.74999999998914,
           560.166666666642,
           2836.666666667356,
           1022.7500000001857,
           835.7500000001006,
           1888.3333333327332,
           1030.75000000018,
           1841.1666666661097,
           1966.166666665996,
           1532.9999999997233,
           834.1666666667666,
           289.0000000000041,
           273.58333333334093,
           594.8333333333244,
           1020.9166666668516,
           1428.4999999998183,
           670.7500000000256,
           489.4999999999585,
           1426.3333333331536,
           422.49999999997374,
           1624.7499999996398,
           732.7500000000538,
           1969.6666666659928,
           1657.9999999996096,
           665.5833333333566,
           805.08333333342,
           217.75000000000728,
           1332.583333333239,
           630.5000000000073,
           559.9999999999752,
           456.1666666666328,
           1185.8333333333724,
           1112.6666666667722,
           1016.5833333335162,
           1367.249999999874,
           1767.9999999995096,
           2291.9999999996985,
           552.8333333333053,
           1397.9166666665128,
           997.7500000001744,
           926.1666666668084,
           323.166666666663,
           833.0833333334327,
           1394.416666666516,
           601.7499999999942,
           1724.4999999995491,
           1061.5833333334854,
           325.74999999999574,
           1271.5833333332944,
           1951.0833333326764,
           961.4166666668244,
           507.83333333328767,
           679.6666666666963,
           734.833333333388,
           1057.4166666668225,
           262.8333333333434,
           1302.7499999999327,
           345.8333333333245,
           1543.3333333330472,
           630.7500000000074,
           1164.5833333333917,
           1676.9999999995923,
           1282.5833333332844,
           1019.000000000184,
           1719.1666666662206,
           681.5000000000305,
           287.66666666667106,
           1559.333333333033,
           627.4166666666725,
           1863.7499999994225,
           867.2500000001149,
           2413.4999999999195,
           1322.3333333332482,
           3274.0000000014848,
           1558.9166666663664,
           1902.416666666054,
           1609.166666666321,
           2773.250000000574,
           1940.6666666660192,
           1597.4999999996646,
           162.500000000001,
           1929.0833333326964,
           847.0000000001057,
           1522.7499999997326,
           635.3333333333428,
           2057.166666665938,
           845.9166666667719,
           2022.9166666659444,
           1598.7499999996635,
           566.8333333333117,
           1714.1666666662252,
           680.50000000003,
           1043.2500000001687,
           673.3333333333601,
           1105.750000000112,
           1382.9999999998597,
           531.4999999999623,
           635.0000000000093,
           2376.833333333186,
           462.4166666666313,
           1315.6666666665876,
           504.4166666666218,
           741.2500000000576,
           867.3333333334483,
           875.5833333334521,
           2188.1666666661763,
           1172.8333333333842,
           332.4999999999942,
           1351.749999999888,
           966.25000000016,
           981.750000000167,
           1714.3333333328917,
           813.833333333424,
           863.7500000001133,
           1202.1666666666908,
           665.0833333333563,
           2433.83333333329,
           1189.0000000000362,
           2298.583333333044,
           1414.9166666664971,
           476.4999999999615,
           766.3333333334024,
           2338.249999999782,
           1170.500000000053,
           716.0000000000462,
           1228.083333333334,
           511.8333333332868,
           1357.3333333332164,
           1144.0833333334103,
           292.5000000000033,
           1069.0833333334783,
           1552.333333333039,
           1029.9166666668475,
           2752.83333333387,
           2077.1666666659744,
           1167.8333333333887,
           658.2500000000199,
           741.7500000000579,
           520.4166666666239,
           2127.4999999993997,
           1093.2500000001232,
           1590.4166666663375,
           696.4166666667039,
           1286.8333333332805,
           1489.1666666664298,
           1796.91666666615,
           1298.2499999999368,
           921.583333333473,
           605.5833333333293,
           1245.1666666666515,
           1261.9166666666365,
           1705.4999999995664,
           1363.999999999877,
           790.9166666667469,
           1067.7500000001464,
           1320.4999999999166,
           1317.416666666586,
           1404.3333333331736,
           648.6666666666822,
           309.7499999999994,
           484.9999999999595,
           439.3333333333032,
           814.1666666667575,
           1264.4166666666342,
           655.583333333352,
           342.66666666665856,
           626.5000000000055,
           1059.9166666668202,
           321.66666666666333,
           676.4166666666948,
           201.9166666666721,
           1223.916666666671,
           1687.4166666662495,
           1112.583333333439,
           466.7499999999637,
           785.0833333334109,
           1800.833333332813,
           1364.5833333332098,
           2299.7499999997126,
           1038.7500000001728,
           722.8333333333826,
           1706.999999999565,
           1231.7499999999973,
           967.833333333494,
           1386.5833333331898,
           192.41666666667103,
           291.3333333333369,
           1370.9166666665374,
           605.4999999999959,
           194.08333333333792,
           538.7499999999656,
           33.24999999999985,
           1792.749999999487,
           737.0833333333891,
           1153.7500000000682,
           886.0000000001235,
           955.6666666668218,
           1071.2500000001432,
           748.2500000000608,
           1487.8333333330977,
           835.7500000001006,
           889.0000000001248,
           1337.4166666665678,
           1137.3333333334165,
           966.25000000016,
           1034.0000000001771,
           1499.6666666664205,
           503.58333333328864,
           894.9166666667942,
           1749.4166666661931,
           1879.749999999408,
           635.1666666666761,
           777.0833333334073,
           1202.9166666666902,
           560.4999999999754,
           790.3333333334133,
           797.5833333334166,
           1156.5000000000657,
           1462.9166666664537,
           1168.0833333333885,
           456.24999999996606,
           1019.7500000001844,
           1167.166666666723,
           478.0833333332944,
           1599.7499999996626,
           1578.0833333330156,
           494.49999999995737,
           1705.1666666662334,
           947.6666666668182,
           114.49999999999784,
           759.4166666667326,
           1567.6666666663584,
           547.9999999999698,
           978.3333333334988,
           673.08333333336,
           1354.666666666552,
           1355.1666666665517,
           898.0000000001289,
           701.6666666667063,
           873.1666666667843,
           235.41666666667595,
           998.6666666668414,
           951.41666666682,
           795.4166666667489,
           425.749999999973,
           1044.8333333335006,
           694.9166666667032
          ],
          "coloraxis": "coloraxis",
          "size": [
           1772.7499999995052,
           986.3333333335024,
           354.74999999998914,
           560.166666666642,
           2836.666666667356,
           1022.7500000001857,
           835.7500000001006,
           1888.3333333327332,
           1030.75000000018,
           1841.1666666661097,
           1966.166666665996,
           1532.9999999997233,
           834.1666666667666,
           289.0000000000041,
           273.58333333334093,
           594.8333333333244,
           1020.9166666668516,
           1428.4999999998183,
           670.7500000000256,
           489.4999999999585,
           1426.3333333331536,
           422.49999999997374,
           1624.7499999996398,
           732.7500000000538,
           1969.6666666659928,
           1657.9999999996096,
           665.5833333333566,
           805.08333333342,
           217.75000000000728,
           1332.583333333239,
           630.5000000000073,
           559.9999999999752,
           456.1666666666328,
           1185.8333333333724,
           1112.6666666667722,
           1016.5833333335162,
           1367.249999999874,
           1767.9999999995096,
           2291.9999999996985,
           552.8333333333053,
           1397.9166666665128,
           997.7500000001744,
           926.1666666668084,
           323.166666666663,
           833.0833333334327,
           1394.416666666516,
           601.7499999999942,
           1724.4999999995491,
           1061.5833333334854,
           325.74999999999574,
           1271.5833333332944,
           1951.0833333326764,
           961.4166666668244,
           507.83333333328767,
           679.6666666666963,
           734.833333333388,
           1057.4166666668225,
           262.8333333333434,
           1302.7499999999327,
           345.8333333333245,
           1543.3333333330472,
           630.7500000000074,
           1164.5833333333917,
           1676.9999999995923,
           1282.5833333332844,
           1019.000000000184,
           1719.1666666662206,
           681.5000000000305,
           287.66666666667106,
           1559.333333333033,
           627.4166666666725,
           1863.7499999994225,
           867.2500000001149,
           2413.4999999999195,
           1322.3333333332482,
           3274.0000000014848,
           1558.9166666663664,
           1902.416666666054,
           1609.166666666321,
           2773.250000000574,
           1940.6666666660192,
           1597.4999999996646,
           162.500000000001,
           1929.0833333326964,
           847.0000000001057,
           1522.7499999997326,
           635.3333333333428,
           2057.166666665938,
           845.9166666667719,
           2022.9166666659444,
           1598.7499999996635,
           566.8333333333117,
           1714.1666666662252,
           680.50000000003,
           1043.2500000001687,
           673.3333333333601,
           1105.750000000112,
           1382.9999999998597,
           531.4999999999623,
           635.0000000000093,
           2376.833333333186,
           462.4166666666313,
           1315.6666666665876,
           504.4166666666218,
           741.2500000000576,
           867.3333333334483,
           875.5833333334521,
           2188.1666666661763,
           1172.8333333333842,
           332.4999999999942,
           1351.749999999888,
           966.25000000016,
           981.750000000167,
           1714.3333333328917,
           813.833333333424,
           863.7500000001133,
           1202.1666666666908,
           665.0833333333563,
           2433.83333333329,
           1189.0000000000362,
           2298.583333333044,
           1414.9166666664971,
           476.4999999999615,
           766.3333333334024,
           2338.249999999782,
           1170.500000000053,
           716.0000000000462,
           1228.083333333334,
           511.8333333332868,
           1357.3333333332164,
           1144.0833333334103,
           292.5000000000033,
           1069.0833333334783,
           1552.333333333039,
           1029.9166666668475,
           2752.83333333387,
           2077.1666666659744,
           1167.8333333333887,
           658.2500000000199,
           741.7500000000579,
           520.4166666666239,
           2127.4999999993997,
           1093.2500000001232,
           1590.4166666663375,
           696.4166666667039,
           1286.8333333332805,
           1489.1666666664298,
           1796.91666666615,
           1298.2499999999368,
           921.583333333473,
           605.5833333333293,
           1245.1666666666515,
           1261.9166666666365,
           1705.4999999995664,
           1363.999999999877,
           790.9166666667469,
           1067.7500000001464,
           1320.4999999999166,
           1317.416666666586,
           1404.3333333331736,
           648.6666666666822,
           309.7499999999994,
           484.9999999999595,
           439.3333333333032,
           814.1666666667575,
           1264.4166666666342,
           655.583333333352,
           342.66666666665856,
           626.5000000000055,
           1059.9166666668202,
           321.66666666666333,
           676.4166666666948,
           201.9166666666721,
           1223.916666666671,
           1687.4166666662495,
           1112.583333333439,
           466.7499999999637,
           785.0833333334109,
           1800.833333332813,
           1364.5833333332098,
           2299.7499999997126,
           1038.7500000001728,
           722.8333333333826,
           1706.999999999565,
           1231.7499999999973,
           967.833333333494,
           1386.5833333331898,
           192.41666666667103,
           291.3333333333369,
           1370.9166666665374,
           605.4999999999959,
           194.08333333333792,
           538.7499999999656,
           33.24999999999985,
           1792.749999999487,
           737.0833333333891,
           1153.7500000000682,
           886.0000000001235,
           955.6666666668218,
           1071.2500000001432,
           748.2500000000608,
           1487.8333333330977,
           835.7500000001006,
           889.0000000001248,
           1337.4166666665678,
           1137.3333333334165,
           966.25000000016,
           1034.0000000001771,
           1499.6666666664205,
           503.58333333328864,
           894.9166666667942,
           1749.4166666661931,
           1879.749999999408,
           635.1666666666761,
           777.0833333334073,
           1202.9166666666902,
           560.4999999999754,
           790.3333333334133,
           797.5833333334166,
           1156.5000000000657,
           1462.9166666664537,
           1168.0833333333885,
           456.24999999996606,
           1019.7500000001844,
           1167.166666666723,
           478.0833333332944,
           1599.7499999996626,
           1578.0833333330156,
           494.49999999995737,
           1705.1666666662334,
           947.6666666668182,
           114.49999999999784,
           759.4166666667326,
           1567.6666666663584,
           547.9999999999698,
           978.3333333334988,
           673.08333333336,
           1354.666666666552,
           1355.1666666665517,
           898.0000000001289,
           701.6666666667063,
           873.1666666667843,
           235.41666666667595,
           998.6666666668414,
           951.41666666682,
           795.4166666667489,
           425.749999999973,
           1044.8333333335006,
           694.9166666667032
          ],
          "sizemode": "area",
          "sizeref": 8.185000000003711,
          "symbol": "circle"
         },
         "mode": "markers",
         "name": "",
         "orientation": "v",
         "showlegend": false,
         "type": "scatter",
         "x": [
          45.471548505146174,
          45.54386506674422,
          45.4876395818664,
          45.52286967122903,
          45.45397130964701,
          45.57312570194822,
          45.53005389171565,
          45.49919320522112,
          45.551300651627535,
          45.55380992033989,
          45.47448282698679,
          45.53249580289159,
          45.56545642757568,
          45.50298109284952,
          45.56711856838078,
          45.480026123563874,
          45.448903185047335,
          45.50303089895005,
          45.609667861846745,
          45.478348275451104,
          45.51951352944332,
          45.56903061932889,
          45.53626021131554,
          45.56857291481607,
          45.54614539811951,
          45.54488834188077,
          45.54515565293561,
          45.47817195218011,
          45.58212955989256,
          45.531215706332375,
          45.55267826328372,
          45.52915993898732,
          45.52404418524071,
          45.50851711032711,
          45.4880586878363,
          45.50689566111847,
          45.57894266654677,
          45.46892041666329,
          45.5386616499238,
          45.58530574012526,
          45.46252493114867,
          45.50814302347108,
          45.55224218643183,
          45.53306824136229,
          45.529617524254725,
          45.56172666348032,
          45.45886520703704,
          45.51827128926588,
          45.46330588193452,
          45.45722580199571,
          45.58042126024095,
          45.51220156451264,
          45.548176804195634,
          45.52792120774532,
          45.58971117459708,
          45.53066298367023,
          45.49780367877612,
          45.53978904565592,
          45.52977286764973,
          45.57635821927521,
          45.592896967066345,
          45.54282395560971,
          45.45146052808264,
          45.50017958704209,
          45.55959836008312,
          45.51405331206955,
          45.52098513669111,
          45.51969025678738,
          45.47196677288637,
          45.4940320553664,
          45.57383095629989,
          45.47270552917877,
          45.58204625444414,
          45.4810627259832,
          45.60751580853944,
          45.50429652950133,
          45.459862270272,
          45.550869209779385,
          45.52515960693799,
          45.50743686739271,
          45.54836167081622,
          45.53036120501041,
          45.49339463589723,
          45.49643413195211,
          45.561211827035706,
          45.55537527937125,
          45.52524090241434,
          45.542945623835706,
          45.465546068371886,
          45.51646059071524,
          45.53280566796844,
          45.47963265657448,
          45.45591463685107,
          45.54630844232351,
          45.49848094816177,
          45.528525372523454,
          45.56579154043406,
          45.53765718184978,
          45.47455332862991,
          45.5279051561684,
          45.494951534596034,
          45.465088224907866,
          45.59654571636812,
          45.491523525524194,
          45.51792291961748,
          45.46777843101408,
          45.51117458455963,
          45.54915899878871,
          45.535767560039695,
          45.49044848119951,
          45.538238804018775,
          45.5277041052173,
          45.534777091929946,
          45.48934750923581,
          45.45408718820735,
          45.472649739508654,
          45.55659444198,
          45.483089972430825,
          45.49619305656642,
          45.55742769063361,
          45.49971820106133,
          45.48523078626532,
          45.45863614550253,
          45.50110763484297,
          45.50643446059914,
          45.52764608144713,
          45.48910798882796,
          45.52543292800497,
          45.60326418430284,
          45.47822467091599,
          45.56923339719061,
          45.46715978062781,
          45.543842954244646,
          45.47954227936379,
          45.47510964560248,
          45.54858377217711,
          45.54415239549018,
          45.61087892678886,
          45.481028563111394,
          45.52753294236388,
          45.50713730344406,
          45.54445300313406,
          45.53978806387313,
          45.53344000001958,
          45.46746637549487,
          45.53453717264379,
          45.53658915333014,
          45.53429759356232,
          45.52410832338415,
          45.47265626277289,
          45.50559257327809,
          45.51901074555018,
          45.52540175130616,
          45.54048050327387,
          45.48335540200465,
          45.54220224528534,
          45.519876273318,
          45.55095552442233,
          45.51670639951611,
          45.53834507417609,
          45.54348593525155,
          45.49933518159919,
          45.57484789346844,
          45.47790745068288,
          45.54237585056225,
          45.46417997825538,
          45.48897149612501,
          45.570596118677166,
          45.549545481512375,
          45.56161463008111,
          45.48012052331579,
          45.546769706786165,
          45.47728503507936,
          45.582073874173176,
          45.53903174724877,
          45.510890621674776,
          45.51923221924688,
          45.55028382655888,
          45.554677131421606,
          45.509217063208105,
          45.54493929194947,
          45.55102553790574,
          45.46427660479596,
          45.53566818785226,
          45.5222319477743,
          45.53831624591015,
          45.47689750165655,
          45.55427699436827,
          45.54393996853523,
          45.54733066622103,
          45.53172990090744,
          45.52405372692176,
          45.52567648569128,
          45.45566288220533,
          45.514928037931,
          45.52875593668882,
          45.45893633874722,
          45.52339721689325,
          45.53380644488978,
          45.51698913885445,
          45.47417720458765,
          45.52430638232658,
          45.57221159337733,
          45.53143218128847,
          45.52029302323953,
          45.5428521988577,
          45.51177396205147,
          45.476699804159765,
          45.52527451544683,
          45.52904526725249,
          45.54589006890641,
          45.54129653265394,
          45.52641793678303,
          45.506014494884326,
          45.56249120965429,
          45.518606229301774,
          45.52203370353778,
          45.52409679671165,
          45.52247779646763,
          45.53961066076051,
          45.58895991968114,
          45.54559560319731,
          45.537473700456566,
          45.57342046906779,
          45.53557355419221,
          45.50192689559106,
          45.55114485440528,
          45.53782697365083,
          45.52940323053624,
          45.55301895367002,
          45.55058908283418,
          45.49619083697144,
          45.5389132118943,
          45.535798184139765,
          45.5313114537718,
          45.52036705536745,
          45.48313978581276,
          45.55297824741078,
          45.55430120710761,
          45.57092278674684,
          45.53361097030694,
          45.52227967073674,
          45.57044282123756,
          45.48626024282493,
          45.54717058947268,
          45.546481863801525,
          45.495523127814025,
          45.52119924708915,
          45.53256430507208
         ],
         "xaxis": "x",
         "y": [
          -73.58868408217266,
          -73.56245583980697,
          -73.64276703077329,
          -73.5956772508181,
          -73.73894559925054,
          -73.53990236454271,
          -73.62803605045727,
          -73.56194373919256,
          -73.61171191446698,
          -73.57720679008477,
          -73.63054396371925,
          -73.57956985159979,
          -73.64201176723445,
          -73.62748995674825,
          -73.58439300639695,
          -73.58239204679343,
          -73.59297686556374,
          -73.5790295367978,
          -73.54023161013792,
          -73.57856784133362,
          -73.5793289407554,
          -73.52573081459546,
          -73.56209061086564,
          -73.56084340953332,
          -73.59114755541647,
          -73.63562160484223,
          -73.6172218179539,
          -73.56778840803071,
          -73.5214125066963,
          -73.60636943656155,
          -73.60186065688765,
          -73.61182738988052,
          -73.57255202228934,
          -73.56361361279802,
          -73.62175707085048,
          -73.63992985736493,
          -73.5722622021108,
          -73.61587858172172,
          -73.65684895574016,
          -73.556671023514,
          -73.591450603879,
          -73.61443790111136,
          -73.5567248443471,
          -73.58586652140238,
          -73.59016001500189,
          -73.61316030479036,
          -73.65393428057348,
          -73.53518132112849,
          -73.63201646596775,
          -73.6471457252509,
          -73.62450277147559,
          -73.62439363857663,
          -73.57230388575367,
          -73.61477370856916,
          -73.5124596370787,
          -73.61566624177722,
          -73.64552238789666,
          -73.5647843753964,
          -73.57271916651166,
          -73.55658769397526,
          -73.56283021327646,
          -73.53978288809766,
          -73.60077524293251,
          -73.57356239315693,
          -73.53735411019554,
          -73.6328226471968,
          -73.5859649617064,
          -73.56818790168714,
          -73.645100544613,
          -73.61062703452248,
          -73.60414320228709,
          -73.60760805947412,
          -73.5329739761722,
          -73.56087334817683,
          -73.51375636627016,
          -73.56520883274013,
          -73.58285531458276,
          -73.617846092248,
          -73.6047044738415,
          -73.57429268607511,
          -73.58539717879967,
          -73.62029730985503,
          -73.62504495384513,
          -73.55267239661161,
          -73.5902004112542,
          -73.56930840912791,
          -73.59981458158266,
          -73.62128455035952,
          -73.62067736676947,
          -73.55492741665876,
          -73.64048496482262,
          -73.62987341664497,
          -73.63946019785875,
          -73.60685622581383,
          -73.61967423595867,
          -73.60153035519421,
          -73.59801021780002,
          -73.58232714569509,
          -73.637521859517,
          -73.5845589383217,
          -73.55953118048146,
          -73.65258509641737,
          -73.52593434063824,
          -73.63722045431894,
          -73.58980729398637,
          -73.63595141045859,
          -73.57114931189177,
          -73.63292319176229,
          -73.59674218487977,
          -73.64754965162766,
          -73.60597173479003,
          -73.57565350409223,
          -73.5728803879145,
          -73.57095543068031,
          -73.5871111898369,
          -73.5826189686433,
          -73.53214371066534,
          -73.63467979451553,
          -73.58337891052282,
          -73.60077343846366,
          -73.6544874970073,
          -73.61782510513464,
          -73.64348260405826,
          -73.63443884623427,
          -73.55280978474548,
          -73.59350797166334,
          -73.6314622358004,
          -73.62642522019199,
          -73.53716899543986,
          -73.6131691288042,
          -73.56970219899235,
          -73.64277864672295,
          -73.58224236729227,
          -73.54759113967883,
          -73.56317906950511,
          -73.57887887297544,
          -73.59658041602985,
          -73.53187026901544,
          -73.62384266869233,
          -73.58132388945315,
          -73.63043341873463,
          -73.54776346337367,
          -73.54278601036688,
          -73.5547199999811,
          -73.59078190259488,
          -73.59256240577943,
          -73.62157941242943,
          -73.61041764596348,
          -73.58731842223665,
          -73.62370107695057,
          -73.62277637402323,
          -73.57542843260613,
          -73.61022133725439,
          -73.63688048862373,
          -73.58250497434213,
          -73.61142929406647,
          -73.5829101943345,
          -73.59145464281357,
          -73.57855556771429,
          -73.57053862449274,
          -73.57027313720633,
          -73.62608825396849,
          -73.5635392336782,
          -73.62640937405116,
          -73.55538289355314,
          -73.62592082119164,
          -73.62783793313959,
          -73.52828137402979,
          -73.56715045890071,
          -73.57406730167698,
          -73.57250207253963,
          -73.53904284095108,
          -73.58122340486779,
          -73.54826893987729,
          -73.60093377104955,
          -73.57633721593862,
          -73.57244658989525,
          -73.60783357287939,
          -73.54632265433347,
          -73.61862500763353,
          -73.62750959017946,
          -73.56330138226609,
          -73.64748824071867,
          -73.56861361257508,
          -73.60012669507964,
          -73.57466650421921,
          -73.58830635134413,
          -73.62166601126063,
          -73.57394431922157,
          -73.60149624886525,
          -73.5764851307457,
          -73.5653588020603,
          -73.59003684764208,
          -73.64576984962405,
          -73.5716441021712,
          -73.57904510571099,
          -73.59639171903568,
          -73.60671288562885,
          -73.58376257412169,
          -73.58364027226557,
          -73.59403776813,
          -73.58198744370928,
          -73.54796924219626,
          -73.56470160854694,
          -73.59161297526235,
          -73.60552201275355,
          -73.63749469512531,
          -73.61960578900425,
          -73.5938625905676,
          -73.56435515803537,
          -73.613329142374,
          -73.58761174867594,
          -73.59653658066382,
          -73.62601031881215,
          -73.58319715388312,
          -73.59475241426874,
          -73.57113021855815,
          -73.57841797764475,
          -73.57478446870938,
          -73.62661841692122,
          -73.53758992480975,
          -73.5672399814485,
          -73.57729937169172,
          -73.6327727768197,
          -73.57917172211978,
          -73.62989603799815,
          -73.53770269990456,
          -73.61519170037559,
          -73.58716197505838,
          -73.58388794985183,
          -73.57424335824136,
          -73.62436735080055,
          -73.5792013969,
          -73.58664104188827,
          -73.58372215024325,
          -73.59761235604635,
          -73.57653648384526,
          -73.59484359129024,
          -73.56162491267922,
          -73.57715490720366,
          -73.60106645724453,
          -73.5684337774366,
          -73.52518192920604,
          -73.63860168141315,
          -73.55625786283633,
          -73.5749389146122,
          -73.62772501663683,
          -73.581789228748,
          -73.5675347056023
         ],
         "yaxis": "y"
        }
       ],
       "layout": {
        "coloraxis": {
         "colorbar": {
          "title": {
           "text": "car_hours"
          }
         },
         "colorscale": [
          [
           0,
           "#0d0887"
          ],
          [
           0.1111111111111111,
           "#46039f"
          ],
          [
           0.2222222222222222,
           "#7201a8"
          ],
          [
           0.3333333333333333,
           "#9c179e"
          ],
          [
           0.4444444444444444,
           "#bd3786"
          ],
          [
           0.5555555555555556,
           "#d8576b"
          ],
          [
           0.6666666666666666,
           "#ed7953"
          ],
          [
           0.7777777777777778,
           "#fb9f3a"
          ],
          [
           0.8888888888888888,
           "#fdca26"
          ],
          [
           1,
           "#f0f921"
          ]
         ]
        },
        "legend": {
         "itemsizing": "constant",
         "tracegroupgap": 0
        },
        "template": {
         "data": {
          "bar": [
           {
            "error_x": {
             "color": "#2a3f5f"
            },
            "error_y": {
             "color": "#2a3f5f"
            },
            "marker": {
             "line": {
              "color": "#E5ECF6",
              "width": 0.5
             },
             "pattern": {
              "fillmode": "overlay",
              "size": 10,
              "solidity": 0.2
             }
            },
            "type": "bar"
           }
          ],
          "barpolar": [
           {
            "marker": {
             "line": {
              "color": "#E5ECF6",
              "width": 0.5
             },
             "pattern": {
              "fillmode": "overlay",
              "size": 10,
              "solidity": 0.2
             }
            },
            "type": "barpolar"
           }
          ],
          "carpet": [
           {
            "aaxis": {
             "endlinecolor": "#2a3f5f",
             "gridcolor": "white",
             "linecolor": "white",
             "minorgridcolor": "white",
             "startlinecolor": "#2a3f5f"
            },
            "baxis": {
             "endlinecolor": "#2a3f5f",
             "gridcolor": "white",
             "linecolor": "white",
             "minorgridcolor": "white",
             "startlinecolor": "#2a3f5f"
            },
            "type": "carpet"
           }
          ],
          "choropleth": [
           {
            "colorbar": {
             "outlinewidth": 0,
             "ticks": ""
            },
            "type": "choropleth"
           }
          ],
          "contour": [
           {
            "colorbar": {
             "outlinewidth": 0,
             "ticks": ""
            },
            "colorscale": [
             [
              0,
              "#0d0887"
             ],
             [
              0.1111111111111111,
              "#46039f"
             ],
             [
              0.2222222222222222,
              "#7201a8"
             ],
             [
              0.3333333333333333,
              "#9c179e"
             ],
             [
              0.4444444444444444,
              "#bd3786"
             ],
             [
              0.5555555555555556,
              "#d8576b"
             ],
             [
              0.6666666666666666,
              "#ed7953"
             ],
             [
              0.7777777777777778,
              "#fb9f3a"
             ],
             [
              0.8888888888888888,
              "#fdca26"
             ],
             [
              1,
              "#f0f921"
             ]
            ],
            "type": "contour"
           }
          ],
          "contourcarpet": [
           {
            "colorbar": {
             "outlinewidth": 0,
             "ticks": ""
            },
            "type": "contourcarpet"
           }
          ],
          "heatmap": [
           {
            "colorbar": {
             "outlinewidth": 0,
             "ticks": ""
            },
            "colorscale": [
             [
              0,
              "#0d0887"
             ],
             [
              0.1111111111111111,
              "#46039f"
             ],
             [
              0.2222222222222222,
              "#7201a8"
             ],
             [
              0.3333333333333333,
              "#9c179e"
             ],
             [
              0.4444444444444444,
              "#bd3786"
             ],
             [
              0.5555555555555556,
              "#d8576b"
             ],
             [
              0.6666666666666666,
              "#ed7953"
             ],
             [
              0.7777777777777778,
              "#fb9f3a"
             ],
             [
              0.8888888888888888,
              "#fdca26"
             ],
             [
              1,
              "#f0f921"
             ]
            ],
            "type": "heatmap"
           }
          ],
          "heatmapgl": [
           {
            "colorbar": {
             "outlinewidth": 0,
             "ticks": ""
            },
            "colorscale": [
             [
              0,
              "#0d0887"
             ],
             [
              0.1111111111111111,
              "#46039f"
             ],
             [
              0.2222222222222222,
              "#7201a8"
             ],
             [
              0.3333333333333333,
              "#9c179e"
             ],
             [
              0.4444444444444444,
              "#bd3786"
             ],
             [
              0.5555555555555556,
              "#d8576b"
             ],
             [
              0.6666666666666666,
              "#ed7953"
             ],
             [
              0.7777777777777778,
              "#fb9f3a"
             ],
             [
              0.8888888888888888,
              "#fdca26"
             ],
             [
              1,
              "#f0f921"
             ]
            ],
            "type": "heatmapgl"
           }
          ],
          "histogram": [
           {
            "marker": {
             "pattern": {
              "fillmode": "overlay",
              "size": 10,
              "solidity": 0.2
             }
            },
            "type": "histogram"
           }
          ],
          "histogram2d": [
           {
            "colorbar": {
             "outlinewidth": 0,
             "ticks": ""
            },
            "colorscale": [
             [
              0,
              "#0d0887"
             ],
             [
              0.1111111111111111,
              "#46039f"
             ],
             [
              0.2222222222222222,
              "#7201a8"
             ],
             [
              0.3333333333333333,
              "#9c179e"
             ],
             [
              0.4444444444444444,
              "#bd3786"
             ],
             [
              0.5555555555555556,
              "#d8576b"
             ],
             [
              0.6666666666666666,
              "#ed7953"
             ],
             [
              0.7777777777777778,
              "#fb9f3a"
             ],
             [
              0.8888888888888888,
              "#fdca26"
             ],
             [
              1,
              "#f0f921"
             ]
            ],
            "type": "histogram2d"
           }
          ],
          "histogram2dcontour": [
           {
            "colorbar": {
             "outlinewidth": 0,
             "ticks": ""
            },
            "colorscale": [
             [
              0,
              "#0d0887"
             ],
             [
              0.1111111111111111,
              "#46039f"
             ],
             [
              0.2222222222222222,
              "#7201a8"
             ],
             [
              0.3333333333333333,
              "#9c179e"
             ],
             [
              0.4444444444444444,
              "#bd3786"
             ],
             [
              0.5555555555555556,
              "#d8576b"
             ],
             [
              0.6666666666666666,
              "#ed7953"
             ],
             [
              0.7777777777777778,
              "#fb9f3a"
             ],
             [
              0.8888888888888888,
              "#fdca26"
             ],
             [
              1,
              "#f0f921"
             ]
            ],
            "type": "histogram2dcontour"
           }
          ],
          "mesh3d": [
           {
            "colorbar": {
             "outlinewidth": 0,
             "ticks": ""
            },
            "type": "mesh3d"
           }
          ],
          "parcoords": [
           {
            "line": {
             "colorbar": {
              "outlinewidth": 0,
              "ticks": ""
             }
            },
            "type": "parcoords"
           }
          ],
          "pie": [
           {
            "automargin": true,
            "type": "pie"
           }
          ],
          "scatter": [
           {
            "fillpattern": {
             "fillmode": "overlay",
             "size": 10,
             "solidity": 0.2
            },
            "type": "scatter"
           }
          ],
          "scatter3d": [
           {
            "line": {
             "colorbar": {
              "outlinewidth": 0,
              "ticks": ""
             }
            },
            "marker": {
             "colorbar": {
              "outlinewidth": 0,
              "ticks": ""
             }
            },
            "type": "scatter3d"
           }
          ],
          "scattercarpet": [
           {
            "marker": {
             "colorbar": {
              "outlinewidth": 0,
              "ticks": ""
             }
            },
            "type": "scattercarpet"
           }
          ],
          "scattergeo": [
           {
            "marker": {
             "colorbar": {
              "outlinewidth": 0,
              "ticks": ""
             }
            },
            "type": "scattergeo"
           }
          ],
          "scattergl": [
           {
            "marker": {
             "colorbar": {
              "outlinewidth": 0,
              "ticks": ""
             }
            },
            "type": "scattergl"
           }
          ],
          "scattermapbox": [
           {
            "marker": {
             "colorbar": {
              "outlinewidth": 0,
              "ticks": ""
             }
            },
            "type": "scattermapbox"
           }
          ],
          "scatterpolar": [
           {
            "marker": {
             "colorbar": {
              "outlinewidth": 0,
              "ticks": ""
             }
            },
            "type": "scatterpolar"
           }
          ],
          "scatterpolargl": [
           {
            "marker": {
             "colorbar": {
              "outlinewidth": 0,
              "ticks": ""
             }
            },
            "type": "scatterpolargl"
           }
          ],
          "scatterternary": [
           {
            "marker": {
             "colorbar": {
              "outlinewidth": 0,
              "ticks": ""
             }
            },
            "type": "scatterternary"
           }
          ],
          "surface": [
           {
            "colorbar": {
             "outlinewidth": 0,
             "ticks": ""
            },
            "colorscale": [
             [
              0,
              "#0d0887"
             ],
             [
              0.1111111111111111,
              "#46039f"
             ],
             [
              0.2222222222222222,
              "#7201a8"
             ],
             [
              0.3333333333333333,
              "#9c179e"
             ],
             [
              0.4444444444444444,
              "#bd3786"
             ],
             [
              0.5555555555555556,
              "#d8576b"
             ],
             [
              0.6666666666666666,
              "#ed7953"
             ],
             [
              0.7777777777777778,
              "#fb9f3a"
             ],
             [
              0.8888888888888888,
              "#fdca26"
             ],
             [
              1,
              "#f0f921"
             ]
            ],
            "type": "surface"
           }
          ],
          "table": [
           {
            "cells": {
             "fill": {
              "color": "#EBF0F8"
             },
             "line": {
              "color": "white"
             }
            },
            "header": {
             "fill": {
              "color": "#C8D4E3"
             },
             "line": {
              "color": "white"
             }
            },
            "type": "table"
           }
          ]
         },
         "layout": {
          "annotationdefaults": {
           "arrowcolor": "#2a3f5f",
           "arrowhead": 0,
           "arrowwidth": 1
          },
          "autotypenumbers": "strict",
          "coloraxis": {
           "colorbar": {
            "outlinewidth": 0,
            "ticks": ""
           }
          },
          "colorscale": {
           "diverging": [
            [
             0,
             "#8e0152"
            ],
            [
             0.1,
             "#c51b7d"
            ],
            [
             0.2,
             "#de77ae"
            ],
            [
             0.3,
             "#f1b6da"
            ],
            [
             0.4,
             "#fde0ef"
            ],
            [
             0.5,
             "#f7f7f7"
            ],
            [
             0.6,
             "#e6f5d0"
            ],
            [
             0.7,
             "#b8e186"
            ],
            [
             0.8,
             "#7fbc41"
            ],
            [
             0.9,
             "#4d9221"
            ],
            [
             1,
             "#276419"
            ]
           ],
           "sequential": [
            [
             0,
             "#0d0887"
            ],
            [
             0.1111111111111111,
             "#46039f"
            ],
            [
             0.2222222222222222,
             "#7201a8"
            ],
            [
             0.3333333333333333,
             "#9c179e"
            ],
            [
             0.4444444444444444,
             "#bd3786"
            ],
            [
             0.5555555555555556,
             "#d8576b"
            ],
            [
             0.6666666666666666,
             "#ed7953"
            ],
            [
             0.7777777777777778,
             "#fb9f3a"
            ],
            [
             0.8888888888888888,
             "#fdca26"
            ],
            [
             1,
             "#f0f921"
            ]
           ],
           "sequentialminus": [
            [
             0,
             "#0d0887"
            ],
            [
             0.1111111111111111,
             "#46039f"
            ],
            [
             0.2222222222222222,
             "#7201a8"
            ],
            [
             0.3333333333333333,
             "#9c179e"
            ],
            [
             0.4444444444444444,
             "#bd3786"
            ],
            [
             0.5555555555555556,
             "#d8576b"
            ],
            [
             0.6666666666666666,
             "#ed7953"
            ],
            [
             0.7777777777777778,
             "#fb9f3a"
            ],
            [
             0.8888888888888888,
             "#fdca26"
            ],
            [
             1,
             "#f0f921"
            ]
           ]
          },
          "colorway": [
           "#636efa",
           "#EF553B",
           "#00cc96",
           "#ab63fa",
           "#FFA15A",
           "#19d3f3",
           "#FF6692",
           "#B6E880",
           "#FF97FF",
           "#FECB52"
          ],
          "font": {
           "color": "#2a3f5f"
          },
          "geo": {
           "bgcolor": "white",
           "lakecolor": "white",
           "landcolor": "#E5ECF6",
           "showlakes": true,
           "showland": true,
           "subunitcolor": "white"
          },
          "hoverlabel": {
           "align": "left"
          },
          "hovermode": "closest",
          "mapbox": {
           "style": "light"
          },
          "paper_bgcolor": "white",
          "plot_bgcolor": "#E5ECF6",
          "polar": {
           "angularaxis": {
            "gridcolor": "white",
            "linecolor": "white",
            "ticks": ""
           },
           "bgcolor": "#E5ECF6",
           "radialaxis": {
            "gridcolor": "white",
            "linecolor": "white",
            "ticks": ""
           }
          },
          "scene": {
           "xaxis": {
            "backgroundcolor": "#E5ECF6",
            "gridcolor": "white",
            "gridwidth": 2,
            "linecolor": "white",
            "showbackground": true,
            "ticks": "",
            "zerolinecolor": "white"
           },
           "yaxis": {
            "backgroundcolor": "#E5ECF6",
            "gridcolor": "white",
            "gridwidth": 2,
            "linecolor": "white",
            "showbackground": true,
            "ticks": "",
            "zerolinecolor": "white"
           },
           "zaxis": {
            "backgroundcolor": "#E5ECF6",
            "gridcolor": "white",
            "gridwidth": 2,
            "linecolor": "white",
            "showbackground": true,
            "ticks": "",
            "zerolinecolor": "white"
           }
          },
          "shapedefaults": {
           "line": {
            "color": "#2a3f5f"
           }
          },
          "ternary": {
           "aaxis": {
            "gridcolor": "white",
            "linecolor": "white",
            "ticks": ""
           },
           "baxis": {
            "gridcolor": "white",
            "linecolor": "white",
            "ticks": ""
           },
           "bgcolor": "#E5ECF6",
           "caxis": {
            "gridcolor": "white",
            "linecolor": "white",
            "ticks": ""
           }
          },
          "title": {
           "x": 0.05
          },
          "xaxis": {
           "automargin": true,
           "gridcolor": "white",
           "linecolor": "white",
           "ticks": "",
           "title": {
            "standoff": 15
           },
           "zerolinecolor": "white",
           "zerolinewidth": 2
          },
          "yaxis": {
           "automargin": true,
           "gridcolor": "white",
           "linecolor": "white",
           "ticks": "",
           "title": {
            "standoff": 15
           },
           "zerolinecolor": "white",
           "zerolinewidth": 2
          }
         }
        },
        "title": {
         "text": "Car Sharing Data: Latitude vs Longitude"
        },
        "xaxis": {
         "anchor": "y",
         "domain": [
          0,
          1
         ],
         "title": {
          "text": "centroid_lat"
         }
        },
        "yaxis": {
         "anchor": "x",
         "domain": [
          0,
          1
         ],
         "title": {
          "text": "centroid_lon"
         }
        }
       }
      },
      "image/png": "[encoded data removed]",
      "text/html": [
       "<div>                            <div id=\"a5dd9450-bc45-450c-87fd-1f610b106468\" class=\"plotly-graph-div\" style=\"height:525px; width:100%;\"></div>            <script type=\"text/javascript\">                require([\"plotly\"], function(Plotly) {                    window.PLOTLYENV=window.PLOTLYENV || {};                                    if (document.getElementById(\"a5dd9450-bc45-450c-87fd-1f610b106468\")) {                    Plotly.newPlot(                        \"a5dd9450-bc45-450c-87fd-1f610b106468\",                        [{\"hovertemplate\":\"centroid_lat=%{x}\\u003cbr\\u003ecentroid_lon=%{y}\\u003cbr\\u003ecar_hours=%{marker.color}\\u003cextra\\u003e\\u003c\\u002fextra\\u003e\",\"legendgroup\":\"\",\"marker\":{\"color\":[1772.7499999995052,986.3333333335024,354.74999999998914,560.166666666642,2836.666666667356,1022.7500000001857,835.7500000001006,1888.3333333327332,1030.75000000018,1841.1666666661097,1966.166666665996,1532.9999999997233,834.1666666667666,289.0000000000041,273.58333333334093,594.8333333333244,1020.9166666668516,1428.4999999998183,670.7500000000256,489.4999999999585,1426.3333333331536,422.49999999997374,1624.7499999996398,732.7500000000538,1969.6666666659928,1657.9999999996096,665.5833333333566,805.08333333342,217.75000000000728,1332.583333333239,630.5000000000073,559.9999999999752,456.1666666666328,1185.8333333333724,1112.6666666667722,1016.5833333335162,1367.249999999874,1767.9999999995096,2291.9999999996985,552.8333333333053,1397.9166666665128,997.7500000001744,926.1666666668084,323.166666666663,833.0833333334327,1394.416666666516,601.7499999999942,1724.4999999995491,1061.5833333334854,325.74999999999574,1271.5833333332944,1951.0833333326764,961.4166666668244,507.83333333328767,679.6666666666963,734.833333333388,1057.4166666668225,262.8333333333434,1302.7499999999327,345.8333333333245,1543.3333333330472,630.7500000000074,1164.5833333333917,1676.9999999995923,1282.5833333332844,1019.000000000184,1719.1666666662206,681.5000000000305,287.66666666667106,1559.333333333033,627.4166666666725,1863.7499999994225,867.2500000001149,2413.4999999999195,1322.3333333332482,3274.0000000014848,1558.9166666663664,1902.416666666054,1609.166666666321,2773.250000000574,1940.6666666660192,1597.4999999996646,162.500000000001,1929.0833333326964,847.0000000001057,1522.7499999997326,635.3333333333428,2057.166666665938,845.9166666667719,2022.9166666659444,1598.7499999996635,566.8333333333117,1714.1666666662252,680.50000000003,1043.2500000001687,673.3333333333601,1105.750000000112,1382.9999999998597,531.4999999999623,635.0000000000093,2376.833333333186,462.4166666666313,1315.6666666665876,504.4166666666218,741.2500000000576,867.3333333334483,875.5833333334521,2188.1666666661763,1172.8333333333842,332.4999999999942,1351.749999999888,966.25000000016,981.750000000167,1714.3333333328917,813.833333333424,863.7500000001133,1202.1666666666908,665.0833333333563,2433.83333333329,1189.0000000000362,2298.583333333044,1414.9166666664971,476.4999999999615,766.3333333334024,2338.249999999782,1170.500000000053,716.0000000000462,1228.083333333334,511.8333333332868,1357.3333333332164,1144.0833333334103,292.5000000000033,1069.0833333334783,1552.333333333039,1029.9166666668475,2752.83333333387,2077.1666666659744,1167.8333333333887,658.2500000000199,741.7500000000579,520.4166666666239,2127.4999999993997,1093.2500000001232,1590.4166666663375,696.4166666667039,1286.8333333332805,1489.1666666664298,1796.91666666615,1298.2499999999368,921.583333333473,605.5833333333293,1245.1666666666515,1261.9166666666365,1705.4999999995664,1363.999999999877,790.9166666667469,1067.7500000001464,1320.4999999999166,1317.416666666586,1404.3333333331736,648.6666666666822,309.7499999999994,484.9999999999595,439.3333333333032,814.1666666667575,1264.4166666666342,655.583333333352,342.66666666665856,626.5000000000055,1059.9166666668202,321.66666666666333,676.4166666666948,201.9166666666721,1223.916666666671,1687.4166666662495,1112.583333333439,466.7499999999637,785.0833333334109,1800.833333332813,1364.5833333332098,2299.7499999997126,1038.7500000001728,722.8333333333826,1706.999999999565,1231.7499999999973,967.833333333494,1386.5833333331898,192.41666666667103,291.3333333333369,1370.9166666665374,605.4999999999959,194.08333333333792,538.7499999999656,33.24999999999985,1792.749999999487,737.0833333333891,1153.7500000000682,886.0000000001235,955.6666666668218,1071.2500000001432,748.2500000000608,1487.8333333330977,835.7500000001006,889.0000000001248,1337.4166666665678,1137.3333333334165,966.25000000016,1034.0000000001771,1499.6666666664205,503.58333333328864,894.9166666667942,1749.4166666661931,1879.749999999408,635.1666666666761,777.0833333334073,1202.9166666666902,560.4999999999754,790.3333333334133,797.5833333334166,1156.5000000000657,1462.9166666664537,1168.0833333333885,456.24999999996606,1019.7500000001844,1167.166666666723,478.0833333332944,1599.7499999996626,1578.0833333330156,494.49999999995737,1705.1666666662334,947.6666666668182,114.49999999999784,759.4166666667326,1567.6666666663584,547.9999999999698,978.3333333334988,673.08333333336,1354.666666666552,1355.1666666665517,898.0000000001289,701.6666666667063,873.1666666667843,235.41666666667595,998.6666666668414,951.41666666682,795.4166666667489,425.749999999973,1044.8333333335006,694.9166666667032],\"coloraxis\":\"coloraxis\",\"size\":[1772.7499999995052,986.3333333335024,354.74999999998914,560.166666666642,2836.666666667356,1022.7500000001857,835.7500000001006,1888.3333333327332,1030.75000000018,1841.1666666661097,1966.166666665996,1532.9999999997233,834.1666666667666,289.0000000000041,273.58333333334093,594.8333333333244,1020.9166666668516,1428.4999999998183,670.7500000000256,489.4999999999585,1426.3333333331536,422.49999999997374,1624.7499999996398,732.7500000000538,1969.6666666659928,1657.9999999996096,665.5833333333566,805.08333333342,217.75000000000728,1332.583333333239,630.5000000000073,559.9999999999752,456.1666666666328,1185.8333333333724,1112.6666666667722,1016.5833333335162,1367.249999999874,1767.9999999995096,2291.9999999996985,552.8333333333053,1397.9166666665128,997.7500000001744,926.1666666668084,323.166666666663,833.0833333334327,1394.416666666516,601.7499999999942,1724.4999999995491,1061.5833333334854,325.74999999999574,1271.5833333332944,1951.0833333326764,961.4166666668244,507.83333333328767,679.6666666666963,734.833333333388,1057.4166666668225,262.8333333333434,1302.7499999999327,345.8333333333245,1543.3333333330472,630.7500000000074,1164.5833333333917,1676.9999999995923,1282.5833333332844,1019.000000000184,1719.1666666662206,681.5000000000305,287.66666666667106,1559.333333333033,627.4166666666725,1863.7499999994225,867.2500000001149,2413.4999999999195,1322.3333333332482,3274.0000000014848,1558.9166666663664,1902.416666666054,1609.166666666321,2773.250000000574,1940.6666666660192,1597.4999999996646,162.500000000001,1929.0833333326964,847.0000000001057,1522.7499999997326,635.3333333333428,2057.166666665938,845.9166666667719,2022.9166666659444,1598.7499999996635,566.8333333333117,1714.1666666662252,680.50000000003,1043.2500000001687,673.3333333333601,1105.750000000112,1382.9999999998597,531.4999999999623,635.0000000000093,2376.833333333186,462.4166666666313,1315.6666666665876,504.4166666666218,741.2500000000576,867.3333333334483,875.5833333334521,2188.1666666661763,1172.8333333333842,332.4999999999942,1351.749999999888,966.25000000016,981.750000000167,1714.3333333328917,813.833333333424,863.7500000001133,1202.1666666666908,665.0833333333563,2433.83333333329,1189.0000000000362,2298.583333333044,1414.9166666664971,476.4999999999615,766.3333333334024,2338.249999999782,1170.500000000053,716.0000000000462,1228.083333333334,511.8333333332868,1357.3333333332164,1144.0833333334103,292.5000000000033,1069.0833333334783,1552.333333333039,1029.9166666668475,2752.83333333387,2077.1666666659744,1167.8333333333887,658.2500000000199,741.7500000000579,520.4166666666239,2127.4999999993997,1093.2500000001232,1590.4166666663375,696.4166666667039,1286.8333333332805,1489.1666666664298,1796.91666666615,1298.2499999999368,921.583333333473,605.5833333333293,1245.1666666666515,1261.9166666666365,1705.4999999995664,1363.999999999877,790.9166666667469,1067.7500000001464,1320.4999999999166,1317.416666666586,1404.3333333331736,648.6666666666822,309.7499999999994,484.9999999999595,439.3333333333032,814.1666666667575,1264.4166666666342,655.583333333352,342.66666666665856,626.5000000000055,1059.9166666668202,321.66666666666333,676.4166666666948,201.9166666666721,1223.916666666671,1687.4166666662495,1112.583333333439,466.7499999999637,785.0833333334109,1800.833333332813,1364.5833333332098,2299.7499999997126,1038.7500000001728,722.8333333333826,1706.999999999565,1231.7499999999973,967.833333333494,1386.5833333331898,192.41666666667103,291.3333333333369,1370.9166666665374,605.4999999999959,194.08333333333792,538.7499999999656,33.24999999999985,1792.749999999487,737.0833333333891,1153.7500000000682,886.0000000001235,955.6666666668218,1071.2500000001432,748.2500000000608,1487.8333333330977,835.7500000001006,889.0000000001248,1337.4166666665678,1137.3333333334165,966.25000000016,1034.0000000001771,1499.6666666664205,503.58333333328864,894.9166666667942,1749.4166666661931,1879.749999999408,635.1666666666761,777.0833333334073,1202.9166666666902,560.4999999999754,790.3333333334133,797.5833333334166,1156.5000000000657,1462.9166666664537,1168.0833333333885,456.24999999996606,1019.7500000001844,1167.166666666723,478.0833333332944,1599.7499999996626,1578.0833333330156,494.49999999995737,1705.1666666662334,947.6666666668182,114.49999999999784,759.4166666667326,1567.6666666663584,547.9999999999698,978.3333333334988,673.08333333336,1354.666666666552,1355.1666666665517,898.0000000001289,701.6666666667063,873.1666666667843,235.41666666667595,998.6666666668414,951.41666666682,795.4166666667489,425.749999999973,1044.8333333335006,694.9166666667032],\"sizemode\":\"area\",\"sizeref\":8.185000000003711,\"symbol\":\"circle\"},\"mode\":\"markers\",\"name\":\"\",\"orientation\":\"v\",\"showlegend\":false,\"x\":[45.471548505146174,45.54386506674422,45.4876395818664,45.52286967122903,45.45397130964701,45.57312570194822,45.53005389171565,45.49919320522112,45.551300651627535,45.55380992033989,45.47448282698679,45.53249580289159,45.56545642757568,45.50298109284952,45.56711856838078,45.480026123563874,45.448903185047335,45.50303089895005,45.609667861846745,45.478348275451104,45.51951352944332,45.56903061932889,45.53626021131554,45.56857291481607,45.54614539811951,45.54488834188077,45.54515565293561,45.47817195218011,45.58212955989256,45.531215706332375,45.55267826328372,45.52915993898732,45.52404418524071,45.50851711032711,45.4880586878363,45.50689566111847,45.57894266654677,45.46892041666329,45.5386616499238,45.58530574012526,45.46252493114867,45.50814302347108,45.55224218643183,45.53306824136229,45.529617524254725,45.56172666348032,45.45886520703704,45.51827128926588,45.46330588193452,45.45722580199571,45.58042126024095,45.51220156451264,45.548176804195634,45.52792120774532,45.58971117459708,45.53066298367023,45.49780367877612,45.53978904565592,45.52977286764973,45.57635821927521,45.592896967066345,45.54282395560971,45.45146052808264,45.50017958704209,45.55959836008312,45.51405331206955,45.52098513669111,45.51969025678738,45.47196677288637,45.4940320553664,45.57383095629989,45.47270552917877,45.58204625444414,45.4810627259832,45.60751580853944,45.50429652950133,45.459862270272,45.550869209779385,45.52515960693799,45.50743686739271,45.54836167081622,45.53036120501041,45.49339463589723,45.49643413195211,45.561211827035706,45.55537527937125,45.52524090241434,45.542945623835706,45.465546068371886,45.51646059071524,45.53280566796844,45.47963265657448,45.45591463685107,45.54630844232351,45.49848094816177,45.528525372523454,45.56579154043406,45.53765718184978,45.47455332862991,45.5279051561684,45.494951534596034,45.465088224907866,45.59654571636812,45.491523525524194,45.51792291961748,45.46777843101408,45.51117458455963,45.54915899878871,45.535767560039695,45.49044848119951,45.538238804018775,45.5277041052173,45.534777091929946,45.48934750923581,45.45408718820735,45.472649739508654,45.55659444198,45.483089972430825,45.49619305656642,45.55742769063361,45.49971820106133,45.48523078626532,45.45863614550253,45.50110763484297,45.50643446059914,45.52764608144713,45.48910798882796,45.52543292800497,45.60326418430284,45.47822467091599,45.56923339719061,45.46715978062781,45.543842954244646,45.47954227936379,45.47510964560248,45.54858377217711,45.54415239549018,45.61087892678886,45.481028563111394,45.52753294236388,45.50713730344406,45.54445300313406,45.53978806387313,45.53344000001958,45.46746637549487,45.53453717264379,45.53658915333014,45.53429759356232,45.52410832338415,45.47265626277289,45.50559257327809,45.51901074555018,45.52540175130616,45.54048050327387,45.48335540200465,45.54220224528534,45.519876273318,45.55095552442233,45.51670639951611,45.53834507417609,45.54348593525155,45.49933518159919,45.57484789346844,45.47790745068288,45.54237585056225,45.46417997825538,45.48897149612501,45.570596118677166,45.549545481512375,45.56161463008111,45.48012052331579,45.546769706786165,45.47728503507936,45.582073874173176,45.53903174724877,45.510890621674776,45.51923221924688,45.55028382655888,45.554677131421606,45.509217063208105,45.54493929194947,45.55102553790574,45.46427660479596,45.53566818785226,45.5222319477743,45.53831624591015,45.47689750165655,45.55427699436827,45.54393996853523,45.54733066622103,45.53172990090744,45.52405372692176,45.52567648569128,45.45566288220533,45.514928037931,45.52875593668882,45.45893633874722,45.52339721689325,45.53380644488978,45.51698913885445,45.47417720458765,45.52430638232658,45.57221159337733,45.53143218128847,45.52029302323953,45.5428521988577,45.51177396205147,45.476699804159765,45.52527451544683,45.52904526725249,45.54589006890641,45.54129653265394,45.52641793678303,45.506014494884326,45.56249120965429,45.518606229301774,45.52203370353778,45.52409679671165,45.52247779646763,45.53961066076051,45.58895991968114,45.54559560319731,45.537473700456566,45.57342046906779,45.53557355419221,45.50192689559106,45.55114485440528,45.53782697365083,45.52940323053624,45.55301895367002,45.55058908283418,45.49619083697144,45.5389132118943,45.535798184139765,45.5313114537718,45.52036705536745,45.48313978581276,45.55297824741078,45.55430120710761,45.57092278674684,45.53361097030694,45.52227967073674,45.57044282123756,45.48626024282493,45.54717058947268,45.546481863801525,45.495523127814025,45.52119924708915,45.53256430507208],\"xaxis\":\"x\",\"y\":[-73.58868408217266,-73.56245583980697,-73.64276703077329,-73.5956772508181,-73.73894559925054,-73.53990236454271,-73.62803605045727,-73.56194373919256,-73.61171191446698,-73.57720679008477,-73.63054396371925,-73.57956985159979,-73.64201176723445,-73.62748995674825,-73.58439300639695,-73.58239204679343,-73.59297686556374,-73.5790295367978,-73.54023161013792,-73.57856784133362,-73.5793289407554,-73.52573081459546,-73.56209061086564,-73.56084340953332,-73.59114755541647,-73.63562160484223,-73.6172218179539,-73.56778840803071,-73.5214125066963,-73.60636943656155,-73.60186065688765,-73.61182738988052,-73.57255202228934,-73.56361361279802,-73.62175707085048,-73.63992985736493,-73.5722622021108,-73.61587858172172,-73.65684895574016,-73.556671023514,-73.591450603879,-73.61443790111136,-73.5567248443471,-73.58586652140238,-73.59016001500189,-73.61316030479036,-73.65393428057348,-73.53518132112849,-73.63201646596775,-73.6471457252509,-73.62450277147559,-73.62439363857663,-73.57230388575367,-73.61477370856916,-73.5124596370787,-73.61566624177722,-73.64552238789666,-73.5647843753964,-73.57271916651166,-73.55658769397526,-73.56283021327646,-73.53978288809766,-73.60077524293251,-73.57356239315693,-73.53735411019554,-73.6328226471968,-73.5859649617064,-73.56818790168714,-73.645100544613,-73.61062703452248,-73.60414320228709,-73.60760805947412,-73.5329739761722,-73.56087334817683,-73.51375636627016,-73.56520883274013,-73.58285531458276,-73.617846092248,-73.6047044738415,-73.57429268607511,-73.58539717879967,-73.62029730985503,-73.62504495384513,-73.55267239661161,-73.5902004112542,-73.56930840912791,-73.59981458158266,-73.62128455035952,-73.62067736676947,-73.55492741665876,-73.64048496482262,-73.62987341664497,-73.63946019785875,-73.60685622581383,-73.61967423595867,-73.60153035519421,-73.59801021780002,-73.58232714569509,-73.637521859517,-73.5845589383217,-73.55953118048146,-73.65258509641737,-73.52593434063824,-73.63722045431894,-73.58980729398637,-73.63595141045859,-73.57114931189177,-73.63292319176229,-73.59674218487977,-73.64754965162766,-73.60597173479003,-73.57565350409223,-73.5728803879145,-73.57095543068031,-73.5871111898369,-73.5826189686433,-73.53214371066534,-73.63467979451553,-73.58337891052282,-73.60077343846366,-73.6544874970073,-73.61782510513464,-73.64348260405826,-73.63443884623427,-73.55280978474548,-73.59350797166334,-73.6314622358004,-73.62642522019199,-73.53716899543986,-73.6131691288042,-73.56970219899235,-73.64277864672295,-73.58224236729227,-73.54759113967883,-73.56317906950511,-73.57887887297544,-73.59658041602985,-73.53187026901544,-73.62384266869233,-73.58132388945315,-73.63043341873463,-73.54776346337367,-73.54278601036688,-73.5547199999811,-73.59078190259488,-73.59256240577943,-73.62157941242943,-73.61041764596348,-73.58731842223665,-73.62370107695057,-73.62277637402323,-73.57542843260613,-73.61022133725439,-73.63688048862373,-73.58250497434213,-73.61142929406647,-73.5829101943345,-73.59145464281357,-73.57855556771429,-73.57053862449274,-73.57027313720633,-73.62608825396849,-73.5635392336782,-73.62640937405116,-73.55538289355314,-73.62592082119164,-73.62783793313959,-73.52828137402979,-73.56715045890071,-73.57406730167698,-73.57250207253963,-73.53904284095108,-73.58122340486779,-73.54826893987729,-73.60093377104955,-73.57633721593862,-73.57244658989525,-73.60783357287939,-73.54632265433347,-73.61862500763353,-73.62750959017946,-73.56330138226609,-73.64748824071867,-73.56861361257508,-73.60012669507964,-73.57466650421921,-73.58830635134413,-73.62166601126063,-73.57394431922157,-73.60149624886525,-73.5764851307457,-73.5653588020603,-73.59003684764208,-73.64576984962405,-73.5716441021712,-73.57904510571099,-73.59639171903568,-73.60671288562885,-73.58376257412169,-73.58364027226557,-73.59403776813,-73.58198744370928,-73.54796924219626,-73.56470160854694,-73.59161297526235,-73.60552201275355,-73.63749469512531,-73.61960578900425,-73.5938625905676,-73.56435515803537,-73.613329142374,-73.58761174867594,-73.59653658066382,-73.62601031881215,-73.58319715388312,-73.59475241426874,-73.57113021855815,-73.57841797764475,-73.57478446870938,-73.62661841692122,-73.53758992480975,-73.5672399814485,-73.57729937169172,-73.6327727768197,-73.57917172211978,-73.62989603799815,-73.53770269990456,-73.61519170037559,-73.58716197505838,-73.58388794985183,-73.57424335824136,-73.62436735080055,-73.5792013969,-73.58664104188827,-73.58372215024325,-73.59761235604635,-73.57653648384526,-73.59484359129024,-73.56162491267922,-73.57715490720366,-73.60106645724453,-73.5684337774366,-73.52518192920604,-73.63860168141315,-73.55625786283633,-73.5749389146122,-73.62772501663683,-73.581789228748,-73.5675347056023],\"yaxis\":\"y\",\"type\":\"scatter\"}],                        {\"template\":{\"data\":{\"histogram2dcontour\":[{\"type\":\"histogram2dcontour\",\"colorbar\":{\"outlinewidth\":0,\"ticks\":\"\"},\"colorscale\":[[0.0,\"#0d0887\"],[0.1111111111111111,\"#46039f\"],[0.2222222222222222,\"#7201a8\"],[0.3333333333333333,\"#9c179e\"],[0.4444444444444444,\"#bd3786\"],[0.5555555555555556,\"#d8576b\"],[0.6666666666666666,\"#ed7953\"],[0.7777777777777778,\"#fb9f3a\"],[0.8888888888888888,\"#fdca26\"],[1.0,\"#f0f921\"]]}],\"choropleth\":[{\"type\":\"choropleth\",\"colorbar\":{\"outlinewidth\":0,\"ticks\":\"\"}}],\"histogram2d\":[{\"type\":\"histogram2d\",\"colorbar\":{\"outlinewidth\":0,\"ticks\":\"\"},\"colorscale\":[[0.0,\"#0d0887\"],[0.1111111111111111,\"#46039f\"],[0.2222222222222222,\"#7201a8\"],[0.3333333333333333,\"#9c179e\"],[0.4444444444444444,\"#bd3786\"],[0.5555555555555556,\"#d8576b\"],[0.6666666666666666,\"#ed7953\"],[0.7777777777777778,\"#fb9f3a\"],[0.8888888888888888,\"#fdca26\"],[1.0,\"#f0f921\"]]}],\"heatmap\":[{\"type\":\"heatmap\",\"colorbar\":{\"outlinewidth\":0,\"ticks\":\"\"},\"colorscale\":[[0.0,\"#0d0887\"],[0.1111111111111111,\"#46039f\"],[0.2222222222222222,\"#7201a8\"],[0.3333333333333333,\"#9c179e\"],[0.4444444444444444,\"#bd3786\"],[0.5555555555555556,\"#d8576b\"],[0.6666666666666666,\"#ed7953\"],[0.7777777777777778,\"#fb9f3a\"],[0.8888888888888888,\"#fdca26\"],[1.0,\"#f0f921\"]]}],\"heatmapgl\":[{\"type\":\"heatmapgl\",\"colorbar\":{\"outlinewidth\":0,\"ticks\":\"\"},\"colorscale\":[[0.0,\"#0d0887\"],[0.1111111111111111,\"#46039f\"],[0.2222222222222222,\"#7201a8\"],[0.3333333333333333,\"#9c179e\"],[0.4444444444444444,\"#bd3786\"],[0.5555555555555556,\"#d8576b\"],[0.6666666666666666,\"#ed7953\"],[0.7777777777777778,\"#fb9f3a\"],[0.8888888888888888,\"#fdca26\"],[1.0,\"#f0f921\"]]}],\"contourcarpet\":[{\"type\":\"contourcarpet\",\"colorbar\":{\"outlinewidth\":0,\"ticks\":\"\"}}],\"contour\":[{\"type\":\"contour\",\"colorbar\":{\"outlinewidth\":0,\"ticks\":\"\"},\"colorscale\":[[0.0,\"#0d0887\"],[0.1111111111111111,\"#46039f\"],[0.2222222222222222,\"#7201a8\"],[0.3333333333333333,\"#9c179e\"],[0.4444444444444444,\"#bd3786\"],[0.5555555555555556,\"#d8576b\"],[0.6666666666666666,\"#ed7953\"],[0.7777777777777778,\"#fb9f3a\"],[0.8888888888888888,\"#fdca26\"],[1.0,\"#f0f921\"]]}],\"surface\":[{\"type\":\"surface\",\"colorbar\":{\"outlinewidth\":0,\"ticks\":\"\"},\"colorscale\":[[0.0,\"#0d0887\"],[0.1111111111111111,\"#46039f\"],[0.2222222222222222,\"#7201a8\"],[0.3333333333333333,\"#9c179e\"],[0.4444444444444444,\"#bd3786\"],[0.5555555555555556,\"#d8576b\"],[0.6666666666666666,\"#ed7953\"],[0.7777777777777778,\"#fb9f3a\"],[0.8888888888888888,\"#fdca26\"],[1.0,\"#f0f921\"]]}],\"mesh3d\":[{\"type\":\"mesh3d\",\"colorbar\":{\"outlinewidth\":0,\"ticks\":\"\"}}],\"scatter\":[{\"fillpattern\":{\"fillmode\":\"overlay\",\"size\":10,\"solidity\":0.2},\"type\":\"scatter\"}],\"parcoords\":[{\"type\":\"parcoords\",\"line\":{\"colorbar\":{\"outlinewidth\":0,\"ticks\":\"\"}}}],\"scatterpolargl\":[{\"type\":\"scatterpolargl\",\"marker\":{\"colorbar\":{\"outlinewidth\":0,\"ticks\":\"\"}}}],\"bar\":[{\"error_x\":{\"color\":\"#2a3f5f\"},\"error_y\":{\"color\":\"#2a3f5f\"},\"marker\":{\"line\":{\"color\":\"#E5ECF6\",\"width\":0.5},\"pattern\":{\"fillmode\":\"overlay\",\"size\":10,\"solidity\":0.2}},\"type\":\"bar\"}],\"scattergeo\":[{\"type\":\"scattergeo\",\"marker\":{\"colorbar\":{\"outlinewidth\":0,\"ticks\":\"\"}}}],\"scatterpolar\":[{\"type\":\"scatterpolar\",\"marker\":{\"colorbar\":{\"outlinewidth\":0,\"ticks\":\"\"}}}],\"histogram\":[{\"marker\":{\"pattern\":{\"fillmode\":\"overlay\",\"size\":10,\"solidity\":0.2}},\"type\":\"histogram\"}],\"scattergl\":[{\"type\":\"scattergl\",\"marker\":{\"colorbar\":{\"outlinewidth\":0,\"ticks\":\"\"}}}],\"scatter3d\":[{\"type\":\"scatter3d\",\"line\":{\"colorbar\":{\"outlinewidth\":0,\"ticks\":\"\"}},\"marker\":{\"colorbar\":{\"outlinewidth\":0,\"ticks\":\"\"}}}],\"scattermapbox\":[{\"type\":\"scattermapbox\",\"marker\":{\"colorbar\":{\"outlinewidth\":0,\"ticks\":\"\"}}}],\"scatterternary\":[{\"type\":\"scatterternary\",\"marker\":{\"colorbar\":{\"outlinewidth\":0,\"ticks\":\"\"}}}],\"scattercarpet\":[{\"type\":\"scattercarpet\",\"marker\":{\"colorbar\":{\"outlinewidth\":0,\"ticks\":\"\"}}}],\"carpet\":[{\"aaxis\":{\"endlinecolor\":\"#2a3f5f\",\"gridcolor\":\"white\",\"linecolor\":\"white\",\"minorgridcolor\":\"white\",\"startlinecolor\":\"#2a3f5f\"},\"baxis\":{\"endlinecolor\":\"#2a3f5f\",\"gridcolor\":\"white\",\"linecolor\":\"white\",\"minorgridcolor\":\"white\",\"startlinecolor\":\"#2a3f5f\"},\"type\":\"carpet\"}],\"table\":[{\"cells\":{\"fill\":{\"color\":\"#EBF0F8\"},\"line\":{\"color\":\"white\"}},\"header\":{\"fill\":{\"color\":\"#C8D4E3\"},\"line\":{\"color\":\"white\"}},\"type\":\"table\"}],\"barpolar\":[{\"marker\":{\"line\":{\"color\":\"#E5ECF6\",\"width\":0.5},\"pattern\":{\"fillmode\":\"overlay\",\"size\":10,\"solidity\":0.2}},\"type\":\"barpolar\"}],\"pie\":[{\"automargin\":true,\"type\":\"pie\"}]},\"layout\":{\"autotypenumbers\":\"strict\",\"colorway\":[\"#636efa\",\"#EF553B\",\"#00cc96\",\"#ab63fa\",\"#FFA15A\",\"#19d3f3\",\"#FF6692\",\"#B6E880\",\"#FF97FF\",\"#FECB52\"],\"font\":{\"color\":\"#2a3f5f\"},\"hovermode\":\"closest\",\"hoverlabel\":{\"align\":\"left\"},\"paper_bgcolor\":\"white\",\"plot_bgcolor\":\"#E5ECF6\",\"polar\":{\"bgcolor\":\"#E5ECF6\",\"angularaxis\":{\"gridcolor\":\"white\",\"linecolor\":\"white\",\"ticks\":\"\"},\"radialaxis\":{\"gridcolor\":\"white\",\"linecolor\":\"white\",\"ticks\":\"\"}},\"ternary\":{\"bgcolor\":\"#E5ECF6\",\"aaxis\":{\"gridcolor\":\"white\",\"linecolor\":\"white\",\"ticks\":\"\"},\"baxis\":{\"gridcolor\":\"white\",\"linecolor\":\"white\",\"ticks\":\"\"},\"caxis\":{\"gridcolor\":\"white\",\"linecolor\":\"white\",\"ticks\":\"\"}},\"coloraxis\":{\"colorbar\":{\"outlinewidth\":0,\"ticks\":\"\"}},\"colorscale\":{\"sequential\":[[0.0,\"#0d0887\"],[0.1111111111111111,\"#46039f\"],[0.2222222222222222,\"#7201a8\"],[0.3333333333333333,\"#9c179e\"],[0.4444444444444444,\"#bd3786\"],[0.5555555555555556,\"#d8576b\"],[0.6666666666666666,\"#ed7953\"],[0.7777777777777778,\"#fb9f3a\"],[0.8888888888888888,\"#fdca26\"],[1.0,\"#f0f921\"]],\"sequentialminus\":[[0.0,\"#0d0887\"],[0.1111111111111111,\"#46039f\"],[0.2222222222222222,\"#7201a8\"],[0.3333333333333333,\"#9c179e\"],[0.4444444444444444,\"#bd3786\"],[0.5555555555555556,\"#d8576b\"],[0.6666666666666666,\"#ed7953\"],[0.7777777777777778,\"#fb9f3a\"],[0.8888888888888888,\"#fdca26\"],[1.0,\"#f0f921\"]],\"diverging\":[[0,\"#8e0152\"],[0.1,\"#c51b7d\"],[0.2,\"#de77ae\"],[0.3,\"#f1b6da\"],[0.4,\"#fde0ef\"],[0.5,\"#f7f7f7\"],[0.6,\"#e6f5d0\"],[0.7,\"#b8e186\"],[0.8,\"#7fbc41\"],[0.9,\"#4d9221\"],[1,\"#276419\"]]},\"xaxis\":{\"gridcolor\":\"white\",\"linecolor\":\"white\",\"ticks\":\"\",\"title\":{\"standoff\":15},\"zerolinecolor\":\"white\",\"automargin\":true,\"zerolinewidth\":2},\"yaxis\":{\"gridcolor\":\"white\",\"linecolor\":\"white\",\"ticks\":\"\",\"title\":{\"standoff\":15},\"zerolinecolor\":\"white\",\"automargin\":true,\"zerolinewidth\":2},\"scene\":{\"xaxis\":{\"backgroundcolor\":\"#E5ECF6\",\"gridcolor\":\"white\",\"linecolor\":\"white\",\"showbackground\":true,\"ticks\":\"\",\"zerolinecolor\":\"white\",\"gridwidth\":2},\"yaxis\":{\"backgroundcolor\":\"#E5ECF6\",\"gridcolor\":\"white\",\"linecolor\":\"white\",\"showbackground\":true,\"ticks\":\"\",\"zerolinecolor\":\"white\",\"gridwidth\":2},\"zaxis\":{\"backgroundcolor\":\"#E5ECF6\",\"gridcolor\":\"white\",\"linecolor\":\"white\",\"showbackground\":true,\"ticks\":\"\",\"zerolinecolor\":\"white\",\"gridwidth\":2}},\"shapedefaults\":{\"line\":{\"color\":\"#2a3f5f\"}},\"annotationdefaults\":{\"arrowcolor\":\"#2a3f5f\",\"arrowhead\":0,\"arrowwidth\":1},\"geo\":{\"bgcolor\":\"white\",\"landcolor\":\"#E5ECF6\",\"subunitcolor\":\"white\",\"showland\":true,\"showlakes\":true,\"lakecolor\":\"white\"},\"title\":{\"x\":0.05},\"mapbox\":{\"style\":\"light\"}}},\"xaxis\":{\"anchor\":\"y\",\"domain\":[0.0,1.0],\"title\":{\"text\":\"centroid_lat\"}},\"yaxis\":{\"anchor\":\"x\",\"domain\":[0.0,1.0],\"title\":{\"text\":\"centroid_lon\"}},\"coloraxis\":{\"colorbar\":{\"title\":{\"text\":\"car_hours\"}},\"colorscale\":[[0.0,\"#0d0887\"],[0.1111111111111111,\"#46039f\"],[0.2222222222222222,\"#7201a8\"],[0.3333333333333333,\"#9c179e\"],[0.4444444444444444,\"#bd3786\"],[0.5555555555555556,\"#d8576b\"],[0.6666666666666666,\"#ed7953\"],[0.7777777777777778,\"#fb9f3a\"],[0.8888888888888888,\"#fdca26\"],[1.0,\"#f0f921\"]]},\"legend\":{\"tracegroupgap\":0,\"itemsizing\":\"constant\"},\"title\":{\"text\":\"Car Sharing Data: Latitude vs Longitude\"}},                        {\"responsive\": true}                    ).then(function(){\n",
       "                            \n",
       "var gd = document.getElementById('a5dd9450-bc45-450c-87fd-1f610b106468');\n",
       "var x = new MutationObserver(function (mutations, observer) {{\n",
       "        var display = window.getComputedStyle(gd).display;\n",
       "        if (!display || display === 'none') {{\n",
       "            console.log([gd, 'removed!']);\n",
       "            Plotly.purge(gd);\n",
       "            observer.disconnect();\n",
       "        }}\n",
       "}});\n",
       "\n",
       "// Listen for the removal of the full notebook cells\n",
       "var notebookContainer = gd.closest('#notebook-container');\n",
       "if (notebookContainer) {{\n",
       "    x.observe(notebookContainer, {childList: true});\n",
       "}}\n",
       "\n",
       "// Listen for the clearing of the current output cell\n",
       "var outputEl = gd.closest('.output');\n",
       "if (outputEl) {{\n",
       "    x.observe(outputEl, {childList: true});\n",
       "}}\n",
       "\n",
       "                        })                };                });            </script>        </div>"
      ]
     },
     "metadata": {},
     "output_type": "display_data"
    }
   ],
   "source": [
    "# Put your code here  \n",
    "import plotly.express as px\n",
    "fig= px.scatter(my_plotly_data, x=\"centroid_lat\",  y=\"centroid_lon\", size=\"car_hours\", color=\"car_hours\",title=\"Car Sharing Data: Latitude vs Longitude\",)\n",
    "fig.show()\n"
   ]
  },
  {
   "cell_type": "markdown",
   "id": "30af3464",
   "metadata": {},
   "source": [
    "#### &#9989; **Question 2.4 (2 points)**: How does your plot look? If you had more time to clean up this visualization, what changes would you make to it?"
   ]
  },
  {
   "cell_type": "markdown",
   "id": "4c3a05af",
   "metadata": {},
   "source": [
    "** it looks good if I had more time I would ** "
   ]
  },
  {
   "cell_type": "markdown",
   "id": "da4fb42d",
   "metadata": {},
   "source": [
    "---\n",
    "### &#128721; STOP\n",
    "**Pause to commit your changes to your Git repository! (1 point)**\n",
    "\n",
    "Take a moment to save your notebook, commit the changes to your Git repository using the commit message \"**Committing Part 2**\", and push the changes to GitHub."
   ]
  },
  {
   "cell_type": "markdown",
   "id": "c5db3757",
   "metadata": {},
   "source": [
    "----\n",
    "----\n",
    "\n",
    "<a id=\"part-3-downloading-and-analyzing-unfamiliar-data-24-points\"></a>\n",
    "\n",
    "# Part 3: Downloading and Analyzing unfamiliar data (24 points)\n",
    "\n",
    "[Back to Table of Contents](#Table-of-Contents)\n",
    "\n",
    "For this part of the exam, you're to download and analyze a dataset that you've likely not looked at before. You'll perform some simple, exploratorary analysis and create basic visualizations.\n",
    "\n",
    "In particular, you're going to be working with a dataset that contains data on 100 different animes.\n",
    "\n",
    "There are 9 columns; here we will be concerned with those described in the table below.\n",
    "\n",
    "| Column      | Description                                                                           |\n",
    "|-------------|---------------------------------------------------------------------------------------|\n",
    "|  Anime name       | The title of the anime series or movie that is the most watched in a given country.   |\n",
    "|Most watched in country|The country where the specified anime has the highest viewership or popularity.  |\n",
    "| Ratings    | The average viewer rating for the anime, typically on a scale of 1 to 10                |\n",
    "| Number of episodes     | The total number of episodes produced for the anime series.                       |\n",
    "| Studio name      | The name of the production studio responsible for creating the anime               |\n",
    "| Budget | The estimated production budget for the anime, expressed in millions of U.S. dollars.    |\n",
    "| Release year | The year the anime was first released or aired.                                    |\n",
    "| Genre      | The genre or category of the anime                                                |\n",
    "| Duration per episode| The average duration of each episode in minutes for the anime series.             |\n",
    "\n",
    "The link to the full dataset is [here](https://www.kaggle.com/datasets/samikshadalvi/100-most-watched-anime-in-the-world/data)\n",
    "\n"
   ]
  },
  {
   "cell_type": "markdown",
   "id": "7b7bf6af",
   "metadata": {},
   "source": [
    "&#9989; **Question 3.1.1 (1 point)**: To get started, use the curl command to download the data set using this link (https://raw.githubusercontent.com/gambre11/CMSE202/refs/heads/main/most_watched_anime_dataset_100_entries.csv) "
   ]
  },
  {
   "cell_type": "code",
   "execution_count": null,
   "id": "5c22a4c2",
   "metadata": {},
   "outputs": [],
   "source": [
    "# Put your code here"
   ]
  },
  {
   "cell_type": "markdown",
   "id": "de98c0c0",
   "metadata": {},
   "source": [
    "&#9989; **Question 3.1.2 (2 points)**: Now **read in the dataset** and then display the first 20 rows of the data using **Pandas**."
   ]
  },
  {
   "cell_type": "code",
   "execution_count": null,
   "id": "a70d19d8",
   "metadata": {
    "question_id": "P2Q3",
    "tags": [
     "student_answer"
    ]
   },
   "outputs": [],
   "source": [
    "# Put your code here"
   ]
  },
  {
   "cell_type": "markdown",
   "id": "2c863d2b",
   "metadata": {},
   "source": [
    "This dataset contains more information that we care about at the moment. \n",
    "\n",
    "&#9989; **Question 3.2 (3 pts)**: Remove/Drop the columns ''Genre, Duration per Episode (minutes), Most Watched in Country''\n"
   ]
  },
  {
   "cell_type": "code",
   "execution_count": null,
   "id": "169ed088",
   "metadata": {
    "question_id": "P2Q3",
    "tags": [
     "student_answer"
    ]
   },
   "outputs": [],
   "source": [
    "# Put your code here\n"
   ]
  },
  {
   "cell_type": "markdown",
   "id": "a088b448",
   "metadata": {},
   "source": [
    "&#9989; **Question 3.3 (5 points)**: Use built-in Pandas functions to get a quick statistical summary of your data (e.g. the mean, standard deviation, min, max, etc) **divided by Animation studio name .**"
   ]
  },
  {
   "cell_type": "code",
   "execution_count": null,
   "id": "3e915f6b",
   "metadata": {
    "execution": {
     "iopub.execute_input": "2025-02-23T19:30:31.886154Z",
     "iopub.status.busy": "2025-02-23T19:30:31.885866Z",
     "iopub.status.idle": "2025-02-23T19:30:31.888852Z",
     "shell.execute_reply": "2025-02-23T19:30:31.888308Z",
     "shell.execute_reply.started": "2025-02-23T19:30:31.886117Z"
    },
    "question_id": "P2Q3",
    "tags": [
     "student_answer"
    ]
   },
   "outputs": [],
   "source": [
    "# Put your code here\n",
    "\n",
    "#note this code may make dispalying your whole dataframe easier. uncomment to use\n",
    "#with pd.option_context('display.max_rows', None, 'display.max_columns', None): \n",
    "    #print(df)\n",
    "\n"
   ]
  },
  {
   "cell_type": "markdown",
   "id": "120ed4ef",
   "metadata": {},
   "source": [
    "&#9989; **Question 3.4 (2 points)**: Looking at the above output, answer the following questions: \n",
    "\n",
    "1. Which studio(s) had the lowest budget in this dataset?\n",
    "2. Which studio(s) had the latest release year?\n",
    "3. Which studio(s) had the least entries in this dataset?\n",
    "4. Which studio(s) had the lowest average rating in this dataset?"
   ]
  },
  {
   "cell_type": "markdown",
   "id": "9c8b55c9",
   "metadata": {
    "question_id": "P2Q3",
    "tags": [
     "student_answer"
    ]
   },
   "source": [
    "**<font size=+3>&#9998;</font> Do This**: *Record your answers here.*\n",
    "\n"
   ]
  },
  {
   "cell_type": "markdown",
   "id": "1042f9f9",
   "metadata": {},
   "source": [
    "&#9989; **Question 3.5 (8 points)**: Using `plotly` make a figure with boxplots showing each animation studio and their number of episodes : \n",
    "\n",
    "1. Make sure the `Animation Studio Name` is the  x-axis and it's labeled\n",
    "\n",
    "2. Give the plot a title\n",
    "\n",
    "3. Set a horizontal line on this plot at y = 190\n",
    "\n",
    "4. Set the background of the plot to be white instead of blue\n",
    "\n",
    "5. **Optional** Can you center the title and/or make each box plot a different color?"
   ]
  },
  {
   "cell_type": "code",
   "execution_count": null,
   "id": "37b6a904",
   "metadata": {},
   "outputs": [],
   "source": [
    "#Put your code here!"
   ]
  },
  {
   "cell_type": "markdown",
   "id": "f73653ac",
   "metadata": {},
   "source": [
    "&#9989; **Question 3.6 (2 points)**: Looking at the above output, answer the following questions: \n",
    "\n",
    "1. Which studio has the highest median value for episodes to watch?\n",
    "2. Which studios have a median number of episodes under 190?\n"
   ]
  },
  {
   "cell_type": "markdown",
   "id": "3504aa6e",
   "metadata": {
    "question_id": "P2Q3",
    "tags": [
     "student_answer"
    ]
   },
   "source": [
    "**<font size=+3>&#9998;</font> Do This**: *Record your answers here.*"
   ]
  },
  {
   "cell_type": "markdown",
   "id": "d272b234",
   "metadata": {},
   "source": [
    "---\n",
    "### &#128721; STOP\n",
    "**Pause to commit your changes to your Git repository! (1 point)**\n",
    "\n",
    "Take a moment to save your notebook, commit the changes to your Git repository using the commit message \"**Committing Part 3**\", and push the changes to GitHub."
   ]
  },
  {
   "cell_type": "markdown",
   "id": "d59e4ea7",
   "metadata": {},
   "source": [
    "![keepgoing](https://media.giphy.com/media/XcAa52ejGuNqdb5SFQ/giphy.gif?cid=790b761114d73fop8879b63i6lpgjulam3sgmg7gib5vksnd&ep=v1_gifs_search&rid=giphy.gif&ct=g)"
   ]
  },
  {
   "cell_type": "markdown",
   "id": "e0e87d61",
   "metadata": {},
   "source": [
    "---\n",
    "<a id=\"part-4-object-oriented-programming-38-points\"></a>\n",
    "\n",
    "# Part 4: Object-Oriented Programming (38 points)\n",
    "\n",
    "[Back to Table of Contents](#Table-of-Contents)\n"
   ]
  },
  {
   "cell_type": "markdown",
   "id": "97cead65",
   "metadata": {},
   "source": [
    "&#9989; **Question 4.1 (9 points)**: The following cell contains a draft of a class called `Freezer` with only the `__init__` constructor. Complete the `__init__` constructor so that it:\n",
    "\n",
    "- Takes in these arguments: `size`,`color`,`location`,`temperature`, and `plugged_in` with default values on `temperature` and `plugged_in`. These arguments correspond to attributes of the same name. \n",
    "\n",
    "- The default value of `plugged_in`should be set to `True`. The default value of `temperature` should be set to an appropriate temperature of a freezer that is on. \n"
   ]
  },
  {
   "cell_type": "code",
   "execution_count": null,
   "id": "e8bb368c",
   "metadata": {
    "question_id": "P3Q8",
    "tags": [
     "student_answer"
    ]
   },
   "outputs": [],
   "source": [
    "#Finish this code by adding to it and completing it! Change any places with a ??\n",
    "class Freezer:\n",
    "    \"\"\"Base class for freezers. \n",
    "    \n",
    "    Attributes\n",
    "    ----------\n",
    "    size : str\n",
    "        The size of the freezer. \n",
    "    \n",
    "    color : str\n",
    "        The color of the freezer. \n",
    "    \n",
    "    location : str\n",
    "        The location of the freezer. Could be 'kitchen', 'basement', 'garage' etc..\n",
    "    \n",
    "    temperature : float\n",
    "        The temperature of the freezer. By default should be temperature of a freezer that is on.\n",
    "    \n",
    "    plugged_in : boolean\n",
    "        If the freezer is plugged in or not. By default set to 'True' meaning it is plugged in and on.\n",
    "    \"\"\"\n",
    "    def __init__(self,size,color,location,temperature=??,plugged_in = ??): \n",
    "        \"\"\"Initialize the freezer with its attributes \n",
    "        and set the initial temperature and plugged_in.\n",
    "        \n",
    "        Input Parameter\n",
    "        ---------------\n",
    "        size : str\n",
    "            The size of the freezer. \n",
    "        \n",
    "        color : str\n",
    "            The color of the freezer. \n",
    "    \n",
    "        location : str\n",
    "            The location of the freezer. Could be 'kitchen', 'basement', 'garage' etc..\n",
    "        \n",
    "        Default Parameter\n",
    "        -----------------\n",
    "        temperature : float\n",
    "            The temperature of the freezer. By default should be temperature of a freezer that is on.\n",
    "    \n",
    "        plugged_in : boolean\n",
    "            If the freezer is plugged in or not. By default set to 'True' meaning it is plugged in and on.\"\"\"\n",
    "        \n",
    "        # Put your code here\n",
    "        \n",
    "        self.size = ??\n",
    "        self.color = ??\n",
    "        self.location = ??\n",
    "        self.temperature = ??\n",
    "        self.plugged_in = ??\n",
    "        \n",
    "    \n",
    "    \n",
    "    \n",
    "    #########################\n",
    "    #complete this later\n",
    "    \n",
    "    \n",
    "    def temp_convert(self,new_temp_unit):\n",
    "        \"\"\"Filler Doc String to be completed later\n",
    "        \n",
    "        Input Parameter\n",
    "        ---------------\n",
    "        \n",
    "        new_temp_unit : ??\n",
    "            ??\n",
    "            \"\"\"\n"
   ]
  },
  {
   "cell_type": "markdown",
   "id": "8ea7bbcf",
   "metadata": {},
   "source": [
    "## Test your code\n",
    "\n",
    "Let's check that the code works. Run the following cells. If an error is returned, go back and debug your code."
   ]
  },
  {
   "cell_type": "code",
   "execution_count": null,
   "id": "b0155fe2",
   "metadata": {
    "question_id": "P3Q8",
    "tags": [
     "student_answer"
    ]
   },
   "outputs": [],
   "source": [
    "#\n",
    "my_freezer = Freezer(color = \"white\", location = 'kitchen', size = \"full\")\n",
    "\n",
    "print(my_freezer.size)\n",
    "my_freezer.temperature"
   ]
  },
  {
   "cell_type": "markdown",
   "id": "1898d751",
   "metadata": {},
   "source": [
    "&#9989; **Question 4.1.2 (1 point):** Oh no! We did not specify our unit of temperature when creating this class. Go back to your `Freezer` class and update your doc string to include information detailing which unit of temperature your `Freezer` class defaults to. After you have updated your doc string, paste your text that you added into the cell below.\n",
    "\n"
   ]
  },
  {
   "cell_type": "markdown",
   "id": "fc968cc2",
   "metadata": {},
   "source": [
    "Paste your added doc string text here"
   ]
  },
  {
   "cell_type": "markdown",
   "id": "84dfc2e7",
   "metadata": {},
   "source": [
    "&#9989; **Question 4.1.3 (5 points):** Now go back and add an additional attribute to your `Freezer` class inside of your `__init__` constructor called `temp_unit` that specifies your default temperature unit as a string. ('Celcius', 'Fahrenheight', or 'Kelvin'). make sure you update your doc string to reflect this change as well."
   ]
  },
  {
   "cell_type": "code",
   "execution_count": null,
   "id": "5d091bff",
   "metadata": {},
   "outputs": [],
   "source": [
    "#paste your updated Freezer class code here"
   ]
  },
  {
   "cell_type": "markdown",
   "id": "54fa1889",
   "metadata": {},
   "source": [
    "## Test your code\n",
    "\n",
    "Let's check that the code works. Run the following cells. "
   ]
  },
  {
   "cell_type": "code",
   "execution_count": null,
   "id": "acb8fa7d",
   "metadata": {},
   "outputs": [],
   "source": [
    "my_freezer = Freezer(color = \"white\", location = 'kitchen', size = \"full\")\n",
    "my_freezer.temp_unit"
   ]
  },
  {
   "cell_type": "markdown",
   "id": "42e509f8",
   "metadata": {},
   "source": [
    "---\n",
    "&#9989; **Question 4.2 (20 points)**: Now let's work on a method in our `Freezer` class that focuses on the temperature. Modify the method in the `Freezer` class called `temp_convert` so that it takes the temperature attribute and converts it to a different temperature unit (either Celsius, Fahrenheight, or Kelvin).  \n",
    "\n",
    "- This `temp_convert` method should have one input parameter, as a string. This string paremeter will be the temperature unit to be converted to. \n",
    "\n",
    "- This `temp_convert` method should be able to convert from any of the three starting temperature units to another. \n",
    "\n",
    "- `temp_convert` should update the float value of the `temperature` attribute and the string value of the `temp_unit` as well. \n",
    "\n",
    "- `temp_convert` needs its doc string to be updated as well. Make sure you update the filler doc string to reflect what the method does/accomplishes along with information on the input parameters (what their data type is and what the data is).\n",
    "\n",
    "- **OPTIONAL** Can you include an output that says 'successful conversion' if both the `temperature` and `temp_unit` are changed, and an output that says 'unsuccessful conversion: either unit of temperature did not change from original, or unit of temperature does not exist (maybe check your spelling)' if both the `temperature` and `temp_unit` are not changed.\n",
    "        "
   ]
  },
  {
   "cell_type": "code",
   "execution_count": null,
   "id": "0fd92830",
   "metadata": {
    "question_id": "P3Q8",
    "tags": [
     "student_answer"
    ]
   },
   "outputs": [],
   "source": [
    "#Copy your Freezer class here and then add/modify the `temp_convert` method. "
   ]
  },
  {
   "cell_type": "markdown",
   "id": "f9a56d88",
   "metadata": {},
   "source": [
    "## Test your code\n",
    "\n",
    "Let's check that the code works. Run the following cell. If an error is returned, go back and debug your code!"
   ]
  },
  {
   "cell_type": "code",
   "execution_count": null,
   "id": "aead8b37",
   "metadata": {
    "question_id": "P3Q8",
    "tags": [
     "student_answer"
    ]
   },
   "outputs": [],
   "source": [
    "# \n",
    "\n",
    "new_freezer = Freezer(color = \"white\", location = 'kitchen', size = \"full\")\n",
    "print(new_freezer.temp_unit)\n",
    "print(new_freezer.temperature)\n",
    "\n",
    "new_freezer.temp_convert(\"Celsius\")\n",
    "print(new_freezer.temp_unit)\n",
    "print(new_freezer.temperature)\n",
    "\n",
    "new_freezer.temp_convert(\"Kelvin\")\n",
    "print(new_freezer.temp_unit)\n",
    "print(new_freezer.temperature)\n",
    "\n",
    "new_freezer.temp_convert(\"Fahrenheight\")\n",
    "print(new_freezer.temp_unit)\n",
    "print(new_freezer.temperature)\n",
    "\n",
    "new_freezer.temp_convert(\"Kelvin\")\n",
    "print(new_freezer.temp_unit)\n",
    "print(new_freezer.temperature)\n",
    "\n",
    "new_freezer.temp_convert(\"Celsius\")\n",
    "print(new_freezer.temp_unit)\n",
    "print(new_freezer.temperature)\n",
    "\n",
    "new_freezer.temp_convert(\"Fahrenheight\")\n",
    "print(new_freezer.temp_unit)\n",
    "print(new_freezer.temperature)\n",
    "\n",
    "new_freezer.temp_convert(\"Celsius\")\n",
    "print(new_freezer.temp_unit)\n",
    "print(new_freezer.temperature)"
   ]
  },
  {
   "cell_type": "markdown",
   "id": "3e0cab0c",
   "metadata": {},
   "source": [
    "&#9989; **Question 4.3 (2 points):** How does your temperature attribute look when it is printed? Are there too many decimal places? How might you fix this? Either go back and update your code to make this fix or explain how you would make this fix in words. "
   ]
  },
  {
   "cell_type": "markdown",
   "id": "5772c1f0",
   "metadata": {},
   "source": [
    "**Put your answer here**"
   ]
  },
  {
   "cell_type": "markdown",
   "id": "59ddbb0c",
   "metadata": {},
   "source": [
    "---\n",
    "### &#128721; STOP\n",
    "**Pause to commit your changes to your Git repository! (1 point)**\n",
    "\n",
    "Take a moment to save your notebook, commit the changes to your Git repository using the commit message \"**Committing Part 4**\", and push the changes to GitHub.\n",
    "\n",
    "---"
   ]
  },
  {
   "cell_type": "markdown",
   "id": "5f544d19",
   "metadata": {},
   "source": [
    "---\n",
    "<a id=\"part-5-conclusion-3-points\"></a>\n",
    "\n",
    "# Part 5. Conclusion (3 points)\n",
    "\n",
    "[Back to Table of Contents](#Table-of-Contents)\n",
    "\n",
    "Make sure all of your changes to your repository are committed and pushed to GitHub. \n",
    "Before you leave\n",
    "\n",
    "1. Commit changes to your **local** `git` repository (1 point)\n",
    "\n",
    "2. Push the changes to your GitHub repository (1 point)\n",
    "\n",
    "3. Upload your notebook to D2L in case something went wrong with your repository or if you couldn't get the repository to work.  (1 point)"
   ]
  },
  {
   "cell_type": "markdown",
   "id": "56b3a4bb",
   "metadata": {},
   "source": [
    "Also, please take this mid-semester evaluation survey so I might try and correct my teaching for the rest of the term! https://forms.office.com/r/Ev2vGcz4Qq"
   ]
  },
  {
   "cell_type": "markdown",
   "id": "13e2870e",
   "metadata": {},
   "source": [
    "## You're done! Congrats on finishing your CMSE 202 Midterm! \n",
    "\n",
    "![Moira2](https://media.giphy.com/media/d1E2HnwywoTkES08/giphy.gif)"
   ]
  }
 ],
 "metadata": {
  "kernelspec": {
   "display_name": "Python 3.11 (default)",
   "language": "python",
   "name": "python3"
  },
  "language_info": {
   "codemirror_mode": {
    "name": "ipython",
    "version": 3
   },
   "file_extension": ".py",
   "mimetype": "text/x-python",
   "name": "python",
   "nbconvert_exporter": "python",
   "pygments_lexer": "ipython3",
   "version": "3.11.11"
  },
  "widgets": {
   "application/vnd.jupyter.widget-state+json": {
    "state": {},
    "version_major": 2,
    "version_minor": 0
   }
  }
 },
 "nbformat": 4,
 "nbformat_minor": 5
}
